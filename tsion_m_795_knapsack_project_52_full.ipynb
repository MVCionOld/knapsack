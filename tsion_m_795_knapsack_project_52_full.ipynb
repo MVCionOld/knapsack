{
  "nbformat": 4,
  "nbformat_minor": 0,
  "metadata": {
    "colab": {
      "name": "tsion.m.795.knapsack.project.52.ipynb",
      "provenance": [],
      "collapsed_sections": [
        "8LA9KQQFmjlc",
        "qSSqJf08oqR5",
        "kcVz2Nj7oed_",
        "aJJxokwEoh-c",
        "8UrN8c6JnXnT",
        "NYFqGSEgN5uD",
        "IusVAN0SncxM",
        "cEj0TEJGIpKu",
        "fgcLL_L9nvL9",
        "_cDhUsPzoRtc",
        "vQ_zuiqcn03o",
        "49OMPjWsn6v7",
        "KYaj7iRllzid",
        "KA7m_1wioCFf",
        "de-8DPo3l1V7"
      ]
    },
    "kernelspec": {
      "name": "python3",
      "display_name": "Python 3"
    }
  },
  "cells": [
    {
      "cell_type": "markdown",
      "metadata": {
        "id": "IVJ2ITBfJtl2",
        "colab_type": "text"
      },
      "source": [
        "# Задача о рюкзаке  \n",
        "\n",
        "##### проект №52  \n",
        "\n",
        "\n",
        "### Выполнил: Михаил Цион, 795\n",
        "\n",
        "\n"
      ]
    },
    {
      "cell_type": "markdown",
      "metadata": {
        "id": "8LA9KQQFmjlc",
        "colab_type": "text"
      },
      "source": [
        "# Основные определения  "
      ]
    },
    {
      "cell_type": "markdown",
      "metadata": {
        "id": "n0XU1CMjJBiD",
        "colab_type": "text"
      },
      "source": [
        "> **Определение:** Машина распознаёт язык $A$ за время $T(n)$, если она принимает все слова, лежащие в $A$, отвергает все слова, не лежащие в $A$, и на каждом слове $x$ работает не больше $T (|x|)$ шагов.\n",
        "\n",
        "> **Определение:** Классом ${\\bf DTIME(T (n))}$ называется класс языков, которые распознаются за время $O(T(n))$ на детерминированной машине Тьюринга. Иными словами, время работы машины на любом слове длины $n$ не превосходит некоторой константы, умноженной на $T(n)$.\n",
        "\n",
        "> **Определение:** Классом ${\\bf P}$ называется множество языков, распознающихся за полиномиальное время. Формально он определяется так:\n",
        "$$P =\\bigcup\\limits_{c=1}^{\\infty} {\\bf DTIME(n^c)} $$\n",
        "\n",
        "> **Определение:** Классом ${\\bf NTIME(T(n))}$ называется множество языков, распознаваемых на недетерминированной машине Тьюринга за время $O(T(n)$).\n",
        "\n",
        "> **Определение:** Классом ${\\bf NP}$ называется множество языков $A$, для которых существует функция $V(x, s)$ с булевыми значениями, вычислимая за полиномиальное время от длины первого аргумента, такая что:\n",
        "*   Если $x \\in A$, то $ \\exists s \\hspace{2pt} V(x, s) = 1$;\n",
        "*   Если $x \\notin A$, то $ \\forall s \\hspace{2pt} V (x, s) = 0$.\n",
        "\n",
        "\n",
        "> **Определение:** Пусть $A$ и $B$ суть два языка. Тогда $A$ сводится по Карпу к $B$, если существует всюду определённая функция $f : \\{0, 1\\}^* \\longrightarrow \\{0, 1\\}^*$ , вычислимая за полиномиальное время, такая что $x \\in A \\longleftrightarrow f (x) \\in B$. Обозначение: $A \\leq_p B$ . (Индекс $p$ означает полиномиальность).\n",
        "\n",
        "> **Определение:** Язык $B$ является ${\\bf NP}$**-трудным**, если для любого $A \\in {\\bf NP}$ выполнено $A \\leq_p B$. Язык $B$ является ${\\bf NP}$**-полным**, если он ${\\bf NP}$**-трудный** и лежит в ${\\bf NP}$."
      ]
    },
    {
      "cell_type": "markdown",
      "metadata": {
        "id": "G4LJGlQumm9N",
        "colab_type": "text"
      },
      "source": [
        "# PROBLEM FORMULATION"
      ]
    },
    {
      "cell_type": "markdown",
      "metadata": {
        "id": "aGPdA545LTPj",
        "colab_type": "text"
      },
      "source": [
        "Дано:\n",
        "*   $n \\in \\mathbb{N}$ предметов\n",
        "*   $w_{i} > 0 -$ вес $i-$го предмета\n",
        "*   $c_{i} > 0 -$ cтоимость $i-$го предмета\n",
        "*   $W \\geq 0 -$ вместимость рюкзака  \n",
        "\n",
        "Требуется найти такое множество предметов $M=\\{(w_{j}, c_{j})| j \\in \\overline{1..n}\\} \\subseteq \\bigcup\\limits_{i=1}^{n} {\\{(w_{i}, c_{i})\\}}$, чтобы\n",
        "$\\sum\\limits_{(w, c) \\in M} w \\leq W$, $\\sum\\limits_{(w, c) \\in M} c \\longrightarrow \\max$. Допускается пустое множество предметов, т.е. $\\forall{i} \\in \\overline{1..n} \\space W < w_{i}$.\n",
        "\n",
        "Далее, задачу о рюкзаке будем называть просто ${\\bf KNAPSACK}$."
      ]
    },
    {
      "cell_type": "markdown",
      "metadata": {
        "id": "qSSqJf08oqR5",
        "colab_type": "text"
      },
      "source": [
        "# KNAPSACK $\\in$ NP-Complete"
      ]
    },
    {
      "cell_type": "markdown",
      "metadata": {
        "id": "fga_64CaPiT_",
        "colab_type": "text"
      },
      "source": [
        "Прежде, чем доказывать $\\textbf{NP}$**-полноту** для $\\textbf{KNAPSACK}$, сделаем переформулировку задачи, сведя нашу задачу к задачи распознования языка: к условию добавим константу $P \\geq 0$ и будем возвращать **1**, если $\\exists \\hspace{2pt} I \\subset \\overline{1..n}$ и выполнено:\n",
        "*   $\\sum\\limits_{i \\in I} w_i \\leq W$\n",
        "*   $\\sum\\limits_{i \\in I} c_i \\geq P$,  \n",
        "иначе возращаем **0**."
      ]
    },
    {
      "cell_type": "markdown",
      "metadata": {
        "id": "kcVz2Nj7oed_",
        "colab_type": "text"
      },
      "source": [
        "## KNAPSACK $\\in$ NP "
      ]
    },
    {
      "cell_type": "markdown",
      "metadata": {
        "id": "CGFkBRzdmts2",
        "colab_type": "text"
      },
      "source": [
        "Для доказательства принадлежности к $\\textbf{NP}$ воспользуемся сертификатным определением.  \n",
        "Возмем сертификат $s-$ поднабор $\\overline{1..n}$. Если $\\exists{I}$, удовлетворяющий требованиям выше, то $\\exists{s}$, который подадим на вход, как второй аргумент $V(\\cdot; \\cdot)$, а $V(\\cdot; s)$ проверит, что $I$ соответствует соотношениям выше.  \n",
        "   \n",
        "**Следовательно, KNAPSACK принадлежит NP.**"
      ]
    },
    {
      "cell_type": "markdown",
      "metadata": {
        "id": "aJJxokwEoh-c",
        "colab_type": "text"
      },
      "source": [
        "## KNAPSACK $\\in$ NP-Hard"
      ]
    },
    {
      "cell_type": "markdown",
      "metadata": {
        "id": "N9fHt-Vrmt7X",
        "colab_type": "text"
      },
      "source": [
        "Для начала, рассмотрим частный случай задачи о рюкзаке $-$ $\\textbf{SUBSETSUM}$.\n",
        "Пусть дано множество $S$, состоящее из $n$ чисел. Нужно выяснить, существует ли его подмножество с суммой чисел, равной $s$. Это можно рассматривать как $\\textbf{KNAPSACK}$, где $\\forall{i}: c_{i} = w_{i}, P = W = s$. Будем обозначать данную задачу как $(S, s)$.\n",
        "\n",
        "Сведем $\\textbf{NP}$-трудную задачу о выполнимости булевой формулы в форме 3-КНФ ($\\textbf{3-SAT}$) к $\\textbf{SUBSETSUM}$, а т.е. и к $\\textbf{KNAPSACK}$.\n",
        "\n",
        "Пусть задана 3-КНФ формула $\\phi$ от $n$ переменных, состоящая из $k$ пар скобок $C_i$. Считаем, что ни одна пара скобок не содержит одновременно переменную и ее отрицание, и каждая переменная входит хотя бы в одну пару скобок.\n",
        "\n",
        "Построим сводящую функцию $f: \\phi \\Rightarrow (S, s) $: \\\\\n",
        "Для каждой переменной $x_i$ и для каждой пары скобок $C_j$ создадим по два числа в десятичной системе счисления, каждое длиной $n+k$ цифр. Эти числа образуют $S$. Присвоим каждому разряду полученных чисел метку (одинаковую для всех чисел), соответствующую либо переменной, либо паре скобок. Метки, соответствующие парам скобок, присвоены $k$ младшим разрядам чисел.\n",
        "*  В числе $s$ все разряды, соответствующие переменным, установим 1, а оставшиеся сделаем равными 4.\n",
        "*  Каждой переменной $x_i$ соответствуют два числа из $S$: $v_i$ и $u_i$. В обоих числах установим разряд, соответствующий данной переменной равным $1$, все остальные разряды переменных -- $0$. Для числа $v_i$ установим разряды, соответствующие скобках, в которые входит $x_i$, равными $1$, все остальные -- $0$. В $u_i$ же сделаем то же самое, но с $\\lnot x_i$\n",
        "*  Каждой паре скобок $C_{j}$ соответствуют два числа из $S$ : $d_{i}$ и $e_{i}$. Оба этих числа содержат 0 во всех разрядах, кроме соответствующего $C_{j}$. В этом разряде у $d_{i}$ 1, а у $e_{i}$ 2.  \n",
        "\n",
        "Докажем корректность определенной выше функции, т.е. то, что мы действительно сводим $\\textbf{3-SAT}$ к $\\textbf{SUBSETSUM}$, и делаем это полиномиально.\n",
        "*  Полученное множество $S$ состоит из $2(n + k)$ чисел, выставить каждый разряд точно возможно за полином, значит и само сведение выполняется за полином.\n",
        "*  Пусть в $S$ существует подмножество $S'$, т.ч. $\\sum\\limits_{s_{i} \\in S'} s_{i} = s$. Докажем, что $\\phi$ выполнима. Заметим, набору $S'$ обязательно принадлежит ровно одно из $v_{i}$ и $u_{i}$, т.к. в $s$ соответствующий $x_{i}$ разряд равен $1$. Если принадлежит $u_{i}$ сделаем $x_{i} = 1$, иначе $-$ $0$. Далее, т.к. разряды, соответствующие скобкам равны $4$, а с помощью $d_{j}$ и $e_{j}$ мы можем получить максимум число $3$ в разряде, то в любой скобке есть хотя бы один выбранный нами терм ($x_{i}$, если в $S'$ лежит $u_{i}$, или его отрицание в другом случае). А значит, каждый дизъюнкт верен. Значит, верна и исходная формула.\n",
        "*  Пусть $\\phi$ выполнима, т.е. существует набор значений переменных $y_{1},...,y_{n}$, при которых формула истинна. Пусть $S$ и $s$ получены после сводимости. Нужно доказать, что в $S$ существует подмножество (обозначим за $S'$) с суммой, равной $s$. Для каждой переменной $x_{i}$ добавим $v_{i}$ в $S'$, если $y_{i} = 1$, иначе $-$ $u_{i}$. Заметим, что для каждого разряда, соответствующего скобках, в уже набранной части $S'$ есть не менее одного и не более трех чисел, у которых в данном разряде стоит $1$. Значит для каждого соответствующего паре скобок $C_{j}$ разряда мы сможем выбрать одно или оба числа $d_{j}$ и $e_{j}$ так, чтобы сумма в данном разряде стала равной $4$. Добавим их в $S'$. Заметим, что суммы во всех разрядах, соответствующих переменным, равны $1$, так как для каждого $i$ выбиралось только одно число из $v_{i}$ и $u_{i}$. Значит, теперь $\\sum\\limits_{s_{i} \\in S'} s_{i} = s$.  \n",
        "\n",
        "Значит, доказали **NP**-трудность задачи $\\textbf{SUBSETSUM}$, а, значит, и **NP**-трудность задачи о рюкзаке. **Следовательно, KNAPSACK принадлежит к NP-трудным.**"
      ]
    },
    {
      "cell_type": "markdown",
      "metadata": {
        "id": "8UrN8c6JnXnT",
        "colab_type": "text"
      },
      "source": [
        "# Bruteforce algorithm"
      ]
    },
    {
      "cell_type": "markdown",
      "metadata": {
        "id": "1sZvBkIHN3ZM",
        "colab_type": "text"
      },
      "source": [
        "*Самым тривиальным* решением задачи о рюкзаке есть полный перебор всех подмножеств множества предметов и отыскания того набора, вес которого не превосходит установленного порога, а суммарная стоимость максимальна.  \n",
        "\n",
        "**Время работы алгоритма:** $O(n \\cdot 2^{n})$.\n"
      ]
    },
    {
      "cell_type": "markdown",
      "metadata": {
        "id": "NYFqGSEgN5uD",
        "colab_type": "text"
      },
      "source": [
        "# Implementation"
      ]
    },
    {
      "cell_type": "code",
      "metadata": {
        "id": "caYleL4iN36L",
        "colab_type": "code",
        "colab": {}
      },
      "source": [
        "import functools\n",
        "from itertools import (\n",
        "  chain,\n",
        "  combinations)\n",
        "import math\n",
        "import operator"
      ],
      "execution_count": 0,
      "outputs": []
    },
    {
      "cell_type": "code",
      "metadata": {
        "id": "yPHe9YHiIprU",
        "colab_type": "code",
        "colab": {}
      },
      "source": [
        "class Item(object):\n",
        "\n",
        "  def __init__(self, weight=0, cost=0, *args, **kwargs):\n",
        "    self.weight = weight\n",
        "    self.cost = cost\n",
        "\n",
        "  def __repr__(self):\n",
        "    item_repr = \"Item(\\n\"\n",
        "    for (k, v) in self.__dict__.items():\n",
        "      item_repr += \"\\t{0}: {1}\\n\".format(k, v)\n",
        "    item_repr += \")\"\n",
        "    return item_repr"
      ],
      "execution_count": 0,
      "outputs": []
    },
    {
      "cell_type": "markdown",
      "metadata": {
        "id": "Mp5qv2SQV-d-",
        "colab_type": "text"
      },
      "source": [
        "Лямбда-функция $\\verb|all_indexes_subsets|$ от $\\verb|n|$ возращает список элементов из $2^{\\{0...n-1\\}}-$ множество множеств всех возможных индексов предметов (в теоретическом изложении индексация начинается с $1$, а в реализации c $0$)."
      ]
    },
    {
      "cell_type": "code",
      "metadata": {
        "id": "tNS89W7hVh_p",
        "colab_type": "code",
        "colab": {}
      },
      "source": [
        "all_indexes_subsets = lambda size: filter(\n",
        "    lambda subset: len(subset) > 0,\n",
        "    chain(*[combinations(range(size), i) for i in range(size+1)])\n",
        ")"
      ],
      "execution_count": 0,
      "outputs": []
    },
    {
      "cell_type": "code",
      "metadata": {
        "id": "Y5ufPw1BVnnY",
        "colab_type": "code",
        "colab": {}
      },
      "source": [
        "def launch_bruteforce(items, max_weight) -> tuple:\n",
        "  total_value, total_weight = 0, 0\n",
        "  for index_subset in all_indexes_subsets(len(items)):\n",
        "    sub_total_value, sub_total_weight = 0, 0\n",
        "    for index in index_subset:\n",
        "      sub_total_value += items[index].value\n",
        "      sub_total_weight += items[index].weight\n",
        "    if sub_total_value > total_value and sub_total_weight <= max_weight:\n",
        "      total_value, total_weight = sub_total_value, sub_total_weight\n",
        "  return total_weight, total_value"
      ],
      "execution_count": 0,
      "outputs": []
    },
    {
      "cell_type": "markdown",
      "metadata": {
        "id": "IusVAN0SncxM",
        "colab_type": "text"
      },
      "source": [
        "# Greedy algorithm"
      ]
    },
    {
      "cell_type": "markdown",
      "metadata": {
        "id": "QBHqZZrNGRDU",
        "colab_type": "text"
      },
      "source": [
        "**Алгоритм:**  \n",
        "*  Удалим все объекты, вес которых больше, чем $W$. Если для оставшихся $n^{'}\\leq n$ объектов выполнено: $\\sum\\limits_{i=1}^{n^{'}} w_{i} \\leq W$, то все эти объекты и являются ответом жадного алгоритма. Иначе переходим к следующим пунктам.\n",
        "*  Обозначим $p_{i} := \\frac{c_{i}}{w_{i}}$ и отсортируем элементы ${x_i}$ по убыванию $p_i$\n",
        "*  Выберем $k:\\space\\sum\\limits_{i=1}^{k} w_i \\leq W < \\sum\\limits_{i=1}^{k + 1} w_i$.\n",
        "*  Первые $k$ объектов после сортировки являются ответом жадного алгоритма..  \n",
        "\n",
        "**Заметим**, что для ответа такого алгоритма выполнено (обозначим за $C'$ значение истинного ответа на задачу):\n",
        "$$\n",
        "\\sum\\limits_{i=1}^{k} c_{i} \\leq C' < \\sum\\limits_{i=1}^{k+1} c_{i}\n",
        "$$  \n",
        "\n",
        "**Доказательство:**  \n",
        "Обозначим $W' = \\sum\\limits_{i=1}^{k + 1} w_i$.  \n",
        "Для задачи с максимальным весом $W'$ решением будет будут первые $(k+1)$ объект после сортировки, с общей стоимостью $\\sum\\limits_{i=1}^{k + 1} c_i$, т.к. эти предметы обладают большей ценой за единицу измерения веса и занимают весь вес. Значит, исходная задача не могла иметь решение с большей стоимостью, т.к. $W \\leq W'$.  \n",
        "\n",
        "**Время работы алгоритма:**  \n",
        "$O(n \\log n)$ или $O(n^{2})$, в зависимости от используемой сортировки."
      ]
    },
    {
      "cell_type": "markdown",
      "metadata": {
        "id": "cEj0TEJGIpKu",
        "colab_type": "text"
      },
      "source": [
        "# Implementation"
      ]
    },
    {
      "cell_type": "code",
      "metadata": {
        "id": "tuSIcbnMJZm2",
        "colab_type": "code",
        "colab": {}
      },
      "source": [
        "class GreedySolution(object):\n",
        "    \n",
        "    __slots__ = ['size', 'weight', 'cost']\n",
        "\n",
        "    def __init__(self, size=0, weight=0, cost=0, *args, **kwargs):\n",
        "        self.size = size\n",
        "        self.weight = weight\n",
        "        self.cost = cost\n",
        "\n",
        "    def __iadd__(self, item: Item):\n",
        "      self.size += 1\n",
        "      self.weight = item.weight\n",
        "      self.cost = item.cost"
      ],
      "execution_count": 0,
      "outputs": []
    },
    {
      "cell_type": "code",
      "metadata": {
        "id": "bJssRyqEbW9A",
        "colab_type": "code",
        "colab": {}
      },
      "source": [
        "def launch_greedy(items, max_weight) -> GreedySolution:\n",
        "  lifting_items = list(filter(lambda item: item.weight < max_weight, items))\n",
        "  solution = functools.reduce(function=operator.iadd, iterable=lifting_items,\n",
        "                        initializer=GreedySolution())\n",
        "  if solution.weight > max_weight:\n",
        "    lifting_items.sort(key=lambda item: -item.cost/item.weight)\n",
        "    solution = GreedySolution()\n",
        "    while solution.weight <= max_weight and solution.size < len(lifting_items):\n",
        "      if solution.weight + lifting_items[solution.size] <= max_weight:\n",
        "        solution += lifting_items[solution.size]\n",
        "      else:\n",
        "        break\n",
        "  return solution"
      ],
      "execution_count": 0,
      "outputs": []
    },
    {
      "cell_type": "markdown",
      "metadata": {
        "id": "fgcLL_L9nvL9",
        "colab_type": "text"
      },
      "source": [
        "# Pseudo-polynomial algorithm"
      ]
    },
    {
      "cell_type": "markdown",
      "metadata": {
        "id": "kwgmqdCrkm_y",
        "colab_type": "text"
      },
      "source": [
        "В полиномиальной схеме приближения задачи о рюкзаке будет использоваться псевдополиномиальный алгоритм c целыми стоимостями.\n",
        "> **Определение:** Алгоритм называется псевдополиномиальным, если работает полиномиально от размера входных данных, записанных в унарном виде.\n",
        "\n",
        "Обозначим за $w(k, c)$ наименьшей вес подмножества первых $k$ объектов, имеющего стоимость $c$. Имеют место следующие соотношения для нашего алгоритма:\n",
        "*  $w(0, 0) = 0$\n",
        "*  $w(0, c) = +\\infty$\n",
        "*  $w(k+1, c) = \\min (w(k, c), \\hspace{2pt} w(k, c - c_{k+1}) + w_{k + 1})$\n",
        "\n",
        "Нетрудно заметить, что посторенный алгоритм относится к алгоритмам из двумерной динамики.\n",
        "\n",
        "**Используемая память:**  \n",
        "Пусть мы обладаем знанием, что максимальная стоимость $C' \\leq T$, тогда всего потребуется $(n+1)T$ состояний, т.е. $O(T)$ памяти.  \n",
        "\n",
        "**Время работы алгоритма:**  \n",
        "Работает же алгоритм за $O(n \\cdot T)$, т.к. при добавлении каждого объекта достаточно просмотреть $T$ состояний. Понятно, что $T$ не больше $\\sum_{i=1}^{n}c_{i} \\leq n\\cdot \\max\\limits_{1\\leq i\\leq n} c_{i}$. Следовательно, итоговое время работы полиномиально."
      ]
    },
    {
      "cell_type": "markdown",
      "metadata": {
        "id": "_cDhUsPzoRtc",
        "colab_type": "text"
      },
      "source": [
        "# Implementation"
      ]
    },
    {
      "cell_type": "code",
      "metadata": {
        "id": "q2QeZZzFt0sd",
        "colab_type": "code",
        "colab": {}
      },
      "source": [
        "class DynamicState(object):\n",
        "  \n",
        "  __slots__ = ['min_weight', 'cost', 'last_item']\n",
        "\n",
        "  def __init__(self, min_weight=math.inf, cost=0, last_item=-1, *args, **kwargs):\n",
        "    self.min_weight = min_weight\n",
        "    self.cost = cost\n",
        "    self.last_item = last_item"
      ],
      "execution_count": 0,
      "outputs": []
    },
    {
      "cell_type": "code",
      "metadata": {
        "id": "S1VYtIW3t7cx",
        "colab_type": "code",
        "colab": {}
      },
      "source": [
        "def launch_dynamic(items, max_weight, max_cost=0) -> list:\n",
        "  if max_cost == 0:\n",
        "    max_cost = functools.reduce(\n",
        "        function=lambda total, item: total + item.cost,\n",
        "        iterable=items)\n",
        "  states = [DynamicState() for _ in range(max_cost+1)]\n",
        "  states[0].min_weight = 0\n",
        "  for (index, item) in enumerate(items):\n",
        "    for cost in range(max_cost, item.cost, -1):\n",
        "      if item.weight + states[cost-item.cost].min_weight < \\\n",
        "      states[cost].min_weight:\n",
        "        states[cost] = DynamicState(\n",
        "            item.weight + states[cost-item.cost].min_weight,\n",
        "            item.cost + states[cost-item.cost].cost, index\n",
        "        )\n",
        "  return states"
      ],
      "execution_count": 0,
      "outputs": []
    },
    {
      "cell_type": "markdown",
      "metadata": {
        "id": "vQ_zuiqcn03o",
        "colab_type": "text"
      },
      "source": [
        "# Polynomial approximation"
      ]
    },
    {
      "cell_type": "markdown",
      "metadata": {
        "id": "WfHe9W53sch9",
        "colab_type": "text"
      },
      "source": [
        "> **Определение:** Пусть у нас есть $\\textbf{NP}$-сложная задача максимизации функции $f$, $E-$ ее входные данные, $C_{E}-$ оптимальный ответ на входе $E$. Алгоритм называется **$(1 - \\varepsilon)-$приближением** для решения данной задачи, если на входе $(E, \\varepsilon)$ он выдает такое ответ $C_{E}^{'}$, что $C_{E}^{'} \\geq (1 - \\varepsilon) \\cdot C_{E}$. Если алгоритм работает за полиномиальное время от размера входа и $\\frac{1}{\\varepsilon}$, то он называется **полиномиальным приближением**.  \n",
        "\n",
        "В предположении $\\textbf{P} \\neq \\textbf{NP}$ задача о рюкзаке не имеет полиномиального алгоритма решения. Но при этом, если придумать алгоритм полиномиального приближения, то за полиномиальное время мы научимся приближенно решать задачу, получая ответ заданной точности.  \n",
        "\n",
        "Обозначим максимально возможную стоимость предметов, общего веса $\\leq W$ за $C'$. Рассмотрим два алгоритма:  \n",
        "\n",
        "\n",
        "*   основанный на подходе динамического программирования\n",
        "*   алгоритм Ибарры-Кима\n",
        "\n"
      ]
    },
    {
      "cell_type": "markdown",
      "metadata": {
        "id": "49OMPjWsn6v7",
        "colab_type": "text"
      },
      "source": [
        "## Polynomial approximation by dynamic programming"
      ]
    },
    {
      "cell_type": "markdown",
      "metadata": {
        "id": "ZyO5WKNAfkK6",
        "colab_type": "text"
      },
      "source": [
        "**Алгоритм:**\n",
        "*  Удалим все предметы, масса которых больше максимально возможной.\n",
        "*  Определим $c_{0} := \\max\\limits_{1\\leq i\\leq n} c_{i}$ (под $n$ подразумевается количество уже отфильтрованных предметов). \n",
        "*  Заменим стоимость каждого предмета $c_{i}$ на $c_{i}^{'} := \\left[\\frac{c_{i}}{\\delta}\\right]$, где нормирующий коэффициент $\\delta$ равен $\\frac{\\varepsilon \\cdot c_{0}}{n}$, а $n-$ это как и всегда количество предметов. \n",
        "*  Для новых стоимостей найдем наилучшее решение псевдополиномиальным алгоритмом, предметы из этого решения и будут ответом (обозначим их индексы за $I$).  \n",
        "\n",
        "> **Теорема.** Построенный алгоритм является полиномиальным приближения задачи о рюкзаке. Временная сложность алгоритма $O(\\frac{n^{3}}{\\varepsilon})$, пространственная сложность $O(\\frac{n^{2}}{\\varepsilon})$.  \n",
        "\n",
        "> **Доказательство.** Докажем, что алгоритм действительно строит $(1 - \\varepsilon)-$приближение. Мы знаем, что псевдополиномиальное приближение находит точное решение. Т.е. переходя от начальных нецелых стоимостей к целым, путем взятия целой части при делении на $\\delta$, мы найдем точное решение в стоимостях $c^{'}$. Пусть $I_{0}-$индексы предметов из истинного решения исходной задачи, $I-$индексы решения задачи в стоимостях $c^{'}>0$, тогда верно:\n",
        "$$\n",
        "\\sum\\limits_{i \\in I} \\frac{c_{i}}{\\delta} \\geq \\sum\\limits_{i \\in I} \\left[\\frac{c_{i}}{\\delta}\\right] \\geq \\sum\\limits_{i \\in I} c_{i}^{'} \\geq \\sum\\limits_{j \\in I_{0}} c_{j}^{'}\n",
        ".$$\n",
        "Значит,\n",
        "$$\n",
        "\\sum\\limits_{i \\in I} c_{i} \\geq \\delta \\cdot \\sum\\limits_{j \\in I_{0}} c_{j}^{'}\n",
        ".$$\n",
        "И из неравенства:\n",
        "$$\n",
        "\\sum\\limits_{i \\in I_{0}} (c_{i} - \\delta \\cdot c_{i}^{'}) = \\sum\\limits_{i \\in I_{0}} (c_{i} - \\delta \\cdot \\left[\\frac{c_{i}}{\\delta}\\right]) = \\delta\\cdot\\sum\\limits_{i \\in I_{0}} (\\frac{c_{i}}{\\delta} - \\left[\\frac{c_{i}}{\\delta}\\right]) \\leq \\delta\\cdot\\sum\\limits_{i \\in I_{0}} 1 = \\delta \\cdot |I_{0}| \\leq \\delta \\cdot n = \\frac{\\varepsilon \\cdot c_{0}}{n} \\cdot n \\leq \\varepsilon \\cdot c_{0} \\leq \\varepsilon \\cdot C^{'}\n",
        ".$$\n",
        "Получаем оценку:\n",
        "$$\n",
        "\\sum\\limits_{i \\in I} c_{i}\\geq \\delta \\cdot \\sum\\limits_{j \\in I_{0}} c_{j}^{'} \\geq \\sum\\limits_{i \\in I_{0}} c_{i} - \\varepsilon \\cdot C^{'} = (\\frac{\\sum\\limits_{i \\in I_{0}} c_{i}}{C^{'}} - \\varepsilon) \\cdot C^{'} \\geq (1 - \\varepsilon) \\cdot C^{'}\n",
        ",$$\n",
        "т.к. $\\sum\\limits_{i \\in I_{0}} c_{i} \\geq C^{'}.$  \n",
        "А, значит, найденный нами набор является $(1-\\varepsilon)-$приближением ответа. Заметим, т.к. $\\frac{c_{0}}{\\delta} = \\frac{n}{\\varepsilon}$, то максимальная стоимость решения не больше, чем $\\frac{n^{2}}{\\varepsilon}$, следовательно, и алгоритм работает за $O(\\frac{n^{3}}{\\varepsilon})$. При этом пространственная сложность $O(\\frac{n^{2}}{\\varepsilon})$\n"
      ]
    },
    {
      "cell_type": "markdown",
      "metadata": {
        "id": "KYaj7iRllzid",
        "colab_type": "text"
      },
      "source": [
        "## Implementation"
      ]
    },
    {
      "cell_type": "markdown",
      "metadata": {
        "id": "p9XF9LsCaNp2",
        "colab_type": "text"
      },
      "source": [
        "Функция $\\verb|compute_delta_normaized_items|$ высчитывает отнормированную по $\\delta$ стоимость предмета."
      ]
    },
    {
      "cell_type": "code",
      "metadata": {
        "id": "tVbC81h4aN0-",
        "colab_type": "code",
        "colab": {}
      },
      "source": [
        "def compute_delta_normaized_items(items, delta) -> list:\n",
        "  for item in items:\n",
        "    item.rounded_cost = int(item.cost / delta)\n",
        "  return items"
      ],
      "execution_count": 0,
      "outputs": []
    },
    {
      "cell_type": "markdown",
      "metadata": {
        "id": "TxKDIK4ldhYo",
        "colab_type": "text"
      },
      "source": [
        "Вспомогательная функция $\\verb|compute_dynamic_approx|$ вычисляет "
      ]
    },
    {
      "cell_type": "code",
      "metadata": {
        "id": "Ep_GNW_Plzw6",
        "colab_type": "code",
        "colab": {}
      },
      "source": [
        "def compute_dynamic_approx(items, delta, max_cost=0) -> list:\n",
        "  compute_delta_normaized_items(items, delta)\n",
        "  if max_cost == 0:\n",
        "    max_cost = functools.reduce(lambda total, item: total + item.round_value,\n",
        "                                items)\n",
        "  states = [DynamicState() for _ in range(max_cost+1)]\n",
        "  states[0].min_weight = 0\n",
        "  for (index, item) in enumerate(items):\n",
        "    for value in range(max_cost, item.round_value, -1):\n",
        "      if item.weight + states[value-item.round_value].min_weight < \\\n",
        "      states[value].min_weight:\n",
        "        states[value] = DynamicState(\n",
        "            item.weight + states[value-item.round_value].min_weight,\n",
        "            item.value + states[value-item.round_value].value, index\n",
        "        )\n",
        "  return states"
      ],
      "execution_count": 0,
      "outputs": []
    },
    {
      "cell_type": "code",
      "metadata": {
        "id": "RY-ssPwvdhg0",
        "colab_type": "code",
        "colab": {}
      },
      "source": [
        "def launch_polynomial_approx_by_dynamic(items, max_weight, eps):\n",
        "  filtered_items = list(filter(lambda item: item.weight <= max_weight, items))\n",
        "  c0 = max(filtered_items, key=operator.attrgetter('cost'))\n",
        "  delta = c0 * eps / len(filtered_items)\n",
        "  states = compute_dynamic_approx(items=filtered_items, \n",
        "                                  delta=delta, \n",
        "                                  max_cost=len(filtered_items)*c0/delta)\n",
        "  max_cost, rounded_cost = 0, 0\n",
        "  for (index, state) in enumerate(states):\n",
        "    if state.min_weight > max_weight:\n",
        "      continue\n",
        "    if state.cost > max_cost:\n",
        "      max_cost = state.cost\n",
        "      rounded_cost = index\n",
        "  result = []\n",
        "  while rounded_cost > 0:\n",
        "    result.append(filtered_items[states[rounded_cost].last_item])\n",
        "    rounded_cost -= result[-1].rounded_cost\n",
        "  return result"
      ],
      "execution_count": 0,
      "outputs": []
    },
    {
      "cell_type": "markdown",
      "metadata": {
        "id": "KA7m_1wioCFf",
        "colab_type": "text"
      },
      "source": [
        "## Polynomial approximation by Ibarra-Kim"
      ]
    },
    {
      "cell_type": "markdown",
      "metadata": {
        "id": "hZZNWL5GfkS6",
        "colab_type": "text"
      },
      "source": [
        "Алгоритм гарантированно получает $(1-\\varepsilon)-$приближение в случае, когда $C' \\geq \\max{\\{\\sum\\limits_{i=1}^{k} c_{i}; c_{k+1}\\}}$, где предметы отсортированны как в жадном алгоритме, $k$ взято из него же. Для этого случая будет доказана его корректность.  \n",
        "Суть алгоритма состоит в разделении предметов на **дорогие** и **дешевые**. Для дорогих предметов воспользуемся псевдополиномиальным алгоритмом. Для дешевых, учитывая оставшийся вес от выбранных дорогих, воспользуемся жадным алгоритмом.  \n",
        "\n",
        "**Алгоритм**:\n",
        "*  Обозначим ${\\bf C_{m}} = \\frac{1}{2} \\cdot \\sum\\limits_{i=1}^{k+1} c_{i}$, где $k$ взято из жадного алгоритма (перед этим отсортировали предметы по $p_{i}=\\frac{c_{i}}{w_{i}})$. Имеем ${\\bf C_{m}} \\leq C' \\leq 2 \\cdot {\\bf C_{m}}$, при условии, что $C' \\geq \\max{\\{\\sum\\limits_{i=1}^{k} c_i; c_{k + 1}\\}}$.\n",
        "*  Разделим предметы **дорогие** и **дешевые**. Если $c_i \\geq \\varepsilon \\cdot {\\bf C_m} $, то он дорогой, иначе $-$ дешевый. Пусть дорогие объекты имеют индексы: $1,...,l$, дешевые $-$ $l+1,...,n$.\n",
        "*  Обозначим $\\delta := \\varepsilon^2 \\cdot {\\bf C_{m}}$. Заменим стоимость каждого дорогого на целое число: $c_{i} \\rightarrow \\left[\\frac{c_i}{\\delta}\\right]$\n",
        "*  Обозначим $C_{lim} := [\\frac{2 \\cdot {\\bf C_{m}}}{\\delta}]$, где $m-$ количество дорогих элементов. \n",
        "*  Далее $\\forall c \\in \\{0,...,C_{lim}\\}$: для дорогих $-$ псевдополиномиальным алгоритмом находим $w(m, c)$ (мы нашли минимальный вес дорогих имеющих стоимость не меньше $c$), обозначим соответствующую им стоимость за $C_{c}^{1}$; дешевых $-$ жадным алгоритмом находим объекты, дающие максимальную стоимость, имеющих вес не больше $(W - w(m, c))$, обозначим соответствующую им стоимость за $C_{c}^{2}$; суммируем найденные стоимости.\n",
        "*  Нашим ответом будет $\\max\\limits_{0\\leq j\\leq C_{lim}} \\{C_{j}^{1} + C_{j}^{2}\\}$.   \n",
        "\n",
        "> **Теорема.** При условии $C' \\geq \\max{\\{\\sum\\limits_{i=1}^{k} c_{i}; c_{k + 1}\\}}$ данный алгоритм строит $(1-\\varepsilon)-$приближение истинного решения. Временная сложность алгоритма $O(n \\cdot \\log n + \\frac{n}{\\varepsilon^2})$.  \n",
        "\n",
        "> **Доказательство.**  Докажем, что алгоритм строит $(1-\\varepsilon)-$приближение.  \n",
        "Для **дорогих** предметов верно неравенство, доказанное ранне (в силу того, что целая часть от частного, умноженная на делитель, отличается от делимого менее, чем на делитель):\n",
        "$$\n",
        "c_{i} - \\delta \\cdot c_{i}^{'} \\leq c_{i} - \\delta \\cdot \\left[\\frac{c_{i}}{\\delta}\\right] < \\delta\n",
        "$$\n",
        "При этом, $\\delta = \\varepsilon^2 \\cdot {\\bf C_{m}}$, и для любого дорогого предмета выполнено: $c_{i} \\geq \\varepsilon \\cdot {\\bf C_{m}}$. Из этого получаем, что:\n",
        "$$\n",
        "c_{i} - \\delta c_{i}^{'} < \\varepsilon^2 \\cdot {\\bf C_{m}} \\leq \\varepsilon^2 \\cdot \\frac{c_{i}}{\\varepsilon} = \\varepsilon \\cdot c_{i}\n",
        "$$\n",
        "То есть суммарная ошибка для дорогих не больше, чем $2 \\cdot \\varepsilon \\cdot {\\bf C_{m}}$.  \n",
        "Для **дешевых** предметов мы применяем жадный алгоритм, значит, верно, что найденное решение отличается от истинного не более, чем, на $c_{l+1}$, где $l-$ размер множества предметов, полученного жадным алгоритмом для дешевых предметов, т.е. не более, чем на $\\varepsilon \\cdot {\\bf C_{m}}$. Значит, суммарная ошибка на всех предметах не более $3 \\cdot \\varepsilon \\cdot {\\bf C_{m}} \\leq 3 \\cdot \\varepsilon \\cdot C^{'}$.  \n",
        "Осталось доказать, что алгоритм работает за  $O(n \\cdot \\log n + \\frac{n}{\\varepsilon^2})$.  \n",
        "Сложность сортировки, поиска ${\\bf C_{m}}$ и разделения предметов составляет $O(n \\cdot \\log n)$.  \n",
        "Сложность подсчёта $w(n, c)$ составляет $O({\\bf C_m} \\cdot \\frac{n}{\\delta}) = O(\\frac{n}{\\varepsilon^{2}})$.  \n",
        "Тогда общая **сложность алгоритма**: $O(n \\cdot \\log n + \\frac{n}{\\varepsilon^2})$."
      ]
    },
    {
      "cell_type": "markdown",
      "metadata": {
        "id": "de-8DPo3l1V7",
        "colab_type": "text"
      },
      "source": [
        "## Implementation"
      ]
    },
    {
      "cell_type": "code",
      "metadata": {
        "id": "vluAQczDXx_h",
        "colab_type": "code",
        "colab": {}
      },
      "source": [
        "def launch_polynomial_approx_by_ibarra_kim(items, max_weight, precision) -> list:\n",
        "  filtered_items = list(filter(lambda item: item.weight > max_weight, items))\n",
        "  items\n",
        "  filtered_items = sorted(filtered_items, \n",
        "                          key=lambda item: -item.value/item.weight)\n",
        "  solution = solve_greedy(filtered_items, max_weight)\n",
        "  if solution.size == len(filtered_items):\n",
        "    return filtered_items\n",
        "  P_g = solution.value + filtered_items[solution.size].value\n",
        "  threshold = lambda item: item.value >= precision*P_g\n",
        "  antithreshold = lambda item: not threshold(filtered_items)\n",
        "  expensive_items = list(filter(threshold, filtered_items))\n",
        "  cheap_items = list(filter(antithreshold, filtered_items))\n",
        "  for item in filtered_items:\n",
        "    item.value = int(item.value / (P_g*precision**2))\n",
        "  dynamic_states = solve_dynamic(expensive_items, max_weight, 2/precision**2+1)\n",
        "  max_value = 0\n",
        "  max_value_exp_rounded_value = 0\n",
        "  max_value_greedy_solution_size = 0\n",
        "  for rounded_value in range(len(dynamic_states)):\n",
        "    if dynamic_states[rounded_value].min_weight > max_weight:\n",
        "      continue\n",
        "    local_greedy = solve_greedy(\n",
        "        items=cheap_items,\n",
        "        max_weight=max_weigth-dynamic_states[rounded_value].min_weight\n",
        "    )\n",
        "    if local_greedy.value + dynamic_states[rounded_value].value > max_value:\n",
        "      max_value = local_greedy.value + dynamic_states[rounded_value].value\n",
        "      max_value_exp_rounded_value = rounded_value\n",
        "      max_value_greedy_solution_size = local_greedy.size\n",
        "  current_value = max_value_exp_rounded_value\n",
        "  maximum_set_items = []\n",
        "  while current_value > 0) {\n",
        "    maximum_set_items.append(\n",
        "        expensive_items[dynamic_states[current_value].last_item]\n",
        "    )\n",
        "    current_value -= maximum_set_items[-1].round_value\n",
        "  maximum_set_items.reverse()\n",
        "  for i in range (max_value_greedy_solution_size):\n",
        "    maximum_set_items.append(cheap_items[i])\n",
        "  return maximum_set_items"
      ],
      "execution_count": 0,
      "outputs": []
    },
    {
      "cell_type": "markdown",
      "metadata": {
        "id": "WVWzAQguzbaG",
        "colab_type": "text"
      },
      "source": [
        "# Testing  \n",
        "\n"
      ]
    },
    {
      "cell_type": "code",
      "metadata": {
        "id": "sami92Xzzeag",
        "colab_type": "code",
        "colab": {}
      },
      "source": [
        "import random\n",
        "\n",
        "\n",
        "class GeneratorsFactory:\n",
        "\n",
        "  @staticmethod\n",
        "  def get_power_of_two_items_set(size, start_weight=1):\n",
        "    def items_generator():\n",
        "      nonlocal size, start_weight\n",
        "      for _ in range(size):\n",
        "        yield Item(start_weight, start_weight)\n",
        "        start_weight *= 2\n",
        "    return wrapped_generator\n",
        "\n",
        "  @staticmethod\n",
        "  def get_sequential_items_set(size, start_weight=1):\n",
        "    for value in range(start_weight, size+start_weight):\n",
        "      yield Item(value, value)\n",
        "\n",
        "  @staticmethod\n",
        "  def get_random_items_set(size, lrange=1, rrange=100):\n",
        "    for value in range(start_weight, size+start_weight):\n",
        "      yield Item(weight=random.randint(lrange, rrange), \n",
        "                 cost=random.randint(lrange, rrange))"
      ],
      "execution_count": 0,
      "outputs": []
    }
  ]
}
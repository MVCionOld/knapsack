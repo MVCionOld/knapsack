{
  "nbformat": 4,
  "nbformat_minor": 0,
  "metadata": {
    "colab": {
      "name": "tsion.m.795.knapsack.project.52.ipynb",
      "provenance": [],
      "collapsed_sections": [
        "BJL_49su3ot6",
        "ErCKoqQq3ptc",
        "i73tM8bZ3qh-"
      ]
    },
    "kernelspec": {
      "name": "python3",
      "display_name": "Python 3"
    }
  },
  "cells": [
    {
      "cell_type": "markdown",
      "metadata": {
        "id": "IVJ2ITBfJtl2",
        "colab_type": "text"
      },
      "source": [
        "# Задача о рюкзаке  \n",
        "\n",
        "##### проект №52  \n",
        "\n",
        "\n",
        "### Выполнил: Михаил Цион, 795\n",
        "\n",
        "\n"
      ]
    },
    {
      "cell_type": "markdown",
      "metadata": {
        "id": "8LA9KQQFmjlc",
        "colab_type": "text"
      },
      "source": [
        "# Основные определения  "
      ]
    },
    {
      "cell_type": "markdown",
      "metadata": {
        "id": "n0XU1CMjJBiD",
        "colab_type": "text"
      },
      "source": [
        "> **Определение:** Машина распознаёт язык $A$ за время $T(n)$, если она принимает все слова, лежащие в $A$, отвергает все слова, не лежащие в $A$, и на каждом слове $x$ работает не больше $T (|x|)$ шагов.\n",
        "\n",
        "> **Определение:** Классом ${\\bf DTIME(T (n))}$ называется класс языков, которые распознаются за время $O(T(n))$ на детерминированной машине Тьюринга. Иными словами, время работы машины на любом слове длины $n$ не превосходит некоторой константы, умноженной на $T(n)$.\n",
        "\n",
        "> **Определение:** Классом ${\\bf P}$ называется множество языков, распознающихся за полиномиальное время. Формально он определяется так:\n",
        "$$P =\\bigcup\\limits_{c=1}^{\\infty} {\\bf DTIME(n^c)} $$\n",
        "\n",
        "> **Определение:** Классом ${\\bf NTIME(T(n))}$ называется множество языков, распознаваемых на недетерминированной машине Тьюринга за время $O(T(n)$).\n",
        "\n",
        "> **Определение:** Классом ${\\bf NP}$ называется множество языков $A$, для которых существует функция $V(x, s)$ с булевыми значениями, вычислимая за полиномиальное время от длины первого аргумента, такая что:\n",
        "*   Если $x \\in A$, то $ \\exists s \\hspace{2pt} V(x, s) = 1$;\n",
        "*   Если $x \\notin A$, то $ \\forall s \\hspace{2pt} V (x, s) = 0$.\n",
        "\n",
        "\n",
        "> **Определение:** Пусть $A$ и $B$ суть два языка. Тогда $A$ сводится по Карпу к $B$, если существует всюду определённая функция $f : \\{0, 1\\}^* \\longrightarrow \\{0, 1\\}^*$ , вычислимая за полиномиальное время, такая что $x \\in A \\longleftrightarrow f (x) \\in B$. Обозначение: $A \\leq_p B$ . (Индекс $p$ означает полиномиальность).\n",
        "\n",
        "> **Определение:** Язык $B$ является ${\\bf NP}$**-трудным**, если для любого $A \\in {\\bf NP}$ выполнено $A \\leq_p B$. Язык $B$ является ${\\bf NP}$**-полным**, если он ${\\bf NP}$**-трудный** и лежит в ${\\bf NP}$."
      ]
    },
    {
      "cell_type": "markdown",
      "metadata": {
        "id": "G4LJGlQumm9N",
        "colab_type": "text"
      },
      "source": [
        "# PROBLEM FORMULATION"
      ]
    },
    {
      "cell_type": "markdown",
      "metadata": {
        "id": "aGPdA545LTPj",
        "colab_type": "text"
      },
      "source": [
        "Дано:\n",
        "*   $n \\in \\mathbb{N}$ предметов\n",
        "*   $w_{i} > 0 -$ вес $i-$го предмета\n",
        "*   $c_{i} > 0 -$ cтоимость $i-$го предмета\n",
        "*   $W \\geq 0 -$ вместимость рюкзака  \n",
        "\n",
        "Требуется найти такое множество предметов $M=\\{(w_{j}, c_{j})| j \\in \\overline{1..n}\\} \\subseteq \\bigcup\\limits_{i=1}^{n} {\\{(w_{i}, c_{i})\\}}$, чтобы\n",
        "$\\sum\\limits_{(w, c) \\in M} w \\leq W$, $\\sum\\limits_{(w, c) \\in M} c \\longrightarrow \\max$. Допускается пустое множество предметов, т.е. $\\forall{i} \\in \\overline{1..n} \\space W < w_{i}$.\n",
        "\n",
        "Далее, задачу о рюкзаке будем называть просто ${\\bf KNAPSACK}$."
      ]
    },
    {
      "cell_type": "markdown",
      "metadata": {
        "id": "qSSqJf08oqR5",
        "colab_type": "text"
      },
      "source": [
        "# KNAPSACK $\\in$ NP-Complete"
      ]
    },
    {
      "cell_type": "markdown",
      "metadata": {
        "id": "fga_64CaPiT_",
        "colab_type": "text"
      },
      "source": [
        "Прежде, чем доказывать $\\textbf{NP}$**-полноту** для $\\textbf{KNAPSACK}$, сделаем переформулировку задачи, сведя нашу задачу к задачи распознования языка: к условию добавим константу $P \\geq 0$ и будем возвращать **1**, если $\\exists \\hspace{2pt} I \\subset \\overline{1..n}$ и выполнено:\n",
        "*   $\\sum\\limits_{i \\in I} w_i \\leq W$\n",
        "*   $\\sum\\limits_{i \\in I} c_i \\geq P$,  \n",
        "иначе возращаем **0**."
      ]
    },
    {
      "cell_type": "markdown",
      "metadata": {
        "id": "kcVz2Nj7oed_",
        "colab_type": "text"
      },
      "source": [
        "## KNAPSACK $\\in$ NP "
      ]
    },
    {
      "cell_type": "markdown",
      "metadata": {
        "id": "CGFkBRzdmts2",
        "colab_type": "text"
      },
      "source": [
        "Для доказательства принадлежности к $\\textbf{NP}$ воспользуемся сертификатным определением.  \n",
        "Возмем сертификат $s-$ поднабор $\\overline{1..n}$. Если $\\exists{I}$, удовлетворяющий требованиям выше, то $\\exists{s}$, который подадим на вход, как второй аргумент $V(\\cdot; \\cdot)$, а $V(\\cdot; s)$ проверит, что $I$ соответствует соотношениям выше.  \n",
        "   \n",
        "**Следовательно, KNAPSACK принадлежит NP.**"
      ]
    },
    {
      "cell_type": "markdown",
      "metadata": {
        "id": "aJJxokwEoh-c",
        "colab_type": "text"
      },
      "source": [
        "## KNAPSACK $\\in$ NP-Hard"
      ]
    },
    {
      "cell_type": "markdown",
      "metadata": {
        "id": "N9fHt-Vrmt7X",
        "colab_type": "text"
      },
      "source": [
        "Для начала, рассмотрим частный случай задачи о рюкзаке $-$ $\\textbf{SUBSETSUM}$.\n",
        "Пусть дано множество $S$, состоящее из $n$ чисел. Нужно выяснить, существует ли его подмножество с суммой чисел, равной $s$. Это можно рассматривать как $\\textbf{KNAPSACK}$, где $\\forall{i}: c_{i} = w_{i}, P = W = s$. Будем обозначать данную задачу как $(S, s)$.\n",
        "\n",
        "Сведем $\\textbf{NP}$-трудную задачу о выполнимости булевой формулы в форме 3-КНФ ($\\textbf{3-SAT}$) к $\\textbf{SUBSETSUM}$, а т.е. и к $\\textbf{KNAPSACK}$.\n",
        "\n",
        "Пусть задана 3-КНФ формула $\\phi$ от $n$ переменных, состоящая из $k$ пар скобок $C_i$. Считаем, что ни одна пара скобок не содержит одновременно переменную и ее отрицание, и каждая переменная входит хотя бы в одну пару скобок.\n",
        "\n",
        "Построим сводящую функцию $f: \\phi \\Rightarrow (S, s) $: \\\\\n",
        "Для каждой переменной $x_i$ и для каждой пары скобок $C_j$ создадим по два числа в десятичной системе счисления, каждое длиной $n+k$ цифр. Эти числа образуют $S$. Присвоим каждому разряду полученных чисел метку (одинаковую для всех чисел), соответствующую либо переменной, либо паре скобок. Метки, соответствующие парам скобок, присвоены $k$ младшим разрядам чисел.\n",
        "*  В числе $s$ все разряды, соответствующие переменным, установим 1, а оставшиеся сделаем равными 4.\n",
        "*  Каждой переменной $x_i$ соответствуют два числа из $S$: $v_i$ и $u_i$. В обоих числах установим разряд, соответствующий данной переменной равным $1$, все остальные разряды переменных -- $0$. Для числа $v_i$ установим разряды, соответствующие скобках, в которые входит $x_i$, равными $1$, все остальные -- $0$. В $u_i$ же сделаем то же самое, но с $\\lnot x_i$\n",
        "*  Каждой паре скобок $C_{j}$ соответствуют два числа из $S$ : $d_{i}$ и $e_{i}$. Оба этих числа содержат 0 во всех разрядах, кроме соответствующего $C_{j}$. В этом разряде у $d_{i}$ 1, а у $e_{i}$ 2.  \n",
        "\n",
        "Докажем корректность определенной выше функции, т.е. то, что мы действительно сводим $\\textbf{3-SAT}$ к $\\textbf{SUBSETSUM}$, и делаем это полиномиально.\n",
        "*  Полученное множество $S$ состоит из $2(n + k)$ чисел, выставить каждый разряд точно возможно за полином, значит и само сведение выполняется за полином.\n",
        "*  Пусть в $S$ существует подмножество $S'$, т.ч. $\\sum\\limits_{s_{i} \\in S'} s_{i} = s$. Докажем, что $\\phi$ выполнима. Заметим, набору $S'$ обязательно принадлежит ровно одно из $v_{i}$ и $u_{i}$, т.к. в $s$ соответствующий $x_{i}$ разряд равен $1$. Если принадлежит $u_{i}$ сделаем $x_{i} = 1$, иначе $-$ $0$. Далее, т.к. разряды, соответствующие скобкам равны $4$, а с помощью $d_{j}$ и $e_{j}$ мы можем получить максимум число $3$ в разряде, то в любой скобке есть хотя бы один выбранный нами терм ($x_{i}$, если в $S'$ лежит $u_{i}$, или его отрицание в другом случае). А значит, каждый дизъюнкт верен. Значит, верна и исходная формула.\n",
        "*  Пусть $\\phi$ выполнима, т.е. существует набор значений переменных $y_{1},...,y_{n}$, при которых формула истинна. Пусть $S$ и $s$ получены после сводимости. Нужно доказать, что в $S$ существует подмножество (обозначим за $S'$) с суммой, равной $s$. Для каждой переменной $x_{i}$ добавим $v_{i}$ в $S'$, если $y_{i} = 1$, иначе $-$ $u_{i}$. Заметим, что для каждого разряда, соответствующего скобках, в уже набранной части $S'$ есть не менее одного и не более трех чисел, у которых в данном разряде стоит $1$. Значит для каждого соответствующего паре скобок $C_{j}$ разряда мы сможем выбрать одно или оба числа $d_{j}$ и $e_{j}$ так, чтобы сумма в данном разряде стала равной $4$. Добавим их в $S'$. Заметим, что суммы во всех разрядах, соответствующих переменным, равны $1$, так как для каждого $i$ выбиралось только одно число из $v_{i}$ и $u_{i}$. Значит, теперь $\\sum\\limits_{s_{i} \\in S'} s_{i} = s$.  \n",
        "\n",
        "Значит, доказали **NP**-трудность задачи $\\textbf{SUBSETSUM}$, а, значит, и **NP**-трудность задачи о рюкзаке. **Следовательно, KNAPSACK принадлежит к NP-трудным.**"
      ]
    },
    {
      "cell_type": "markdown",
      "metadata": {
        "id": "8UrN8c6JnXnT",
        "colab_type": "text"
      },
      "source": [
        "# Bruteforce algorithm"
      ]
    },
    {
      "cell_type": "markdown",
      "metadata": {
        "id": "1sZvBkIHN3ZM",
        "colab_type": "text"
      },
      "source": [
        "*Тривиальным* решением задачи о рюкзаке есть полный перебор всех подмножеств множества предметов и отыскания того набора, вес которого не превосходит установленного порога, а суммарная стоимость максимальна.  \n",
        "\n",
        "**Время работы алгоритма:** $O(n \\cdot 2^{n})$, т.к. всего $2^{n}$ подмножеств, $n-$элементного множества, проверка каждого подмножества занимает не более $n$ шагов."
      ]
    },
    {
      "cell_type": "markdown",
      "metadata": {
        "id": "NYFqGSEgN5uD",
        "colab_type": "text"
      },
      "source": [
        "# Implementation"
      ]
    },
    {
      "cell_type": "code",
      "metadata": {
        "id": "caYleL4iN36L",
        "colab_type": "code",
        "colab": {}
      },
      "source": [
        "import functools\n",
        "from itertools import (\n",
        "  chain,\n",
        "  combinations)\n",
        "import math\n",
        "import operator"
      ],
      "execution_count": 0,
      "outputs": []
    },
    {
      "cell_type": "code",
      "metadata": {
        "id": "yPHe9YHiIprU",
        "colab_type": "code",
        "colab": {}
      },
      "source": [
        "class Item(object):\n",
        "\n",
        "  def __init__(self, weight=0, cost=0, *args, **kwargs):\n",
        "    self.weight = weight\n",
        "    self.cost = cost\n",
        "\n",
        "  def __add__(self, other):\n",
        "    item = Item(weight=self.weight+other.weight, cost=self.cost+other.cost)\n",
        "    if 'rounded_cost' in self.__dict__.keys():\n",
        "      item.rounded_cost = self.rounded_cost + other.rounded_cost\n",
        "    return item\n",
        " \n",
        "  def __repr__(self):\n",
        "    item_repr = \"Item(\"\n",
        "    for (k, v) in self.__dict__.items():\n",
        "      item_repr += \"{0}: {1}; \".format(k, v)\n",
        "    item_repr = item_repr[:-2] + \")\"\n",
        "    return item_repr"
      ],
      "execution_count": 0,
      "outputs": []
    },
    {
      "cell_type": "markdown",
      "metadata": {
        "id": "Mp5qv2SQV-d-",
        "colab_type": "text"
      },
      "source": [
        "Лямбда-функция $\\verb|all_indexes_subsets|$ от $\\verb|n|$ возращает список элементов из $2^{\\{0...n-1\\}}-$ множество множеств всех возможных индексов предметов (в теоретическом изложении индексация начинается с $1$, а в реализации c $0$)."
      ]
    },
    {
      "cell_type": "code",
      "metadata": {
        "id": "tNS89W7hVh_p",
        "colab_type": "code",
        "colab": {}
      },
      "source": [
        "all_indexes_subsets = lambda size: filter(\n",
        "    lambda subset: len(subset) > 0,\n",
        "    chain(*[combinations(range(size), i) for i in range(size+1)])\n",
        ")"
      ],
      "execution_count": 0,
      "outputs": []
    },
    {
      "cell_type": "code",
      "metadata": {
        "id": "Y5ufPw1BVnnY",
        "colab_type": "code",
        "colab": {}
      },
      "source": [
        "def launch_bruteforce(items, max_weight) -> tuple:\n",
        "  total_cost, total_weight = 0, 0\n",
        "  for index_subset in all_indexes_subsets(len(items)):\n",
        "    sub_total_cost, sub_total_weight = 0, 0\n",
        "    for index in index_subset:\n",
        "      sub_total_cost += items[index].cost\n",
        "      sub_total_weight += items[index].weight\n",
        "    if sub_total_cost > total_cost and sub_total_weight <= max_weight:\n",
        "      total_cost, total_weight = sub_total_cost, sub_total_weight\n",
        "  return total_weight, total_cost"
      ],
      "execution_count": 0,
      "outputs": []
    },
    {
      "cell_type": "markdown",
      "metadata": {
        "id": "IusVAN0SncxM",
        "colab_type": "text"
      },
      "source": [
        "# Greedy algorithm"
      ]
    },
    {
      "cell_type": "markdown",
      "metadata": {
        "id": "QBHqZZrNGRDU",
        "colab_type": "text"
      },
      "source": [
        "**Алгоритм:**  \n",
        "*  Удалим все объекты, вес которых больше, чем $W$. Если для оставшихся $n^{'}\\leq n$ объектов выполнено: $\\sum\\limits_{i=1}^{n^{'}} w_{i} \\leq W$, то все эти объекты и являются ответом жадного алгоритма. Иначе переходим к следующим пунктам.\n",
        "*  Обозначим $p_{i} := \\frac{c_{i}}{w_{i}}$ и отсортируем элементы ${x_i}$ по убыванию $p_i$\n",
        "*  Выберем $k:\\space\\sum\\limits_{i=1}^{k} w_i \\leq W < \\sum\\limits_{i=1}^{k + 1} w_i$.\n",
        "*  Первые $k$ объектов после сортировки являются ответом жадного алгоритма..  \n",
        "\n",
        "**Заметим**, что для ответа такого алгоритма выполнено (обозначим за $C'$ значение истинного ответа на задачу):\n",
        "$$\n",
        "\\sum\\limits_{i=1}^{k} c_{i} \\leq C' < \\sum\\limits_{i=1}^{k+1} c_{i}\n",
        "$$  \n",
        "\n",
        "**Доказательство:**  \n",
        "Обозначим $W' = \\sum\\limits_{i=1}^{k + 1} w_i$.  \n",
        "Для задачи с максимальным весом $W'$ решением будет будут первые $(k+1)$ объект после сортировки, с общей стоимостью $\\sum\\limits_{i=1}^{k + 1} c_i$, т.к. эти предметы обладают большей ценой за единицу измерения веса и занимают весь вес. Значит, исходная задача не могла иметь решение с большей стоимостью, т.к. $W \\leq W'$.  \n",
        "\n",
        "**Время работы алгоритма:**  \n",
        "$O(n \\log n)$ или $O(n^{2})$, в зависимости от используемой сортировки."
      ]
    },
    {
      "cell_type": "markdown",
      "metadata": {
        "id": "cEj0TEJGIpKu",
        "colab_type": "text"
      },
      "source": [
        "# Implementation"
      ]
    },
    {
      "cell_type": "code",
      "metadata": {
        "id": "tuSIcbnMJZm2",
        "colab_type": "code",
        "colab": {}
      },
      "source": [
        "class GreedySolution(object):\n",
        "    \n",
        "    def __init__(self, size=0, weight=0, cost=0, *args, **kwargs):\n",
        "        self.size = size\n",
        "        self.weight = weight\n",
        "        self.cost = cost\n",
        "\n",
        "    def __iadd__(self, item: Item):\n",
        "      self.size += 1\n",
        "      self.weight = item.weight\n",
        "      self.cost = item.cost\n",
        "      return self\n",
        "\n",
        "    def __repr__(self):\n",
        "      item_repr = \"GreedySolution(\"\n",
        "      for (k, v) in self.__dict__.items():\n",
        "        item_repr += \"{0}: {1}; \".format(k, v)\n",
        "      item_repr = item_repr[:-2] + \")\"\n",
        "      return item_repr"
      ],
      "execution_count": 0,
      "outputs": []
    },
    {
      "cell_type": "code",
      "metadata": {
        "id": "bJssRyqEbW9A",
        "colab_type": "code",
        "colab": {}
      },
      "source": [
        "def launch_greedy(items, max_weight) -> GreedySolution:\n",
        "  lifting_items = list(filter(lambda item: item.weight <= max_weight, items))\n",
        "  solution = GreedySolution()\n",
        "  if len(lifting_items) == 0:\n",
        "    return solution\n",
        "  solution += functools.reduce(operator.add, lifting_items)\n",
        "  if solution.weight > max_weight:\n",
        "    lifting_items.sort(key=lambda item: -item.cost/item.weight)\n",
        "    solution = GreedySolution()\n",
        "    while solution.weight <= max_weight and solution.size < len(lifting_items):\n",
        "      if solution.weight + lifting_items[solution.size].weight <= max_weight:\n",
        "        solution += lifting_items[solution.size]\n",
        "      else:\n",
        "        break\n",
        "  return solution"
      ],
      "execution_count": 0,
      "outputs": []
    },
    {
      "cell_type": "markdown",
      "metadata": {
        "id": "fgcLL_L9nvL9",
        "colab_type": "text"
      },
      "source": [
        "# Pseudo-polynomial algorithm"
      ]
    },
    {
      "cell_type": "markdown",
      "metadata": {
        "id": "kwgmqdCrkm_y",
        "colab_type": "text"
      },
      "source": [
        "В полиномиальной схеме приближения задачи о рюкзаке будет использоваться псевдополиномиальный алгоритм c целыми стоимостями.\n",
        "> **Определение:** Алгоритм называется псевдополиномиальным, если работает полиномиально от размера входных данных, записанных в унарном виде.\n",
        "\n",
        "Обозначим за $w(k, c)$ наименьшей вес подмножества первых $k$ объектов, имеющего стоимость $c$. Имеют место следующие соотношения для нашего алгоритма:\n",
        "*  $w(0, 0) = 0$\n",
        "*  $w(0, c) = +\\infty$\n",
        "*  $w(k+1, c) = \\min (w(k, c), \\hspace{2pt} w(k, c - c_{k+1}) + w_{k + 1})$\n",
        "\n",
        "Нетрудно заметить, что посторенный алгоритм относится к алгоритмам из двумерной динамики.\n",
        "\n",
        "**Используемая память:**  \n",
        "Пусть мы обладаем знанием, что максимальная стоимость $C' \\leq T$, тогда всего потребуется $(n+1)T$ состояний, т.е. $O(T)$ памяти.  \n",
        "\n",
        "**Время работы алгоритма:**  \n",
        "Работает же алгоритм за $O(n \\cdot T)$, т.к. при добавлении каждого объекта достаточно просмотреть $T$ состояний. Понятно, что $T$ не больше $\\sum_{i=1}^{n}c_{i} \\leq n\\cdot \\max\\limits_{1\\leq i\\leq n} c_{i}$. Следовательно, итоговое время работы полиномиально."
      ]
    },
    {
      "cell_type": "markdown",
      "metadata": {
        "id": "_cDhUsPzoRtc",
        "colab_type": "text"
      },
      "source": [
        "# Implementation"
      ]
    },
    {
      "cell_type": "code",
      "metadata": {
        "id": "q2QeZZzFt0sd",
        "colab_type": "code",
        "colab": {}
      },
      "source": [
        "class DynamicState(object):\n",
        "  \n",
        "  __slots__ = ['min_weight', 'cost', 'last_item']\n",
        "\n",
        "  def __init__(self, min_weight=math.inf, cost=0, last_item=-1, \n",
        "               *args, **kwargs):\n",
        "    self.min_weight = min_weight\n",
        "    self.cost = cost\n",
        "    self.last_item = last_item"
      ],
      "execution_count": 0,
      "outputs": []
    },
    {
      "cell_type": "code",
      "metadata": {
        "id": "S1VYtIW3t7cx",
        "colab_type": "code",
        "colab": {}
      },
      "source": [
        "def launch_dynamic(items, max_weight, max_cost=0) -> list:\n",
        "  if max_cost == 0:\n",
        "    max_cost = functools.reduce(\n",
        "        function=lambda total, item: total + item.cost,\n",
        "        iterable=items)\n",
        "  states = [DynamicState() for _ in range(max_cost+1)]\n",
        "  states[0].min_weight = 0\n",
        "  for (index, item) in enumerate(items):\n",
        "    for cost in range(max_cost, item.cost, -1):\n",
        "      if item.weight + states[cost-item.cost].min_weight < \\\n",
        "      states[cost].min_weight:\n",
        "        states[cost] = DynamicState(\n",
        "            item.weight + states[cost-item.cost].min_weight,\n",
        "            item.cost + states[cost-item.cost].cost, index\n",
        "        )\n",
        "  return states"
      ],
      "execution_count": 0,
      "outputs": []
    },
    {
      "cell_type": "markdown",
      "metadata": {
        "id": "vQ_zuiqcn03o",
        "colab_type": "text"
      },
      "source": [
        "# Polynomial approximation"
      ]
    },
    {
      "cell_type": "markdown",
      "metadata": {
        "id": "WfHe9W53sch9",
        "colab_type": "text"
      },
      "source": [
        "> **Определение:** Пусть у нас есть $\\textbf{NP}$-сложная задача максимизации функции $f$, $E-$ ее входные данные, $C_{E}-$ оптимальный ответ на входе $E$. Алгоритм называется **$(1 - \\varepsilon)-$приближением** для решения данной задачи, если на входе $(E, \\varepsilon)$ он выдает такое ответ $C_{E}^{'}$, что $C_{E}^{'} \\geq (1 - \\varepsilon) \\cdot C_{E}$. Если алгоритм работает за полиномиальное время от размера входа и $\\frac{1}{\\varepsilon}$, то он называется **полиномиальным приближением**.  \n",
        "\n",
        "В предположении $\\textbf{P} \\neq \\textbf{NP}$ задача о рюкзаке не имеет полиномиального алгоритма решения. Но при этом, если придумать алгоритм полиномиального приближения, то за полиномиальное время мы научимся приближенно решать задачу, получая ответ заданной точности.  \n",
        "\n",
        "Обозначим максимально возможную стоимость предметов, общего веса $\\leq W$ за $C'$. Рассмотрим два алгоритма:  \n",
        "\n",
        "\n",
        "*   основанный на подходе динамического программирования\n",
        "*   алгоритм Ибарры-Кима\n",
        "\n"
      ]
    },
    {
      "cell_type": "markdown",
      "metadata": {
        "id": "49OMPjWsn6v7",
        "colab_type": "text"
      },
      "source": [
        "## Polynomial approximation by dynamic programming"
      ]
    },
    {
      "cell_type": "markdown",
      "metadata": {
        "id": "ZyO5WKNAfkK6",
        "colab_type": "text"
      },
      "source": [
        "**Алгоритм:**\n",
        "*  Удалим все предметы, масса которых больше максимально возможной.\n",
        "*  Определим $c_{0} := \\max\\limits_{1\\leq i\\leq n} c_{i}$ (под $n$ подразумевается количество уже отфильтрованных предметов). \n",
        "*  Заменим стоимость каждого предмета $c_{i}$ на $c_{i}^{'} := \\left[\\frac{c_{i}}{\\delta}\\right]$, где нормирующий коэффициент $\\delta$ равен $\\frac{\\varepsilon \\cdot c_{0}}{n}$, а $n-$ это как и всегда количество предметов. \n",
        "*  Для новых стоимостей найдем наилучшее решение псевдополиномиальным алгоритмом, предметы из этого решения и будут ответом (обозначим их индексы за $I$).  \n",
        "\n",
        "> **Теорема.** Построенный алгоритм является полиномиальным приближения задачи о рюкзаке. Временная сложность алгоритма $O(\\frac{n^{3}}{\\varepsilon})$, пространственная сложность $O(\\frac{n^{2}}{\\varepsilon})$.  \n",
        "\n",
        "> **Доказательство.** Докажем, что алгоритм действительно строит $(1 - \\varepsilon)-$приближение. Мы знаем, что псевдополиномиальное приближение находит точное решение. Т.е. переходя от начальных нецелых стоимостей к целым, путем взятия целой части при делении на $\\delta$, мы найдем точное решение в стоимостях $c^{'}$. Пусть $I_{0}-$индексы предметов из истинного решения исходной задачи, $I-$индексы решения задачи в стоимостях $c^{'}>0$, тогда верно:\n",
        "$$\n",
        "\\sum\\limits_{i \\in I} \\frac{c_{i}}{\\delta} \\geq \\sum\\limits_{i \\in I} \\left[\\frac{c_{i}}{\\delta}\\right] \\geq \\sum\\limits_{i \\in I} c_{i}^{'} \\geq \\sum\\limits_{j \\in I_{0}} c_{j}^{'}\n",
        ".$$\n",
        "Значит,\n",
        "$$\n",
        "\\sum\\limits_{i \\in I} c_{i} \\geq \\delta \\cdot \\sum\\limits_{j \\in I_{0}} c_{j}^{'}\n",
        ".$$\n",
        "И из неравенства:\n",
        "$$\n",
        "\\sum\\limits_{i \\in I_{0}} (c_{i} - \\delta \\cdot c_{i}^{'}) = \\sum\\limits_{i \\in I_{0}} (c_{i} - \\delta \\cdot \\left[\\frac{c_{i}}{\\delta}\\right]) = \\delta\\cdot\\sum\\limits_{i \\in I_{0}} (\\frac{c_{i}}{\\delta} - \\left[\\frac{c_{i}}{\\delta}\\right]) \\leq \\delta\\cdot\\sum\\limits_{i \\in I_{0}} 1 = \\delta \\cdot |I_{0}| \\leq \\delta \\cdot n = \\frac{\\varepsilon \\cdot c_{0}}{n} \\cdot n \\leq \\varepsilon \\cdot c_{0} \\leq \\varepsilon \\cdot C^{'}\n",
        ".$$\n",
        "Получаем оценку:\n",
        "$$\n",
        "\\sum\\limits_{i \\in I} c_{i}\\geq \\delta \\cdot \\sum\\limits_{j \\in I_{0}} c_{j}^{'} \\geq \\sum\\limits_{i \\in I_{0}} c_{i} - \\varepsilon \\cdot C^{'} = (\\frac{\\sum\\limits_{i \\in I_{0}} c_{i}}{C^{'}} - \\varepsilon) \\cdot C^{'} \\geq (1 - \\varepsilon) \\cdot C^{'}\n",
        ",$$\n",
        "т.к. $\\sum\\limits_{i \\in I_{0}} c_{i} \\geq C^{'}.$  \n",
        "А, значит, найденный нами набор является $(1-\\varepsilon)-$приближением ответа. Заметим, т.к. $\\frac{c_{0}}{\\delta} = \\frac{n}{\\varepsilon}$, то максимальная стоимость решения не больше, чем $\\frac{n^{2}}{\\varepsilon}$, следовательно, и алгоритм работает за $O(\\frac{n^{3}}{\\varepsilon})$. При этом пространственная сложность $O(\\frac{n^{2}}{\\varepsilon})$\n"
      ]
    },
    {
      "cell_type": "markdown",
      "metadata": {
        "id": "KYaj7iRllzid",
        "colab_type": "text"
      },
      "source": [
        "## Implementation"
      ]
    },
    {
      "cell_type": "markdown",
      "metadata": {
        "id": "p9XF9LsCaNp2",
        "colab_type": "text"
      },
      "source": [
        "Функция $\\verb|compute_delta_normaized_items|$ высчитывает отнормированную по $\\delta$ стоимость предмета."
      ]
    },
    {
      "cell_type": "code",
      "metadata": {
        "id": "tVbC81h4aN0-",
        "colab_type": "code",
        "colab": {}
      },
      "source": [
        "def compute_delta_normaized_items(items, delta) -> list:\n",
        "  for item in items:\n",
        "    item.rounded_cost = int(item.cost / delta)\n",
        "  return items"
      ],
      "execution_count": 0,
      "outputs": []
    },
    {
      "cell_type": "markdown",
      "metadata": {
        "id": "TxKDIK4ldhYo",
        "colab_type": "text"
      },
      "source": [
        "Вспомогательная функция $\\verb|compute_dynamic_approx|$ вычисляет "
      ]
    },
    {
      "cell_type": "code",
      "metadata": {
        "id": "Ep_GNW_Plzw6",
        "colab_type": "code",
        "colab": {}
      },
      "source": [
        "def compute_dynamic_approx(items, delta, max_cost=0) -> list:\n",
        "  if max_cost == 0:\n",
        "    max_cost = sum((item.rounded_cost for item in items))\n",
        "  states = [DynamicState() for _ in range(max_cost+1)]\n",
        "  states[0].min_weight = 0\n",
        "  for (index, item) in enumerate(items):\n",
        "    for cost in range(max_cost, item.rounded_cost-1, -1):\n",
        "      if item.weight + states[cost - item.rounded_cost].min_weight < \\\n",
        "      states[cost].min_weight:\n",
        "        states[cost] = DynamicState(\n",
        "          item.weight + states[cost - item.rounded_cost].min_weight,\n",
        "          item.cost + states[cost - item.rounded_cost].cost, index)\n",
        "  return states"
      ],
      "execution_count": 0,
      "outputs": []
    },
    {
      "cell_type": "code",
      "metadata": {
        "id": "RY-ssPwvdhg0",
        "colab_type": "code",
        "colab": {}
      },
      "source": [
        "def launch_polynomial_approx_by_dynamic(items, max_weight, precision):\n",
        "  filtered_items = list(filter(lambda item: item.weight <= max_weight, items))\n",
        "  c0 = max(filtered_items, key=operator.attrgetter('cost')).cost\n",
        "  delta = c0 * precision / len(filtered_items)\n",
        "  if 'rounded_cost' not in filtered_items[0].__dict__.keys():\n",
        "    compute_delta_normaized_items(filtered_items, delta)\n",
        "  states = compute_dynamic_approx(filtered_items, delta, \n",
        "                                  max_cost=int(len(filtered_items)*c0/delta))\n",
        "  max_cost, rounded_cost = 0, 0\n",
        "  for (index, state) in enumerate(states):\n",
        "    if state.min_weight > max_weight:\n",
        "      continue\n",
        "    if state.cost > max_cost:\n",
        "      max_cost = state.cost\n",
        "      rounded_cost = index\n",
        "  result = []\n",
        "  while rounded_cost > 0:\n",
        "    result.append(filtered_items[states[rounded_cost].last_item])\n",
        "    rounded_cost -= result[-1].rounded_cost\n",
        "  return result"
      ],
      "execution_count": 0,
      "outputs": []
    },
    {
      "cell_type": "markdown",
      "metadata": {
        "id": "KA7m_1wioCFf",
        "colab_type": "text"
      },
      "source": [
        "## Polynomial approximation by Ibarra-Kim"
      ]
    },
    {
      "cell_type": "markdown",
      "metadata": {
        "id": "hZZNWL5GfkS6",
        "colab_type": "text"
      },
      "source": [
        "Алгоритм гарантированно получает $(1-\\varepsilon)-$приближение в случае, когда $C' \\geq \\max{\\{\\sum\\limits_{i=1}^{k} c_{i}; c_{k+1}\\}}$, где предметы отсортированны как в жадном алгоритме, $k$ взято из него же. Для этого случая будет доказана его корректность.  \n",
        "Суть алгоритма состоит в разделении предметов на **дорогие** и **дешевые**. Для дорогих предметов воспользуемся псевдополиномиальным алгоритмом. Для дешевых, учитывая оставшийся вес от выбранных дорогих, воспользуемся жадным алгоритмом.  \n",
        "\n",
        "**Алгоритм**:\n",
        "*  Обозначим ${\\bf C_{m}} = \\frac{1}{2} \\cdot \\sum\\limits_{i=1}^{k+1} c_{i}$, где $k$ взято из жадного алгоритма (перед этим отсортировали предметы по $p_{i}=\\frac{c_{i}}{w_{i}})$. Имеем ${\\bf C_{m}} \\leq C' \\leq 2 \\cdot {\\bf C_{m}}$, при условии, что $C' \\geq \\max{\\{\\sum\\limits_{i=1}^{k} c_i; c_{k + 1}\\}}$.\n",
        "*  Разделим предметы **дорогие** и **дешевые**. Если $c_i \\geq \\varepsilon \\cdot {\\bf C_m} $, то он дорогой, иначе $-$ дешевый. Пусть дорогие объекты имеют индексы: $1,...,l$, дешевые $-$ $l+1,...,n$.\n",
        "*  Обозначим $\\delta := \\varepsilon^2 \\cdot {\\bf C_{m}}$. Заменим стоимость каждого дорогого на целое число: $c_{i} \\rightarrow \\left[\\frac{c_i}{\\delta}\\right]$\n",
        "*  Обозначим $C_{lim} := [\\frac{2 \\cdot {\\bf C_{m}}}{\\delta}]$, где $m-$ количество дорогих элементов. \n",
        "*  Далее $\\forall c \\in \\{0,...,C_{lim}\\}$: для дорогих $-$ псевдополиномиальным алгоритмом находим $w(m, c)$ (мы нашли минимальный вес дорогих имеющих стоимость не меньше $c$), обозначим соответствующую им стоимость за $C_{c}^{1}$; дешевых $-$ жадным алгоритмом находим объекты, дающие максимальную стоимость, имеющих вес не больше $(W - w(m, c))$, обозначим соответствующую им стоимость за $C_{c}^{2}$; суммируем найденные стоимости.\n",
        "*  Нашим ответом будет $\\max\\limits_{0\\leq j\\leq C_{lim}} \\{C_{j}^{1} + C_{j}^{2}\\}$.   \n",
        "\n",
        "> **Теорема.** При условии $C' \\geq \\max{\\{\\sum\\limits_{i=1}^{k} c_{i}; c_{k + 1}\\}}$ данный алгоритм строит $(1-\\varepsilon)-$приближение истинного решения. Временная сложность алгоритма $O(n \\cdot \\log n + \\frac{n}{\\varepsilon^2})$.  \n",
        "\n",
        "> **Доказательство.**  Докажем, что алгоритм строит $(1-\\varepsilon)-$приближение.  \n",
        "Для **дорогих** предметов верно неравенство, доказанное ранне (в силу того, что целая часть от частного, умноженная на делитель, отличается от делимого менее, чем на делитель):\n",
        "$$\n",
        "c_{i} - \\delta \\cdot c_{i}^{'} \\leq c_{i} - \\delta \\cdot \\left[\\frac{c_{i}}{\\delta}\\right] < \\delta\n",
        "$$\n",
        "При этом, $\\delta = \\varepsilon^2 \\cdot {\\bf C_{m}}$, и для любого дорогого предмета выполнено: $c_{i} \\geq \\varepsilon \\cdot {\\bf C_{m}}$. Из этого получаем, что:\n",
        "$$\n",
        "c_{i} - \\delta c_{i}^{'} < \\varepsilon^2 \\cdot {\\bf C_{m}} \\leq \\varepsilon^2 \\cdot \\frac{c_{i}}{\\varepsilon} = \\varepsilon \\cdot c_{i}\n",
        "$$\n",
        "То есть суммарная ошибка для дорогих не больше, чем $2 \\cdot \\varepsilon \\cdot {\\bf C_{m}}$.  \n",
        "Для **дешевых** предметов мы применяем жадный алгоритм, значит, верно, что найденное решение отличается от истинного не более, чем, на $c_{l+1}$, где $l-$ размер множества предметов, полученного жадным алгоритмом для дешевых предметов, т.е. не более, чем на $\\varepsilon \\cdot {\\bf C_{m}}$. Значит, суммарная ошибка на всех предметах не более $3 \\cdot \\varepsilon \\cdot {\\bf C_{m}} \\leq 3 \\cdot \\varepsilon \\cdot C^{'}$.  \n",
        "Осталось доказать, что алгоритм работает за  $O(n \\cdot \\log n + \\frac{n}{\\varepsilon^2})$. Сложность сортировки, поиска ${\\bf C_{m}}$ и разделения предметов составляет $O(n \\cdot \\log n)$. Сложность подсчёта $w(n, c)$ составляет $O({\\bf C_m} \\cdot \\frac{n}{\\delta}) = O(\\frac{n}{\\varepsilon^{2}})$. Тогда общая **сложность алгоритма**: $O(n \\cdot \\log n + \\frac{n}{\\varepsilon^2})$."
      ]
    },
    {
      "cell_type": "markdown",
      "metadata": {
        "id": "de-8DPo3l1V7",
        "colab_type": "text"
      },
      "source": [
        "## Implementation"
      ]
    },
    {
      "cell_type": "code",
      "metadata": {
        "id": "vluAQczDXx_h",
        "colab_type": "code",
        "colab": {}
      },
      "source": [
        "def launch_ibarra_kim(items, max_weight, precision) -> list:\n",
        "  precision /= 3  # см. \"суммарная ошибка\" в доказательстве выше\n",
        "  filtered_items = list(filter(lambda item: item.weight <= max_weight, items))\n",
        "  filtered_items = sorted(filtered_items, \n",
        "                          key=lambda item: -item.cost/item.weight)\n",
        "  solution = launch_greedy(filtered_items, max_weight)\n",
        "  if solution.size == len(filtered_items):\n",
        "    return filtered_items\n",
        "  C_m = 0.5 * (solution.cost + filtered_items[solution.size].cost)  \n",
        "  expensive_threshold = lambda item: item.cost >= precision*C_m\n",
        "  expensive_items = list(filter(expensive_threshold, filtered_items))\n",
        "  cheap_threshold = lambda item: not expensive_threshold(item)\n",
        "  cheap_items = list(filter(cheap_threshold, filtered_items))\n",
        "  compute_delta_normaized_items(filtered_items, C_m * precision**2)\n",
        "  if len(expensive_items) == 0:\n",
        "    return launch_greedy(expensive_items, max_weight)\n",
        "  dynamic_states = compute_dynamic_approx(expensive_items, C_m * precision**2, \n",
        "                                          int(2/precision**2+1))\n",
        "  max_cost = 0\n",
        "  expensive_max_rounded_cost = 0\n",
        "  greedy_solution_size = 0\n",
        "  for rounded_cost in range(len(dynamic_states)):\n",
        "    if dynamic_states[rounded_cost].min_weight > max_weight:\n",
        "      continue\n",
        "    local_greedy = launch_greedy(\n",
        "      items=cheap_items,\n",
        "      max_weight=max_weight-dynamic_states[rounded_cost].min_weight\n",
        "    )\n",
        "    if local_greedy.cost + dynamic_states[rounded_cost].cost > max_cost:\n",
        "      max_cost = local_greedy.cost + dynamic_states[rounded_cost].cost\n",
        "      expensive_max_rounded_cost = rounded_cost\n",
        "      greedy_solution_size = local_greedy.size\n",
        "  current_cost = expensive_max_rounded_cost\n",
        "  maximum_set_items = []\n",
        "  while current_cost > 0:\n",
        "    maximum_set_items.append(\n",
        "      expensive_items[dynamic_states[current_cost].last_item])\n",
        "    current_cost -= maximum_set_items[-1].rounded_cost\n",
        "  maximum_set_items.reverse()\n",
        "  for i in range (greedy_solution_size):\n",
        "    maximum_set_items.append(cheap_items[i])\n",
        "  return maximum_set_items"
      ],
      "execution_count": 0,
      "outputs": []
    },
    {
      "cell_type": "markdown",
      "metadata": {
        "id": "WVWzAQguzbaG",
        "colab_type": "text"
      },
      "source": [
        "# Testing  \n",
        "\n"
      ]
    },
    {
      "cell_type": "code",
      "metadata": {
        "id": "sami92Xzzeag",
        "colab_type": "code",
        "colab": {}
      },
      "source": [
        "import random\n",
        "\n",
        "\n",
        "class GeneratorsFactory:\n",
        "\n",
        "  @staticmethod\n",
        "  def get_power_of_two_items_set(size, start_weight=1):\n",
        "    def items_generator():\n",
        "      nonlocal size, start_weight\n",
        "      for _ in range(size):\n",
        "        yield Item(start_weight, start_weight)\n",
        "        start_weight *= 2\n",
        "    return items_generator\n",
        "\n",
        "  @staticmethod\n",
        "  def get_sequential_items_set(size, start_weight=1):\n",
        "    def items_generator():\n",
        "      nonlocal size, start_weight\n",
        "      for value in range(start_weight, size+start_weight):\n",
        "        yield Item(value, value)\n",
        "    return items_generator\n",
        "\n",
        "  @staticmethod\n",
        "  def get_random_items_set(size, lrange=1, rrange=100):\n",
        "    def items_generator():\n",
        "      nonlocal size, lrange, rrange\n",
        "      for _ in range(size):\n",
        "        yield Item(weight=random.randint(lrange, rrange), \n",
        "                  cost=random.randint(lrange, rrange))\n",
        "    return items_generator"
      ],
      "execution_count": 0,
      "outputs": []
    },
    {
      "cell_type": "code",
      "metadata": {
        "id": "iLvbN_ZY5jtj",
        "colab_type": "code",
        "colab": {}
      },
      "source": [
        "import time\n",
        "\n",
        "\n",
        "class TestTimer:\n",
        " \n",
        "  benchmark_result = None\n",
        "\n",
        "  def __init__(self, label, test_num):\n",
        "    self.label = label\n",
        "    self.test_num = test_num\n",
        "\n",
        "  def __enter__(self):\n",
        "    self.start = time.time()\n",
        "    return self\n",
        "\n",
        "  def __exit__(self, exc_type, exc_val, exc_tb):\n",
        "    end = time.time()\n",
        "    runtime = end - self.start\n",
        "    TestTimer.benchmark_result = runtime\n",
        "\n",
        "  @staticmethod\n",
        "  def drop_benchmark_data():\n",
        "    TestTimer.benchmark_result = None"
      ],
      "execution_count": 0,
      "outputs": []
    },
    {
      "cell_type": "code",
      "metadata": {
        "id": "Ur22hTdRwjxb",
        "colab_type": "code",
        "colab": {}
      },
      "source": [
        "import copy\n",
        "\n",
        "\n",
        "class TestRunner:\n",
        "\n",
        "  def __init__(self):\n",
        "    self.test_num = 0\n",
        "    self._tests_results = {}\n",
        "\n",
        "  def _store(self, algo, label, exectime, result, max_weight, precision):\n",
        "    if self._tests_results.get(self.test_num, None) is None: \n",
        "      self._tests_results[self.test_num] = {\n",
        "          \"label\": label,\n",
        "          \"max_weight\": max_weight,\n",
        "          \"precision\": precision,\n",
        "          \"execution\": {}\n",
        "      }\n",
        "    self._tests_results[self.test_num][\"execution\"][algo] = {}\n",
        "    self._tests_results[self.test_num][\"execution\"][algo][\"time\"] = exectime\n",
        "    self._tests_results[self.test_num][\"execution\"][algo][\"result\"] = result\n",
        "\n",
        "  def _reduce(self, items):\n",
        "    return {\"weight\": sum((item.weight for item in items)), \n",
        "            \"cost\": sum((item.cost for item in items))}\n",
        "\n",
        "  def run(self, label, generator, allow_bruteforce, max_weight, precision):\n",
        "    self.test_num += 1\n",
        "    items = list(generator())\n",
        "    if allow_bruteforce:\n",
        "      bruteforce_result = None\n",
        "      with TestTimer(label, self.test_num):\n",
        "        bruteforce_result = launch_bruteforce(items, max_weight)\n",
        "      self._store(\"bruteforce\", label, exectime=TestTimer.benchmark_result,\n",
        "                  result={\"weight\": bruteforce_result[0], \n",
        "                          \"cost\": bruteforce_result[1]},\n",
        "                  max_weight=max_weight, \n",
        "                  precision=precision)\n",
        "    poly_approx_result = None\n",
        "    with TestTimer(label, self.test_num):\n",
        "      poly_approx_result = launch_polynomial_approx_by_dynamic(items, \n",
        "                                                               max_weight,\n",
        "                                                               precision)\n",
        "    self._store(\"dynamic\", label, exectime=TestTimer.benchmark_result,\n",
        "                result=self._reduce(poly_approx_result), max_weight=max_weight, \n",
        "                precision=precision)\n",
        "    ibarra_kim_result = None\n",
        "    with TestTimer(label, self.test_num):\n",
        "      ibarra_kim_result = launch_ibarra_kim(items, max_weight, precision)\n",
        "    self._store(\"ibarra-kim\", label, exectime=TestTimer.benchmark_result,\n",
        "                result=self._reduce(ibarra_kim_result), max_weight=max_weight, \n",
        "                precision=precision)\n",
        "\n",
        "  @property\n",
        "  def tests_results(self):\n",
        "    return copy.deepcopy(self._tests_results)"
      ],
      "execution_count": 0,
      "outputs": []
    },
    {
      "cell_type": "code",
      "metadata": {
        "id": "ztKyX8eXH2nD",
        "colab_type": "code",
        "colab": {}
      },
      "source": [
        "runner = TestRunner()"
      ],
      "execution_count": 0,
      "outputs": []
    },
    {
      "cell_type": "markdown",
      "metadata": {
        "id": "BJL_49su3ot6",
        "colab_type": "text"
      },
      "source": [
        "Проведем несколько серий тестовых запусков. Поделим серии на $3$ типа:\n",
        "\n",
        "\n",
        "1.   $c_{i} = p_{i}-$генерируются последовательно на $\\{a;...;a+n\\}$\n",
        "2.   $c_{i} = p_{i}-$генерируются степенями двойки, т.е. на $\\{x|x=2^{b}, a\\leq b\\leq a+n\\}$\n",
        "3.   $c_{i},p_{i}-$генерируются рандомом\n",
        "\n",
        "### Запустим серии первого типа."
      ]
    },
    {
      "cell_type": "code",
      "metadata": {
        "id": "A670tCQkwnd4",
        "colab_type": "code",
        "colab": {}
      },
      "source": [
        "runner.run(\n",
        "    label=\"sequential\",\n",
        "    generator=GeneratorsFactory.get_sequential_items_set(10),\n",
        "    allow_bruteforce=True,\n",
        "    max_weight=40,\n",
        "    precision=0.5\n",
        ")\n",
        "\n",
        "runner.run(\n",
        "    label=\"sequential\",\n",
        "    generator=GeneratorsFactory.get_sequential_items_set(10),\n",
        "    allow_bruteforce=True,\n",
        "    max_weight=40,\n",
        "    precision=0.1\n",
        ")\n",
        "\n",
        "runner.run(\n",
        "    label=\"sequential\",\n",
        "    generator=GeneratorsFactory.get_sequential_items_set(10),\n",
        "    allow_bruteforce=True,\n",
        "    max_weight=40,\n",
        "    precision=0.05\n",
        ")\n",
        "\n",
        "runner.run(\n",
        "    label=\"sequential\",\n",
        "    generator=GeneratorsFactory.get_sequential_items_set(10),\n",
        "    allow_bruteforce=True,\n",
        "    max_weight=40,\n",
        "    precision=0.01\n",
        ")\n",
        "\n",
        "runner.run(\n",
        "    label=\"sequential\",\n",
        "    generator=GeneratorsFactory.get_sequential_items_set(10),\n",
        "    allow_bruteforce=True,\n",
        "    max_weight=40,\n",
        "    precision=0.001\n",
        ")\n",
        "\n",
        "runner.run(\n",
        "    label=\"sequential\",\n",
        "    generator=GeneratorsFactory.get_sequential_items_set(100),\n",
        "    allow_bruteforce=False,\n",
        "    max_weight=400,\n",
        "    precision=0.5\n",
        ")\n",
        "\n",
        "runner.run(\n",
        "    label=\"sequential\",\n",
        "    generator=GeneratorsFactory.get_sequential_items_set(100),\n",
        "    allow_bruteforce=False,\n",
        "    max_weight=400,\n",
        "    precision=0.1\n",
        ")\n",
        "\n",
        "runner.run(\n",
        "    label=\"sequential\",\n",
        "    generator=GeneratorsFactory.get_sequential_items_set(100),\n",
        "    allow_bruteforce=False,\n",
        "    max_weight=400,\n",
        "    precision=0.05\n",
        ")\n",
        "\n",
        "runner.run(\n",
        "    label=\"sequential\",\n",
        "    generator=GeneratorsFactory.get_sequential_items_set(100),\n",
        "    allow_bruteforce=False,\n",
        "    max_weight=400,\n",
        "    precision=0.01\n",
        ") \n",
        "\n",
        "runner.run(\n",
        "    label=\"sequential\",\n",
        "    generator=GeneratorsFactory.get_sequential_items_set(100),\n",
        "    allow_bruteforce=False,\n",
        "    max_weight=400,\n",
        "    precision=0.001\n",
        ") "
      ],
      "execution_count": 0,
      "outputs": []
    },
    {
      "cell_type": "markdown",
      "metadata": {
        "id": "ErCKoqQq3ptc",
        "colab_type": "text"
      },
      "source": [
        "### Запустим серии второго типа."
      ]
    },
    {
      "cell_type": "code",
      "metadata": {
        "id": "eXFcTe6XIWcv",
        "colab_type": "code",
        "colab": {}
      },
      "source": [
        "runner.run(\n",
        "    label=\"power of two\",\n",
        "    generator=GeneratorsFactory.get_power_of_two_items_set(10),\n",
        "    allow_bruteforce=True,\n",
        "    max_weight=777,\n",
        "    precision=0.5\n",
        ")\n",
        "\n",
        "runner.run(\n",
        "    label=\"power of two\",\n",
        "    generator=GeneratorsFactory.get_power_of_two_items_set(10),\n",
        "    allow_bruteforce=True,\n",
        "    max_weight=777,\n",
        "    precision=0.1\n",
        ")\n",
        "\n",
        "runner.run(\n",
        "    label=\"power of two\",\n",
        "    generator=GeneratorsFactory.get_power_of_two_items_set(10),\n",
        "    allow_bruteforce=True,\n",
        "    max_weight=777,\n",
        "    precision=0.05\n",
        ")\n",
        "\n",
        "runner.run(\n",
        "    label=\"power of two\",\n",
        "    generator=GeneratorsFactory.get_power_of_two_items_set(10),\n",
        "    allow_bruteforce=True,\n",
        "    max_weight=777,\n",
        "    precision=0.01\n",
        ")\n",
        "\n",
        "runner.run(\n",
        "    label=\"power of two\",\n",
        "    generator=GeneratorsFactory.get_power_of_two_items_set(10),\n",
        "    allow_bruteforce=True,\n",
        "    max_weight=777,\n",
        "    precision=0.001\n",
        ")\n",
        "\n",
        "runner.run(\n",
        "    label=\"power of two\",\n",
        "    generator=GeneratorsFactory.get_power_of_two_items_set(100),\n",
        "    allow_bruteforce=False,\n",
        "    max_weight=2**69,\n",
        "    precision=0.5\n",
        ")\n",
        "\n",
        "runner.run(\n",
        "    label=\"power of two\",\n",
        "    generator=GeneratorsFactory.get_power_of_two_items_set(100),\n",
        "    allow_bruteforce=False,\n",
        "    max_weight=2**69,\n",
        "    precision=0.1\n",
        ")\n",
        "\n",
        "runner.run(\n",
        "    label=\"power of two\",\n",
        "    generator=GeneratorsFactory.get_power_of_two_items_set(100),\n",
        "    allow_bruteforce=False,\n",
        "    max_weight=2**69,\n",
        "    precision=0.05\n",
        ")\n",
        "\n",
        "runner.run(\n",
        "    label=\"power of two\",\n",
        "    generator=GeneratorsFactory.get_power_of_two_items_set(100),\n",
        "    allow_bruteforce=False,\n",
        "    max_weight=2**69,\n",
        "    precision=0.01\n",
        ")\n",
        "\n",
        "runner.run(\n",
        "    label=\"power of two\",\n",
        "    generator=GeneratorsFactory.get_power_of_two_items_set(100),\n",
        "    allow_bruteforce=False,\n",
        "    max_weight=2**69,\n",
        "    precision=0.001\n",
        ")"
      ],
      "execution_count": 0,
      "outputs": []
    },
    {
      "cell_type": "markdown",
      "metadata": {
        "id": "i73tM8bZ3qh-",
        "colab_type": "text"
      },
      "source": [
        "### Запустим серии третьего типа."
      ]
    },
    {
      "cell_type": "code",
      "metadata": {
        "id": "vYKZyaatIXkb",
        "colab_type": "code",
        "colab": {}
      },
      "source": [
        "runner.run(\n",
        "    label=\"random\",\n",
        "    generator=GeneratorsFactory.get_random_items_set(10, 1, 40),\n",
        "    allow_bruteforce=True,\n",
        "    max_weight=40,\n",
        "    precision=0.5\n",
        ")\n",
        "\n",
        "runner.run(\n",
        "    label=\"random\",\n",
        "    generator=GeneratorsFactory.get_random_items_set(10, 1, 40),\n",
        "    allow_bruteforce=True,\n",
        "    max_weight=40,\n",
        "    precision=0.1\n",
        ")\n",
        "\n",
        "runner.run(\n",
        "    label=\"random\",\n",
        "    generator=GeneratorsFactory.get_random_items_set(10, 1, 40),\n",
        "    allow_bruteforce=True,\n",
        "    max_weight=40,\n",
        "    precision=0.05\n",
        ")\n",
        "\n",
        "runner.run(\n",
        "    label=\"random\",\n",
        "    generator=GeneratorsFactory.get_random_items_set(10, 1, 40),\n",
        "    allow_bruteforce=True,\n",
        "    max_weight=40,\n",
        "    precision=0.01\n",
        ")\n",
        "\n",
        "runner.run(\n",
        "    label=\"random\",\n",
        "    generator=GeneratorsFactory.get_random_items_set(10, 1, 40),\n",
        "    allow_bruteforce=True,\n",
        "    max_weight=40,\n",
        "    precision=0.001\n",
        ")\n",
        "\n",
        "runner.run(\n",
        "    label=\"random\",\n",
        "    generator=GeneratorsFactory.get_random_items_set(100, 1, 400),\n",
        "    allow_bruteforce=False,\n",
        "    max_weight=400,\n",
        "    precision=0.5\n",
        ")\n",
        "\n",
        "runner.run(\n",
        "    label=\"random\",\n",
        "    generator=GeneratorsFactory.get_random_items_set(100, 1, 400),\n",
        "    allow_bruteforce=False,\n",
        "    max_weight=400,\n",
        "    precision=0.1\n",
        ")\n",
        "\n",
        "runner.run(\n",
        "    label=\"random\",\n",
        "    generator=GeneratorsFactory.get_random_items_set(100, 1, 400),\n",
        "    allow_bruteforce=False,\n",
        "    max_weight=400,\n",
        "    precision=0.05\n",
        ")\n",
        "\n",
        "runner.run(\n",
        "    label=\"random\",\n",
        "    generator=GeneratorsFactory.get_random_items_set(100, 1, 400),\n",
        "    allow_bruteforce=False,\n",
        "    max_weight=400,\n",
        "    precision=0.01\n",
        ")\n",
        "\n",
        "runner.run(\n",
        "    label=\"random\",\n",
        "    generator=GeneratorsFactory.get_random_items_set(100, 1, 400),\n",
        "    allow_bruteforce=False,\n",
        "    max_weight=400,\n",
        "    precision=0.001\n",
        ")"
      ],
      "execution_count": 0,
      "outputs": []
    },
    {
      "cell_type": "markdown",
      "metadata": {
        "id": "aIUYgiPe7HPJ",
        "colab_type": "text"
      },
      "source": [
        "### Проверим результат тестирования."
      ]
    },
    {
      "cell_type": "code",
      "metadata": {
        "id": "LlesU4Kj6q_r",
        "colab_type": "code",
        "colab": {
          "base_uri": "https://localhost:8080/",
          "height": 1000
        },
        "outputId": "add8bad5-258d-4e45-c276-34321373be3d"
      },
      "source": [
        "import pandas\n",
        "\n",
        "\n",
        "columns=[\n",
        "  \"Данные\", \"Пороговый вес\", \"Точность\", \"Перебор: вес\", \"Перебор: стоимость\",\n",
        "  \"Перебор: время\", \"Динамика: вес\", \"Динамика: стоимость\", \"Динамика: время\", \n",
        "  \"Ибарра-Ким: вес\", \"Ибарра-Ким: стоимость\", \"Ибарра-Ким: время\"\n",
        "]\n",
        "df = pandas.DataFrame(columns=columns)\n",
        "\n",
        "for test in runner.tests_results.values():\n",
        "  df = df.append(dict(zip(\n",
        "    columns, [\n",
        "      test[\"label\"],\n",
        "      test[\"max_weight\"],\n",
        "      test[\"precision\"],\n",
        "      test[\"execution\"].get(\"bruteforce\", {\"result\": {\"weight\": \"-\"}})[\"result\"][\"weight\"],\n",
        "      test[\"execution\"].get(\"bruteforce\", {\"result\": {\"cost\": \"-\"}})[\"result\"][\"cost\"],\n",
        "      test[\"execution\"].get(\"bruteforce\", {\"time\": \"-\"})[\"time\"],\n",
        "      test[\"execution\"][\"dynamic\"][\"result\"][\"weight\"],\n",
        "      test[\"execution\"][\"dynamic\"][\"result\"][\"cost\"],\n",
        "      test[\"execution\"][\"dynamic\"][\"time\"],\n",
        "      test[\"execution\"][\"ibarra-kim\"][\"result\"][\"weight\"],\n",
        "      test[\"execution\"][\"ibarra-kim\"][\"result\"][\"cost\"],\n",
        "      test[\"execution\"][\"ibarra-kim\"][\"time\"],\n",
        "    ]\n",
        "  )), ignore_index=True)\n",
        "\n",
        "df"
      ],
      "execution_count": 20,
      "outputs": [
        {
          "output_type": "execute_result",
          "data": {
            "text/html": [
              "<div>\n",
              "<style scoped>\n",
              "    .dataframe tbody tr th:only-of-type {\n",
              "        vertical-align: middle;\n",
              "    }\n",
              "\n",
              "    .dataframe tbody tr th {\n",
              "        vertical-align: top;\n",
              "    }\n",
              "\n",
              "    .dataframe thead th {\n",
              "        text-align: right;\n",
              "    }\n",
              "</style>\n",
              "<table border=\"1\" class=\"dataframe\">\n",
              "  <thead>\n",
              "    <tr style=\"text-align: right;\">\n",
              "      <th></th>\n",
              "      <th>Данные</th>\n",
              "      <th>Пороговый вес</th>\n",
              "      <th>Точность</th>\n",
              "      <th>Перебор: вес</th>\n",
              "      <th>Перебор: стоимость</th>\n",
              "      <th>Перебор: время</th>\n",
              "      <th>Динамика: вес</th>\n",
              "      <th>Динамика: стоимость</th>\n",
              "      <th>Динамика: время</th>\n",
              "      <th>Ибарра-Ким: вес</th>\n",
              "      <th>Ибарра-Ким: стоимость</th>\n",
              "      <th>Ибарра-Ким: время</th>\n",
              "    </tr>\n",
              "  </thead>\n",
              "  <tbody>\n",
              "    <tr>\n",
              "      <th>0</th>\n",
              "      <td>sequential</td>\n",
              "      <td>40</td>\n",
              "      <td>0.500</td>\n",
              "      <td>40</td>\n",
              "      <td>40</td>\n",
              "      <td>0.00268793</td>\n",
              "      <td>40</td>\n",
              "      <td>40</td>\n",
              "      <td>0.001374</td>\n",
              "      <td>55</td>\n",
              "      <td>55</td>\n",
              "      <td>0.000056</td>\n",
              "    </tr>\n",
              "    <tr>\n",
              "      <th>1</th>\n",
              "      <td>sequential</td>\n",
              "      <td>40</td>\n",
              "      <td>0.100</td>\n",
              "      <td>40</td>\n",
              "      <td>40</td>\n",
              "      <td>0.000977278</td>\n",
              "      <td>40</td>\n",
              "      <td>40</td>\n",
              "      <td>0.002582</td>\n",
              "      <td>55</td>\n",
              "      <td>55</td>\n",
              "      <td>0.000049</td>\n",
              "    </tr>\n",
              "    <tr>\n",
              "      <th>2</th>\n",
              "      <td>sequential</td>\n",
              "      <td>40</td>\n",
              "      <td>0.050</td>\n",
              "      <td>40</td>\n",
              "      <td>40</td>\n",
              "      <td>0.00103474</td>\n",
              "      <td>40</td>\n",
              "      <td>40</td>\n",
              "      <td>0.006227</td>\n",
              "      <td>55</td>\n",
              "      <td>55</td>\n",
              "      <td>0.000088</td>\n",
              "    </tr>\n",
              "    <tr>\n",
              "      <th>3</th>\n",
              "      <td>sequential</td>\n",
              "      <td>40</td>\n",
              "      <td>0.010</td>\n",
              "      <td>40</td>\n",
              "      <td>40</td>\n",
              "      <td>0.000971317</td>\n",
              "      <td>40</td>\n",
              "      <td>40</td>\n",
              "      <td>0.026681</td>\n",
              "      <td>55</td>\n",
              "      <td>55</td>\n",
              "      <td>0.000103</td>\n",
              "    </tr>\n",
              "    <tr>\n",
              "      <th>4</th>\n",
              "      <td>sequential</td>\n",
              "      <td>40</td>\n",
              "      <td>0.001</td>\n",
              "      <td>40</td>\n",
              "      <td>40</td>\n",
              "      <td>0.0011332</td>\n",
              "      <td>40</td>\n",
              "      <td>40</td>\n",
              "      <td>0.305207</td>\n",
              "      <td>55</td>\n",
              "      <td>55</td>\n",
              "      <td>0.000068</td>\n",
              "    </tr>\n",
              "    <tr>\n",
              "      <th>5</th>\n",
              "      <td>sequential</td>\n",
              "      <td>400</td>\n",
              "      <td>0.500</td>\n",
              "      <td>-</td>\n",
              "      <td>-</td>\n",
              "      <td>-</td>\n",
              "      <td>400</td>\n",
              "      <td>400</td>\n",
              "      <td>0.397277</td>\n",
              "      <td>5050</td>\n",
              "      <td>5050</td>\n",
              "      <td>0.000362</td>\n",
              "    </tr>\n",
              "    <tr>\n",
              "      <th>6</th>\n",
              "      <td>sequential</td>\n",
              "      <td>400</td>\n",
              "      <td>0.100</td>\n",
              "      <td>-</td>\n",
              "      <td>-</td>\n",
              "      <td>-</td>\n",
              "      <td>400</td>\n",
              "      <td>400</td>\n",
              "      <td>2.074235</td>\n",
              "      <td>5050</td>\n",
              "      <td>5050</td>\n",
              "      <td>0.000296</td>\n",
              "    </tr>\n",
              "    <tr>\n",
              "      <th>7</th>\n",
              "      <td>sequential</td>\n",
              "      <td>400</td>\n",
              "      <td>0.050</td>\n",
              "      <td>-</td>\n",
              "      <td>-</td>\n",
              "      <td>-</td>\n",
              "      <td>400</td>\n",
              "      <td>400</td>\n",
              "      <td>4.100209</td>\n",
              "      <td>5050</td>\n",
              "      <td>5050</td>\n",
              "      <td>0.000295</td>\n",
              "    </tr>\n",
              "    <tr>\n",
              "      <th>8</th>\n",
              "      <td>sequential</td>\n",
              "      <td>400</td>\n",
              "      <td>0.010</td>\n",
              "      <td>-</td>\n",
              "      <td>-</td>\n",
              "      <td>-</td>\n",
              "      <td>400</td>\n",
              "      <td>400</td>\n",
              "      <td>20.578099</td>\n",
              "      <td>5050</td>\n",
              "      <td>5050</td>\n",
              "      <td>0.000290</td>\n",
              "    </tr>\n",
              "    <tr>\n",
              "      <th>9</th>\n",
              "      <td>sequential</td>\n",
              "      <td>400</td>\n",
              "      <td>0.001</td>\n",
              "      <td>-</td>\n",
              "      <td>-</td>\n",
              "      <td>-</td>\n",
              "      <td>400</td>\n",
              "      <td>400</td>\n",
              "      <td>207.516027</td>\n",
              "      <td>5050</td>\n",
              "      <td>5050</td>\n",
              "      <td>0.000370</td>\n",
              "    </tr>\n",
              "    <tr>\n",
              "      <th>10</th>\n",
              "      <td>power of two</td>\n",
              "      <td>777</td>\n",
              "      <td>0.500</td>\n",
              "      <td>777</td>\n",
              "      <td>777</td>\n",
              "      <td>0.000961781</td>\n",
              "      <td>768</td>\n",
              "      <td>768</td>\n",
              "      <td>0.000492</td>\n",
              "      <td>1023</td>\n",
              "      <td>1023</td>\n",
              "      <td>0.000046</td>\n",
              "    </tr>\n",
              "    <tr>\n",
              "      <th>11</th>\n",
              "      <td>power of two</td>\n",
              "      <td>777</td>\n",
              "      <td>0.100</td>\n",
              "      <td>777</td>\n",
              "      <td>777</td>\n",
              "      <td>0.000933647</td>\n",
              "      <td>776</td>\n",
              "      <td>776</td>\n",
              "      <td>0.003046</td>\n",
              "      <td>1023</td>\n",
              "      <td>1023</td>\n",
              "      <td>0.000050</td>\n",
              "    </tr>\n",
              "    <tr>\n",
              "      <th>12</th>\n",
              "      <td>power of two</td>\n",
              "      <td>777</td>\n",
              "      <td>0.050</td>\n",
              "      <td>777</td>\n",
              "      <td>777</td>\n",
              "      <td>0.000992775</td>\n",
              "      <td>776</td>\n",
              "      <td>776</td>\n",
              "      <td>0.005438</td>\n",
              "      <td>1023</td>\n",
              "      <td>1023</td>\n",
              "      <td>0.000052</td>\n",
              "    </tr>\n",
              "    <tr>\n",
              "      <th>13</th>\n",
              "      <td>power of two</td>\n",
              "      <td>777</td>\n",
              "      <td>0.010</td>\n",
              "      <td>777</td>\n",
              "      <td>777</td>\n",
              "      <td>0.00103307</td>\n",
              "      <td>777</td>\n",
              "      <td>777</td>\n",
              "      <td>0.024662</td>\n",
              "      <td>1023</td>\n",
              "      <td>1023</td>\n",
              "      <td>0.000063</td>\n",
              "    </tr>\n",
              "    <tr>\n",
              "      <th>14</th>\n",
              "      <td>power of two</td>\n",
              "      <td>777</td>\n",
              "      <td>0.001</td>\n",
              "      <td>777</td>\n",
              "      <td>777</td>\n",
              "      <td>0.000962496</td>\n",
              "      <td>777</td>\n",
              "      <td>777</td>\n",
              "      <td>0.242924</td>\n",
              "      <td>1023</td>\n",
              "      <td>1023</td>\n",
              "      <td>0.000070</td>\n",
              "    </tr>\n",
              "    <tr>\n",
              "      <th>15</th>\n",
              "      <td>power of two</td>\n",
              "      <td>590295810358705651712</td>\n",
              "      <td>0.500</td>\n",
              "      <td>-</td>\n",
              "      <td>-</td>\n",
              "      <td>-</td>\n",
              "      <td>590295810358705651712</td>\n",
              "      <td>590295810358705651712</td>\n",
              "      <td>0.146037</td>\n",
              "      <td>590295810358705651712</td>\n",
              "      <td>590295810358705651712</td>\n",
              "      <td>0.001013</td>\n",
              "    </tr>\n",
              "    <tr>\n",
              "      <th>16</th>\n",
              "      <td>power of two</td>\n",
              "      <td>590295810358705651712</td>\n",
              "      <td>0.100</td>\n",
              "      <td>-</td>\n",
              "      <td>-</td>\n",
              "      <td>-</td>\n",
              "      <td>590295810358705651712</td>\n",
              "      <td>590295810358705651712</td>\n",
              "      <td>0.733477</td>\n",
              "      <td>590295810358705651712</td>\n",
              "      <td>590295810358705651712</td>\n",
              "      <td>0.005459</td>\n",
              "    </tr>\n",
              "    <tr>\n",
              "      <th>17</th>\n",
              "      <td>power of two</td>\n",
              "      <td>590295810358705651712</td>\n",
              "      <td>0.050</td>\n",
              "      <td>-</td>\n",
              "      <td>-</td>\n",
              "      <td>-</td>\n",
              "      <td>590295810358705651712</td>\n",
              "      <td>590295810358705651712</td>\n",
              "      <td>1.475798</td>\n",
              "      <td>590295810358705651712</td>\n",
              "      <td>590295810358705651712</td>\n",
              "      <td>0.018622</td>\n",
              "    </tr>\n",
              "    <tr>\n",
              "      <th>18</th>\n",
              "      <td>power of two</td>\n",
              "      <td>590295810358705651712</td>\n",
              "      <td>0.010</td>\n",
              "      <td>-</td>\n",
              "      <td>-</td>\n",
              "      <td>-</td>\n",
              "      <td>590295810358705651712</td>\n",
              "      <td>590295810358705651712</td>\n",
              "      <td>7.493155</td>\n",
              "      <td>590295810358705651712</td>\n",
              "      <td>590295810358705651712</td>\n",
              "      <td>0.444313</td>\n",
              "    </tr>\n",
              "    <tr>\n",
              "      <th>19</th>\n",
              "      <td>power of two</td>\n",
              "      <td>590295810358705651712</td>\n",
              "      <td>0.001</td>\n",
              "      <td>-</td>\n",
              "      <td>-</td>\n",
              "      <td>-</td>\n",
              "      <td>590295810358705651712</td>\n",
              "      <td>590295810358705651712</td>\n",
              "      <td>75.513651</td>\n",
              "      <td>590295810358705651712</td>\n",
              "      <td>590295810358705651712</td>\n",
              "      <td>63.016087</td>\n",
              "    </tr>\n",
              "    <tr>\n",
              "      <th>20</th>\n",
              "      <td>random</td>\n",
              "      <td>40</td>\n",
              "      <td>0.500</td>\n",
              "      <td>34</td>\n",
              "      <td>63</td>\n",
              "      <td>0.000898123</td>\n",
              "      <td>34</td>\n",
              "      <td>63</td>\n",
              "      <td>0.000539</td>\n",
              "      <td>34</td>\n",
              "      <td>63</td>\n",
              "      <td>0.000258</td>\n",
              "    </tr>\n",
              "    <tr>\n",
              "      <th>21</th>\n",
              "      <td>random</td>\n",
              "      <td>40</td>\n",
              "      <td>0.100</td>\n",
              "      <td>40</td>\n",
              "      <td>103</td>\n",
              "      <td>0.000912666</td>\n",
              "      <td>33</td>\n",
              "      <td>103</td>\n",
              "      <td>0.003254</td>\n",
              "      <td>37</td>\n",
              "      <td>73</td>\n",
              "      <td>0.003796</td>\n",
              "    </tr>\n",
              "    <tr>\n",
              "      <th>22</th>\n",
              "      <td>random</td>\n",
              "      <td>40</td>\n",
              "      <td>0.050</td>\n",
              "      <td>35</td>\n",
              "      <td>80</td>\n",
              "      <td>0.000958204</td>\n",
              "      <td>29</td>\n",
              "      <td>80</td>\n",
              "      <td>0.005340</td>\n",
              "      <td>36</td>\n",
              "      <td>31</td>\n",
              "      <td>0.011512</td>\n",
              "    </tr>\n",
              "    <tr>\n",
              "      <th>23</th>\n",
              "      <td>random</td>\n",
              "      <td>40</td>\n",
              "      <td>0.010</td>\n",
              "      <td>30</td>\n",
              "      <td>112</td>\n",
              "      <td>0.000878572</td>\n",
              "      <td>30</td>\n",
              "      <td>112</td>\n",
              "      <td>0.022894</td>\n",
              "      <td>25</td>\n",
              "      <td>63</td>\n",
              "      <td>0.330504</td>\n",
              "    </tr>\n",
              "    <tr>\n",
              "      <th>24</th>\n",
              "      <td>random</td>\n",
              "      <td>40</td>\n",
              "      <td>0.001</td>\n",
              "      <td>34</td>\n",
              "      <td>82</td>\n",
              "      <td>0.000906229</td>\n",
              "      <td>34</td>\n",
              "      <td>82</td>\n",
              "      <td>0.241821</td>\n",
              "      <td>28</td>\n",
              "      <td>58</td>\n",
              "      <td>36.611033</td>\n",
              "    </tr>\n",
              "    <tr>\n",
              "      <th>25</th>\n",
              "      <td>random</td>\n",
              "      <td>400</td>\n",
              "      <td>0.500</td>\n",
              "      <td>-</td>\n",
              "      <td>-</td>\n",
              "      <td>-</td>\n",
              "      <td>120</td>\n",
              "      <td>3364</td>\n",
              "      <td>0.524178</td>\n",
              "      <td>407</td>\n",
              "      <td>797</td>\n",
              "      <td>0.002424</td>\n",
              "    </tr>\n",
              "    <tr>\n",
              "      <th>26</th>\n",
              "      <td>random</td>\n",
              "      <td>400</td>\n",
              "      <td>0.100</td>\n",
              "      <td>-</td>\n",
              "      <td>-</td>\n",
              "      <td>-</td>\n",
              "      <td>348</td>\n",
              "      <td>3745</td>\n",
              "      <td>2.752709</td>\n",
              "      <td>343</td>\n",
              "      <td>728</td>\n",
              "      <td>0.032263</td>\n",
              "    </tr>\n",
              "    <tr>\n",
              "      <th>27</th>\n",
              "      <td>random</td>\n",
              "      <td>400</td>\n",
              "      <td>0.050</td>\n",
              "      <td>-</td>\n",
              "      <td>-</td>\n",
              "      <td>-</td>\n",
              "      <td>364</td>\n",
              "      <td>3198</td>\n",
              "      <td>5.374828</td>\n",
              "      <td>155</td>\n",
              "      <td>696</td>\n",
              "      <td>0.121853</td>\n",
              "    </tr>\n",
              "    <tr>\n",
              "      <th>28</th>\n",
              "      <td>random</td>\n",
              "      <td>400</td>\n",
              "      <td>0.010</td>\n",
              "      <td>-</td>\n",
              "      <td>-</td>\n",
              "      <td>-</td>\n",
              "      <td>315</td>\n",
              "      <td>2486</td>\n",
              "      <td>27.099968</td>\n",
              "      <td>368</td>\n",
              "      <td>704</td>\n",
              "      <td>2.876832</td>\n",
              "    </tr>\n",
              "    <tr>\n",
              "      <th>29</th>\n",
              "      <td>random</td>\n",
              "      <td>400</td>\n",
              "      <td>0.001</td>\n",
              "      <td>-</td>\n",
              "      <td>-</td>\n",
              "      <td>-</td>\n",
              "      <td>321</td>\n",
              "      <td>3618</td>\n",
              "      <td>220.698660</td>\n",
              "      <td>88</td>\n",
              "      <td>750</td>\n",
              "      <td>295.008190</td>\n",
              "    </tr>\n",
              "  </tbody>\n",
              "</table>\n",
              "</div>"
            ],
            "text/plain": [
              "          Данные  ... Ибарра-Ким: время\n",
              "0     sequential  ...          0.000056\n",
              "1     sequential  ...          0.000049\n",
              "2     sequential  ...          0.000088\n",
              "3     sequential  ...          0.000103\n",
              "4     sequential  ...          0.000068\n",
              "5     sequential  ...          0.000362\n",
              "6     sequential  ...          0.000296\n",
              "7     sequential  ...          0.000295\n",
              "8     sequential  ...          0.000290\n",
              "9     sequential  ...          0.000370\n",
              "10  power of two  ...          0.000046\n",
              "11  power of two  ...          0.000050\n",
              "12  power of two  ...          0.000052\n",
              "13  power of two  ...          0.000063\n",
              "14  power of two  ...          0.000070\n",
              "15  power of two  ...          0.001013\n",
              "16  power of two  ...          0.005459\n",
              "17  power of two  ...          0.018622\n",
              "18  power of two  ...          0.444313\n",
              "19  power of two  ...         63.016087\n",
              "20        random  ...          0.000258\n",
              "21        random  ...          0.003796\n",
              "22        random  ...          0.011512\n",
              "23        random  ...          0.330504\n",
              "24        random  ...         36.611033\n",
              "25        random  ...          0.002424\n",
              "26        random  ...          0.032263\n",
              "27        random  ...          0.121853\n",
              "28        random  ...          2.876832\n",
              "29        random  ...        295.008190\n",
              "\n",
              "[30 rows x 12 columns]"
            ]
          },
          "metadata": {
            "tags": []
          },
          "execution_count": 20
        }
      ]
    },
    {
      "cell_type": "markdown",
      "metadata": {
        "id": "3jmrs1Sg68m_",
        "colab_type": "text"
      },
      "source": [
        "# Conclusion"
      ]
    },
    {
      "cell_type": "markdown",
      "metadata": {
        "id": "tCY4_5Dy93RT",
        "colab_type": "text"
      },
      "source": [
        "*   Задача о рюкзаке является **NP-полной**.\n",
        "*   Алгоритмы полиномиального приближения дают хорошую аппроксимацию ответа."
      ]
    },
    {
      "cell_type": "markdown",
      "metadata": {
        "id": "BkgKk4FY684a",
        "colab_type": "text"
      },
      "source": [
        "# References"
      ]
    },
    {
      "cell_type": "markdown",
      "metadata": {
        "id": "-zfd2lCy94E4",
        "colab_type": "text"
      },
      "source": [
        "1.  Д.В. Мусатов, черновики лекций по дисциплине Сложности вычислений.\n",
        "\n",
        "2.  М.Гэри, Д.Джонсон. *Вычислительные машины и труднорешаемые задачи*. М: Мир,\n",
        "1982.\n",
        "Ibarra, Oscar H. and Kim, *Chul E. Fast Approximation Algorithms for the Knapsack and Sum of Subset Problems*, J. ACM, Volume 22 Issue 4, Oct. 1975.\n",
        "\n",
        "4.  Vijay V. Vazirani. *Approximation Algorithms*. Georgia Institute of Technology, College of Computing.\n",
        "\n",
        "5.  Eugene L. Lawler. *Fast Approximation Algorithms for Knapsack Problems*."
      ]
    }
  ]
}
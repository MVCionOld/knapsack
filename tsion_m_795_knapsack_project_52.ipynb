{
  "nbformat": 4,
  "nbformat_minor": 0,
  "metadata": {
    "colab": {
      "name": "tsion.m.795.knapsack.project.52.ipynb",
      "provenance": [],
      "collapsed_sections": []
    },
    "kernelspec": {
      "name": "python3",
      "display_name": "Python 3"
    }
  },
  "cells": [
    {
      "cell_type": "code",
      "metadata": {
        "id": "Oq_h1aAJrWLE",
        "colab_type": "code",
        "colab": {}
      },
      "source": [
        "from copy import copy \n",
        "from collections import namedtuple\n",
        "from functools import reduce\n",
        "\n",
        "import math\n",
        "\n",
        "\n",
        "Item = namedtuple('Item', ['cost', 'weight'])"
      ],
      "execution_count": 0,
      "outputs": []
    },
    {
      "cell_type": "markdown",
      "metadata": {
        "id": "VQQyTus7rk77",
        "colab_type": "text"
      },
      "source": [
        "Обозначим через $opt(k,c)$ минимальный объем, необходимый для того, чтобы уложить предметы с номерами, не превосходящими $k ∈ [1..n]$, общей стоимостью не менее $c$.\n",
        "\n",
        "1. Положим $opt(0,0) = 0,$  $opt(0,p) = ∞, p > 0$\n",
        "\n",
        "2. В цикле по $k$ от 1 до $n$ вычислим $opt(k,c)$ для каждого $c$ от $1$ до $\\sum_{i∈[1..n]} c_i$:   \n",
        "      $opt(k + 1, c) = min${ $opt(k, c),$  $opt(k, c − c_{k+1}) + w_{k+1}$ }   \n",
        "\n",
        "3. В качестве ответа вернем $max$ {$c$  |  $opt(n,c) ≤ C$}"
      ]
    },
    {
      "cell_type": "code",
      "metadata": {
        "id": "AIp52Q5KrnAT",
        "colab_type": "code",
        "colab": {}
      },
      "source": [
        "def launch_pseudo_poly(items, min_cost, max_weight):\n",
        "    n, inf = len(items), max_weight+1\n",
        "    max_cost = reduce(lambda cost, item: cost + item.cost, items, 0)\n",
        "    opt = [[inf if k==0 and c>0 else 0 for c in range(max_cost+1)] \n",
        "                       for k in range(n+1)]\n",
        "    for k in range(0, n):\n",
        "        for c in range(1, max_cost+1):\n",
        "            opt[k+1][c] = min(opt[k][c], opt[k][max(0, c-items[k].cost)] + items[k].weight)\n",
        "    print(opt)\n",
        "    return max([0]+list(filter(lambda c: opt[n][c]<=max_weight, range(min_cost, max_cost+1))))"
      ],
      "execution_count": 0,
      "outputs": []
    },
    {
      "cell_type": "code",
      "metadata": {
        "id": "2btJZxroroRq",
        "colab_type": "code",
        "colab": {}
      },
      "source": [
        "print(launch_pseudo_poly([Item(cost=1, weight=2), Item(cost=2, weight=3)], 3, 5))"
      ],
      "execution_count": 0,
      "outputs": []
    },
    {
      "cell_type": "markdown",
      "metadata": {
        "id": "6lPPMHXpzFij",
        "colab_type": "text"
      },
      "source": [
        "\n",
        "\n",
        "---\n",
        "\n"
      ]
    },
    {
      "cell_type": "code",
      "metadata": {
        "id": "acRFdd75zFs3",
        "colab_type": "code",
        "colab": {}
      },
      "source": [
        "class Item:\n",
        "\n",
        "  def __init__(self, weight=0, value=0):\n",
        "    self.weight = weight\n",
        "    self.cost = cost"
      ],
      "execution_count": 0,
      "outputs": []
    },
    {
      "cell_type": "code",
      "metadata": {
        "id": "FUIMDsdSzVRD",
        "colab_type": "code",
        "colab": {}
      },
      "source": [
        "item_compare = lambda item0, item1: item0.value < item1.value"
      ],
      "execution_count": 0,
      "outputs": []
    },
    {
      "cell_type": "code",
      "metadata": {
        "id": "3eSfriIMzhrn",
        "colab_type": "code",
        "colab": {}
      },
      "source": [
        "class ItemSet:\n",
        "\n",
        "  def __init__(self, item_set=None):\n",
        "    self.item_set = set() if item_set is None else item_set\n",
        "\n",
        "  @property\n",
        "  def max_cost(self):\n",
        "    return max(map(lambda item: item.cost, self.item_set))\n",
        "\n",
        "  @property\n",
        "  def total_cost(self):\n",
        "    return sum(map(lambda item: item.cost, self.item_set))\n",
        "  \n",
        "  @property\n",
        "  def items_count(self):\n",
        "    return len(self.item_set)\n",
        "\n",
        "  def append(self, item: Item):\n",
        "    self.item_set.add(item)"
      ],
      "execution_count": 0,
      "outputs": []
    },
    {
      "cell_type": "code",
      "metadata": {
        "id": "JHOdw3Gb18C5",
        "colab_type": "code",
        "colab": {}
      },
      "source": [
        "from copy import deepcopy\n",
        "\n",
        "\n",
        "class KnapsackHandler(ItemSet):\n",
        "\n",
        "  def __init__(self, items_set: set, capacity, epsilon):\n",
        "    super(ItemSet, self).__init__(items_set)\n",
        "    self.capacity = capacity\n",
        "    self.epsilon = epsilon\n",
        "\n",
        "  def run_poly_algo(self):\n",
        "    total_value = self.total_cost\n",
        "    temp = [-1] * (total_value + 1)\n",
        "    partial_weights = [deepcopy(temp) for _ in range(self.items_count + 1)]\n",
        "    "
      ],
      "execution_count": 0,
      "outputs": []
    },
    {
      "cell_type": "code",
      "metadata": {
        "id": "rpgFqlUqanCv",
        "colab_type": "code",
        "outputId": "2a44465e-679f-415b-9600-007a6d1ae446",
        "colab": {
          "base_uri": "https://localhost:8080/",
          "height": 132
        }
      },
      "source": [
        "#include <iostream>\n",
        "#include <vector>\n",
        "#include <limits>\n",
        "#include <algorithm>\n",
        "#include <map>\n",
        "\n",
        "\n",
        "using std::vector;\n",
        "using std::map;\n",
        "\n",
        "\n",
        "struct Item {\n",
        "    double weight;\n",
        "    double value;\n",
        "\n",
        "    Item() {\n",
        "        weight = 0.0;\n",
        "        value = 0.0;\n",
        "    }\n",
        "\n",
        "    Item(double _weight, double _value) {\n",
        "        weight = _weight;\n",
        "        value = _value;\n",
        "    }\n",
        "};\n",
        "\n",
        "\n",
        "static bool item_compare(Item & first, Item & second) {\n",
        "    return (first.value < second.value);\n",
        "}\n",
        "\n",
        "\n",
        "struct ItemSet {\n",
        "    vector<Item> set;\n",
        "\n",
        "    ItemSet() {\n",
        "        set.resize(0);\n",
        "    }\n",
        "\n",
        "    ItemSet(vector<Item> _set) {\n",
        "        set  =_set;\n",
        "    }\n",
        "\n",
        "    int sum_value() {\n",
        "        double sum = 0;\n",
        "\n",
        "        for (Item item : set) {\n",
        "            sum += item.value;\n",
        "        }\n",
        "\n",
        "        return sum;\n",
        "    }\n",
        "\n",
        "    int sum_weight() {\n",
        "        double sum = 0;\n",
        "\n",
        "        for (Item item : set) {\n",
        "            sum += item.weight;\n",
        "        }\n",
        "\n",
        "        return sum;\n",
        "    }\n",
        "\n",
        "    void append(Item item) {\n",
        "        set.push_back(item);\n",
        "    }\n",
        "};\n",
        "\n",
        "\n",
        "class KnapsackHandler {\n",
        "private:\n",
        "    ItemSet items;\n",
        "    double capacity;\n",
        "    int items_count;\n",
        "    double max_value;\n",
        "    double epsilon;\n",
        "\n",
        "public:\n",
        "    KnapsackHandler(ItemSet & _items, double _capacity, double _epsilon) {\n",
        "        items = _items;\n",
        "        capacity = _capacity;\n",
        "        items_count = items.set.size();\n",
        "        max_value = std::max_element(items.set.begin(), items.set.end(), item_compare)->value;\n",
        "        epsilon = _epsilon;\n",
        "    }\n",
        "\n",
        "    vector<bool> pseudopolynomial_knapsack() {\n",
        "        double total_value = items.sum_value();\n",
        "\n",
        "        vector<double> temp(total_value + 1, -1);\n",
        "        vector<vector<double>> partial_weights(items_count + 1, temp);\n",
        "\n",
        "        vector<bool> temp_set(items_count);\n",
        "        vector<vector<bool>> temp_set_line(total_value + 1, temp_set);\n",
        "        vector<vector<vector<bool>>> partial_sets(items_count + 1, temp_set_line);\n",
        "\n",
        "        for (int value = 1; value <= items_count; ++value) {\n",
        "            partial_weights[0][value] = -1;\n",
        "        }\n",
        "        partial_weights[0][0] = 0;\n",
        "\n",
        "        for (int j = 1; j <= items_count; ++j) {\n",
        "\t\t\tstd::cout << j << \" \";\n",
        "            for (int k = 0; k <= total_value; ++k) {\n",
        "                Item & cur_item = items.set[j - 1];\n",
        "                double previous_value = partial_weights[j - 1][k];\n",
        "                vector<bool> & previous_set = partial_sets[j - 1][k];\n",
        "\n",
        "                if (cur_item.value > k) {\n",
        "                    partial_weights[j][k] = previous_value;\n",
        "                    partial_sets[j][k] = previous_set;\n",
        "                    continue;\n",
        "                }\n",
        "\n",
        "                double test_value = partial_weights[j - 1][k - cur_item.value];\n",
        "                vector<bool> & test_set = partial_sets[j - 1][k - cur_item.value];\n",
        "\n",
        "                if (test_value == -1) {\n",
        "                    partial_weights[j][k] = previous_value;\n",
        "                    partial_sets[j][k] = previous_set;\n",
        "                    continue;\n",
        "                }\n",
        "\n",
        "                double upper_bound = previous_value == -1 ? capacity : std::min(capacity, previous_value);\n",
        "\n",
        "                if (test_value + cur_item.weight <= upper_bound) {\n",
        "                    partial_weights[j][k] = test_value + cur_item.weight;\n",
        "                    partial_sets[j][k] = test_set;\n",
        "                    partial_sets[j][k][j - 1] = true;\n",
        "                } else {\n",
        "                    partial_weights[j][k] = previous_value;\n",
        "                    partial_sets[j][k] = previous_set;\n",
        "                }\n",
        "            }\n",
        "        }\n",
        "\n",
        "        double optimal_value = 0;\n",
        "        for (int k = 0; k <= total_value; ++k) {\n",
        "            if (partial_weights[items_count][k] != -1) {\n",
        "                optimal_value = k;\n",
        "            }\n",
        "        }\n",
        "\n",
        "        return partial_sets[items_count][optimal_value];\n",
        "    }\n",
        "\n",
        "    vector<bool> polinomial_knapsack_approximation() {\n",
        "        double k_epsilon = max_value * epsilon / items_count;\n",
        "\n",
        "        for (int i = 0; i < items_count; ++i) {\n",
        "            items.set[i].value = int(items.set[i].value / k_epsilon);\n",
        "        }\n",
        "\n",
        "        auto optimal_set = pseudopolynomial_knapsack();\n",
        "\n",
        "        return optimal_set;\n",
        "    }\n",
        "};\n",
        "\n",
        "\n",
        "void input(ItemSet & items, double & capacity, double & epsilon) {\n",
        "    int items_count;\n",
        "    std::cin >> items_count;\n",
        "\n",
        "    vector<double> weights, values;\n",
        "    weights.resize(items_count);\n",
        "    values.resize(items_count);\n",
        "\n",
        "    for (int i = 0; i < items_count; ++i) {\n",
        "        std::cin >> weights[i];\n",
        "    }\n",
        "\n",
        "    for (int i = 0; i < items_count; ++i) {\n",
        "        std::cin >> values[i];\n",
        "        items.set.push_back(Item(weights[i], values[i]));\n",
        "    }\n",
        "\n",
        "    std::cin >> capacity;\n",
        "    std::cin >> epsilon;\n",
        "}\n",
        "\n",
        "\n",
        "void output(const vector<bool> optimal_set, const ItemSet & items) {\n",
        "    bool isEmpty = true;\n",
        "\n",
        "    for (int i = 0; i < optimal_set.size(); ++i) {\n",
        "        if (optimal_set[i] == true) {\n",
        "            isEmpty = false;\n",
        "            break;\n",
        "        }\n",
        "    }\n",
        "\n",
        "    if (isEmpty) {\n",
        "        std::cout << \"The optimal knapsack doesn't exist\" << std::endl;\n",
        "        return;\n",
        "    }\n",
        "\n",
        "    std::cout << \"The optimal knapsack includes:\" << std::endl;\n",
        "    for (int i = 0; i < optimal_set.size(); ++i) {\n",
        "        if (optimal_set[i]) {\n",
        "            std::cout << \"Value: \" << items.set[i].value << \", weight: \" << items.set[i].weight << std::endl;\n",
        "        }\n",
        "    }\n",
        "}\n",
        "\n",
        "\n",
        "int main() {\n",
        "    ItemSet items;\n",
        "    double capacity, epsilon;\n",
        "\n",
        "    input(items, capacity, epsilon);\n",
        "\n",
        "    KnapsackHandler knapsack_handler(items, capacity, epsilon);\n",
        "\n",
        "    output(knapsack_handler.polinomial_knapsack_approximation(), items);\n",
        "\n",
        "    return 0;\n",
        "}\n"
      ],
      "execution_count": 0,
      "outputs": [
        {
          "output_type": "error",
          "ename": "SyntaxError",
          "evalue": "ignored",
          "traceback": [
            "\u001b[0;36m  File \u001b[0;32m\"<ipython-input-6-5c1dac6f2ea4>\"\u001b[0;36m, line \u001b[0;32m3\u001b[0m\n\u001b[0;31m    using std::vector;\u001b[0m\n\u001b[0m            ^\u001b[0m\n\u001b[0;31mSyntaxError\u001b[0m\u001b[0;31m:\u001b[0m invalid syntax\n"
          ]
        }
      ]
    },
    {
      "cell_type": "code",
      "metadata": {
        "id": "gsgBWWPgkoMW",
        "colab_type": "code",
        "colab": {}
      },
      "source": [
        "#include <algorithm>\n",
        "#include <chrono>\n",
        "#include <functional>\n",
        "#include <string>\n",
        "#include <iomanip>\n",
        "#include <iostream>\n",
        "#include <limits>\n",
        "#include <map>\n",
        "#include <vector>\n",
        "\n",
        "template<typename T>\n",
        "struct Item {\n",
        "  T weight;\n",
        "  T value;\n",
        "  int64_t round_value;\n",
        "};\n",
        "\n",
        "// Ð¡Ð¾Ð·Ð´Ð°Ñ‘Ñ‚ Ð½Ð°Ð±Ð¾Ñ€ Ð¸Ð· Ð¿Ñ€ÐµÐ´Ð¼ÐµÑ‚Ð¾Ð² Ñ Ð²ÐµÑÐ°Ð¼Ð¸ Ð¸ ÑÑ‚Ð¾Ð¸Ð¼Ð¾ÑÑ‚ÑÐ¼Ð¸ Ð²Ð¸Ð´Ð° C * 2^k\n",
        "template<typename T>\n",
        "std::vector<Item<T>> GeneratePowerTwoItemsSet(int size, T minumim_value) {\n",
        "  std::vector<Item<T>> items;\n",
        "  T current_value = minumim_value;\n",
        "  for (int i = 0; i < size; ++i) {\n",
        "    items.push_back(Item<T>{current_value, current_value, 0});\n",
        "    current_value *= 2;\n",
        "  }\n",
        "  return items;\n",
        "}\n",
        "\n",
        "// Ð¡Ð¾Ð·Ð´Ð°Ñ‘Ñ‚ Ð½Ð°Ð±Ð¾Ñ€ Ð¸Ð· Ð¿Ñ€ÐµÐ´Ð¼ÐµÑ‚Ð¾Ð² Ñ Ð²ÐµÑÐ°Ð¼Ð¸ Ð¸ ÑÑ‚Ð¾Ð¸Ð¼Ð¾ÑÑ‚ÑÐ¼Ð¸ 1, 2, ..., k\n",
        "template<typename T>\n",
        "std::vector<Item<T>> GenerateItemsSeqSet(int size) {\n",
        "  std::vector<Item<T>> items;\n",
        "  for (int i = 0; i < size; ++i) {\n",
        "    items.push_back(Item<T>{static_cast<long double>(i + 1),\n",
        "      static_cast<long double>(i + 1), 0});\n",
        "  }\n",
        "  return items;\n",
        "}\n",
        "\n",
        "// Ð˜Ñ‰ÐµÑ‚ Ñ€ÐµÑˆÐµÐ½Ð¸Ðµ, Ð¿ÐµÑ€ÐµÐ±Ð¸Ñ€Ð°Ñ Ð²ÑÐµ Ð½Ð°Ð±Ð¾Ñ€Ñ‹ Ð¿Ñ€ÐµÐ´Ð¼ÐµÑ‚Ð¾Ð²\n",
        "template<typename T>\n",
        "std::vector<Item<T>> FindSolutionByBruteforce(const std::vector<Item<T>> &items, T max_weight) {\n",
        "  T maximum_value = 0;\n",
        "  uint64_t maximum_set = 0;\n",
        "  \n",
        "  for (uint64_t current_set = 0; current_set < (1 << items.size()); ++current_set) {\n",
        "    T current_value = 0;\n",
        "    T current_weight = 0;\n",
        "    for (int i = 0; i < items.size() && current_weight <= max_weight; ++i) {\n",
        "      if ((current_set >> i) & 1) {\n",
        "        current_value += items[i].value;\n",
        "        current_weight += items[i].weight;\n",
        "      }\n",
        "    }\n",
        "    if (current_weight <= max_weight && current_value > maximum_value) {\n",
        "      maximum_value = current_value;\n",
        "      maximum_set = current_set;\n",
        "    }\n",
        "  }\n",
        "  \n",
        "  std::vector<Item<T>> maximum_set_items;\n",
        "  for (int i = 0; i < items.size(); ++i) {\n",
        "    if ((maximum_set >> i) & 1) {\n",
        "      maximum_set_items.push_back(items[i]);\n",
        "    }\n",
        "  }\n",
        "  return maximum_set_items;\n",
        "}\n",
        "\n",
        "// Ð’ÑÐ¿Ð¾Ð¼Ð¾Ð³Ð°Ñ‚ÐµÐ»ÑŒÐ½Ð°Ñ ÑÑ‚Ñ€ÑƒÐºÑ‚ÑƒÑ€Ð° Ð´Ð»Ñ Ñ€ÐµÑˆÐµÐ½Ð¸Ñ Ð¼ÐµÑ‚Ð¾Ð´Ð¾Ð¼ Ð´Ð¸Ð½Ð°Ð¼Ð¸Ñ‡ÐµÑÐºÐ¾Ð³Ð¾ Ð¿Ñ€Ð¾Ð³Ñ€Ð°Ð¼Ð¼Ð¸Ñ€Ð¾Ð²Ð°Ð½Ð¸Ñ\n",
        "template<typename T>\n",
        "struct DynamicState {\n",
        "  T minumim_weight;\n",
        "  T value;\n",
        "  int last_item;\n",
        "};\n",
        "\n",
        "// Ð˜Ñ‰ÐµÑ‚ Ñ€ÐµÑˆÐµÐ½Ð¸Ðµ Ð¼ÐµÑ‚Ð¾Ð´Ð¾Ð¼ Ð´Ð¸Ð½Ð°Ð¼Ð¸Ñ‡ÐµÑÐºÐ¾Ð³Ð¾ Ð¿Ñ€Ð¾Ð³Ñ€Ð°Ð¼Ð¼Ð¸Ñ€Ð¾Ð²Ð°Ð½Ð¸Ñ\n",
        "// BÑÐ¿Ð¾Ð»ÑŒÐ·ÑƒÑŽÑ‚ÑÑ Ð·Ð½Ð°Ñ‡ÐµÐ½Ð¸Ñ round_value\n",
        "template<typename T>\n",
        "std::vector<DynamicState<T>> FindSolutionByDynamic(std::vector<Item<T>> items, T max_weight,\n",
        "                                                   int64_t max_value = 0) {\n",
        "  if (max_value == 0) {\n",
        "    for (const auto &item : items) {\n",
        "      max_value += item.round_value;\n",
        "    }\n",
        "  }\n",
        "  \n",
        "  std::vector<DynamicState<T>> states(\n",
        "                                      max_value + 1, DynamicState<T>{std::numeric_limits<T>::max(), 0, 0});\n",
        "  states[0] = DynamicState<T>{0, 0, 0};\n",
        "  for (int i = 0; i < items.size(); ++i) {\n",
        "    for (int64_t value = max_value; value >= items[i].round_value; --value) {\n",
        "      if (items[i].weight + states[value - items[i].round_value].minumim_weight <\n",
        "          states[value].minumim_weight) {\n",
        "        states[value] = DynamicState<T>{\n",
        "          items[i].weight + states[value - items[i].round_value].minumim_weight,\n",
        "          items[i].value + states[value - items[i].round_value].value, i};\n",
        "      }\n",
        "    }\n",
        "  }\n",
        "  return states;\n",
        "}\n",
        "\n",
        "// Ð—Ð°Ð¼ÐµÐ½ÑÐµÑ‚ ÑÑ‚Ð¾Ð¸Ð¼Ð¾ÑÑ‚Ð¸ p Ð½Ð° Ñ†ÐµÐ»Ñ‹Ðµ [p / delta]\n",
        "template<typename T>\n",
        "void RoundValues(T delta, std::vector<Item<T>> *items) {\n",
        "  for (auto &item : *items) {\n",
        "    item.round_value = item.value / delta;\n",
        "  }\n",
        "}\n",
        "\n",
        "// Ð˜Ñ‰ÐµÑ‚ Ð¶Ð°Ð´Ð½Ð¾Ðµ Ñ€ÐµÑˆÐµÐ½Ð¸Ðµ Ð¿Ð¾ Ð½Ð°Ð±Ð¾Ñ€Ñƒ Ð¿Ñ€ÐµÐ´Ð¼ÐµÑ‚Ð¾Ð², Ð¾Ñ‚ÑÐ¾Ñ€Ñ‚Ð¸Ñ€Ð¾Ð²Ð°Ð½Ð¾Ð¼Ñƒ Ð¿Ð¾ Ð¿Ð»Ð¾Ñ‚Ð½Ð¾ÑÑ‚Ð¸\n",
        "template<typename T>\n",
        "void FindGreedySolution(\n",
        "                        const std::vector<Item<T>> &items, T max_weight,\n",
        "                        int *greedy_solution_size, T *greedy_solution_weight, T *greedy_solution_value) {\n",
        "  *greedy_solution_size = 0;\n",
        "  *greedy_solution_weight = *greedy_solution_value = 0;\n",
        "  while (*greedy_solution_size < items.size() &&\n",
        "         *greedy_solution_weight + items[*greedy_solution_size].weight < max_weight) {\n",
        "    *greedy_solution_weight += items[*greedy_solution_size].weight;\n",
        "    *greedy_solution_value += items[*greedy_solution_size].value;\n",
        "    ++*greedy_solution_size;\n",
        "  }\n",
        "}\n",
        "\n",
        "// Ð˜Ñ‰ÐµÑ‚ Ð¿Ñ€Ð¸Ð±Ð»ÐµÐ¶ÐµÐ½Ð½Ð¾Ðµ Ñ€ÐµÑˆÐµÐ½Ð¸Ðµ Ð°Ð»Ð³Ð¾Ñ€Ð¸Ñ‚Ð¼Ð¾Ð¼ Ð˜Ð±Ð°Ñ€Ñ€Ñ‹ Ð¸ ÐšÐ¸Ð¼Ð°\n",
        "template<typename T>\n",
        "std::vector<Item<T>> FindApproximateSolutionByIbarraKim(\n",
        "                                                        std::vector<Item<T>> items, T max_weight, T precision) {\n",
        "  \n",
        "  // Ð’Ñ‹ÐºÐ¸Ð½ÐµÐ¼ ÑÐ»Ð¸ÑˆÐºÐ¾Ð¼ Ñ‚ÑÐ¶Ñ‘Ð»Ñ‹Ðµ Ð¿Ñ€ÐµÐ´Ð¼ÐµÑ‚Ñ‹\n",
        "  auto items_end = std::remove_if(items.begin(), items.end(),\n",
        "                                  [max_weight](const Item<T> &item) { return item.weight > max_weight; });\n",
        "  items.resize(std::distance(items.begin(), items_end));\n",
        "  \n",
        "  // ÐžÑ‚ÑÐ¾Ñ€Ñ‚Ð¸Ñ€ÑƒÐµÐ¼ Ð¿Ñ€ÐµÐ´Ð¼ÐµÑ‚Ñ‹ Ð¿Ð¾ Ð¿Ð»Ð¾Ñ‚Ð½Ð¾ÑÑ‚Ð¸\n",
        "  std::sort(items.begin(), items.end(), [](const Item<T> &first, const Item<T> &second) {\n",
        "    return first.value / first.weight > second.value / second.weight;\n",
        "  });\n",
        "  \n",
        "  // ÐÐ°Ð¹Ð´Ñ‘Ð¼ Ñ€Ð°Ð·Ð¼ÐµÑ€ Ð¶Ð°Ð´Ð½Ð¾Ð³Ð¾ Ñ€ÐµÑˆÐµÐ½Ð¸Ñ\n",
        "  int greedy_solution_size = 0;\n",
        "  T greedy_solution_weight = 0;\n",
        "  T greedy_solution_value = 0;\n",
        "  FindGreedySolution(items, max_weight, &greedy_solution_size,\n",
        "                     &greedy_solution_weight, &greedy_solution_value);\n",
        "  \n",
        "  if (greedy_solution_size == items.size()) {\n",
        "    return items;\n",
        "  }\n",
        "  double P_g = greedy_solution_value + items[greedy_solution_size].value;\n",
        "  \n",
        "  // Ð Ð°Ð·Ð¾Ð±ÑŒÑ‘Ð¼ Ð¿Ñ€ÐµÐ´Ð¼ÐµÑ‚Ñ‹ Ð½Ð° Ð´ÐµÑˆÑ‘Ð²Ñ‹Ðµ Ð¸ Ð´Ð¾Ñ€Ð¾Ð³Ð¸Ðµ\n",
        "  auto items_middle = std::stable_partition(items.begin(), items.end(),\n",
        "                                            [P_g, precision](const Item<T> &item) {\n",
        "                                              return item.value >= precision * P_g;\n",
        "                                            });\n",
        "  std::vector<Item<T>> expensive_items(items.begin(), items_middle);\n",
        "  std::vector<Item<T>> cheap_items(items_middle, items.end());\n",
        "  \n",
        "  \n",
        "  // ÐžÐºÑ€ÑƒÐ³Ð»Ð¸Ð¼ ÑÑ‚Ð¾Ð¸Ð¼Ð¾ÑÑ‚Ð¸ Ð´Ð¾Ñ€Ð¾Ð³Ð¸Ñ… Ð¿Ñ€ÐµÐ´Ð¼ÐµÑ‚Ð¾Ð²\n",
        "  RoundValues(precision * precision * P_g, &expensive_items);\n",
        "  \n",
        "  std::vector<DynamicState<T>> dynamic_states =\n",
        "  FindSolutionByDynamic(expensive_items, max_weight, 2 / precision / precision + 1);\n",
        "  \n",
        "  T max_value = 0;\n",
        "  int max_value_exp_rounded_value = 0;\n",
        "  int max_value_greedy_solution_size = 0;\n",
        "  for (int rounded_value = 0; rounded_value < dynamic_states.size(); ++rounded_value) {\n",
        "    if (dynamic_states[rounded_value].minumim_weight > max_weight) {\n",
        "      continue;\n",
        "    }\n",
        "    int local_greedy_solution_size = 0;\n",
        "    T local_greedy_solution_weight = 0;\n",
        "    T local_greedy_solution_value = 0;\n",
        "    FindGreedySolution(\n",
        "                       cheap_items, max_weight - dynamic_states[rounded_value].minumim_weight,\n",
        "                       &local_greedy_solution_size, &local_greedy_solution_weight,\n",
        "                       &local_greedy_solution_value);\n",
        "    \n",
        "    if (local_greedy_solution_value + dynamic_states[rounded_value].value > max_value) {\n",
        "      max_value = local_greedy_solution_value + dynamic_states[rounded_value].value;\n",
        "      max_value_exp_rounded_value = rounded_value;\n",
        "      max_value_greedy_solution_size = local_greedy_solution_size;\n",
        "    }\n",
        "  }\n",
        "  \n",
        "  std::vector<Item<T>> maximum_set_items;\n",
        "  int current_value = max_value_exp_rounded_value;\n",
        "  while (current_value > 0) {\n",
        "    maximum_set_items.push_back(expensive_items[dynamic_states[current_value].last_item]);\n",
        "    current_value -= maximum_set_items.back().round_value;\n",
        "  }\n",
        "  std::reverse(maximum_set_items.begin(), maximum_set_items.end());\n",
        "  for (int i = 0; i < max_value_greedy_solution_size; ++i) {\n",
        "    maximum_set_items.push_back(cheap_items[i]);\n",
        "  }\n",
        "  \n",
        "  return maximum_set_items;\n",
        "}\n",
        "\n",
        "// Ð’Ñ‹Ð²Ð¾Ð´Ð¸Ñ‚ Ð¼Ð½Ð¾Ð¶ÐµÑÑ‚Ð²Ð¾, Ð½Ð°Ð¹Ð´ÐµÐ½Ð½Ð¾Ðµ Ñ€ÐµÑˆÐµÐ½Ð¸ÐµÐ¼\n",
        "template<typename T>\n",
        "void PrintSet(const std::vector<Item<T>> &items) {\n",
        "  T set_value = 0;\n",
        "  T set_weight = 0;\n",
        "  for (const auto &item : items) {\n",
        "    set_value += item.value;\n",
        "    set_weight += item.weight;\n",
        "  }\n",
        "  \n",
        "  std::cout << std::setprecision(18);\n",
        "  std::cout << \"General set price: \" << set_value << \", general set weight: \" << set_weight << \"\\n\";\n",
        "  for (const auto &item : items) {\n",
        "    std::cout << \"item: \" << \"price \" << item.value <<\n",
        "    \", rounded value \" << item.round_value << \", weight \" << item.weight << \"\\n\";\n",
        "  }\n",
        "  std::cout << \"\\n\";\n",
        "}\n",
        "\n",
        "// Ð’Ñ‹Ð·Ñ‹Ð²Ð°ÐµÑ‚ Ñ„ÑƒÐ½ÐºÑ†Ð¸ÑŽ Ð¸ Ð·Ð°Ð¼ÐµÑ€ÑÐµÑ‚ Ð²Ñ€ÐµÐ¼Ñ Ñ€Ð°Ð±Ð¾Ñ‚Ñ‹\n",
        "template<typename F>\n",
        "auto RunAndMeasureTime(F function, double *working_time) {\n",
        "  std::chrono::steady_clock::time_point start_time = std::chrono::steady_clock::now();\n",
        "  auto result = function();\n",
        "  std::chrono::steady_clock::time_point end_time = std::chrono::steady_clock::now();\n",
        "  *working_time = std::chrono::duration_cast<std::chrono::microseconds>(\n",
        "                                                                        end_time - start_time).count();\n",
        "  return result;\n",
        "}\n",
        "\n",
        "// Ð—Ð°Ð¼ÐµÑ€ÑÐµÑ‚ Ð²Ñ€ÐµÐ¼Ñ Ñ€Ð°Ð±Ð¾Ñ‚Ñ‹ Ñ€ÐµÑˆÐµÐ½Ð¸Ñ Ð½Ð° Ð´Ð°Ð½Ð½Ð¾Ð¼ Ð¼Ð½Ð¾Ð¶ÐµÑÑ‚Ð²Ðµ Ð½Ð° Ð´Ð°Ð½Ð½Ñ‹Ñ… Ð·Ð½Ð°Ñ‡ÐµÐ½Ð¸ÑÑ… Ñ‚Ð¾Ñ‡Ð½Ð¾ÑÑ‚Ð¸\n",
        "template<typename T>\n",
        "void TestOnItemsSet(const std::vector<Item<T>> &items, T max_weight,\n",
        "                    const std::vector<T> &precisions, const std::string &comment) {\n",
        "  std::cout << \"running \" << comment << \"...\\n\";\n",
        "  \n",
        "  // {\n",
        "  //     double bruteforce_time;\n",
        "  //     auto bruteforce_solution =\n",
        "  //         RunAndMeasureTime(\n",
        "  //             std::bind(FindSolutionByBruteforce<T>, items, max_weight), &bruteforce_time);\n",
        "  //     std::cout << \"bruteforce time: \" << bruteforce_time << \"ms\\n\";\n",
        "  //     PrintSet(bruteforce_solution);\n",
        "  // }\n",
        "  \n",
        "  for (const auto &precision : precisions) {\n",
        "    double dynamic_time;\n",
        "    auto dynamic_solution = RunAndMeasureTime(\n",
        "                                              std::bind(FindApproximateSolutionByIbarraKim<T>, items, max_weight, precision),\n",
        "                                              &dynamic_time);\n",
        "    std::cout << \"precision: \" << precision <<\n",
        "    \", Ibarra Kim time: \" << dynamic_time/1000 << \"ms\\n\";\n",
        "//    PrintSet(dynamic_solution);\n",
        "  }\n",
        "  \n",
        "  std::cout << \"\\n\\n\";\n",
        "}\n",
        "\n",
        "int main() {\n",
        "  std::vector<Item<double>> items = {\n",
        "    Item<double>{5, 1, 0},\n",
        "    Item<double>{2, 0.9, 0},\n",
        "    Item<double>{3, 0.91, 0},\n",
        "    Item<double>{1, 0.1, 0},\n",
        "  };\n",
        "  \n",
        "  TestOnItemsSet(items, 4.001, {0.5, 0.1, 0.01}, \"sample set\");\n",
        "\n",
        "  TestOnItemsSet<long double>(GeneratePowerTwoItemsSet<long double>(25, 1),\n",
        "                              1000000.001, {0.5, 0.1, 1e-2, 1e-3}, \"25 items 2pow set\");\n",
        "  TestOnItemsSet<long double>(GeneratePowerTwoItemsSet<long double>(27, 1),\n",
        "                              1000000.001, {0.5, 0.1, 1e-2, 1e-3}, \"27 items 2pow set\");\n",
        "  TestOnItemsSet<long double>(GeneratePowerTwoItemsSet<long double>(30, 1),\n",
        "                              1000000.001, {0.5, 0.1, 1e-2, 1e-3}, \"30 items 2pow set\");\n",
        "\n",
        "  TestOnItemsSet<long double>(GenerateItemsSeqSet<long double>(30),\n",
        "                              400, {0.5, 0.1, 1e-2, 1e-3}, \"30 items conseq set\");\n",
        "\n",
        "  TestOnItemsSet<long double>(GenerateItemsSeqSet<long double>(100),\n",
        "                              450, {0.5, 0.1, 1e-2, 1e-3}, \"100 items conseq set\");\n",
        "  \n",
        "  TestOnItemsSet<long double>(GenerateItemsSeqSet<long double>(1000),\n",
        "                              4500, {0.5, 0.1, 1e-2, 1e-3}, \"1000 items conseq set\");\n",
        "\n",
        "  TestOnItemsSet<long double>(GenerateItemsSeqSet<long double>(10000),\n",
        "                              450000, {0.5, 0.1, 1e-2}, \"10000 items conseq set\");\n",
        "  \n",
        "  return 0;\n",
        "}\n"
      ],
      "execution_count": 0,
      "outputs": []
    },
    {
      "cell_type": "markdown",
      "metadata": {
        "id": "CgCc3cMkbyiI",
        "colab_type": "text"
      },
      "source": [
        "\n",
        "\n",
        "---\n",
        "\n",
        "\n",
        "\n",
        "---\n",
        "\n",
        "\n",
        "\n",
        "---\n",
        "\n"
      ]
    },
    {
      "cell_type": "code",
      "metadata": {
        "id": "SbdG2azVbzQi",
        "colab_type": "code",
        "colab": {}
      },
      "source": [
        "class Item(object):\n",
        "\n",
        "  __slots__ = ['weight', 'value', 'round_value']\n",
        "\n",
        "  def __init__(self, weight=0, value=0, round_value=0, *args, **kwargs):\n",
        "    self.weight = weight\n",
        "    self.value = value\n",
        "    self.round_value = round_value"
      ],
      "execution_count": 0,
      "outputs": []
    },
    {
      "cell_type": "code",
      "metadata": {
        "id": "gFfyNHTHsl6u",
        "colab_type": "code",
        "colab": {}
      },
      "source": [
        "class DynamicState(object):\n",
        "  \n",
        "  __slots__ = ['min_weight', 'value', 'last_item']\n",
        "\n",
        "  def __init__(self, min_weight=math.inf, value=0, last_item=-1, *args, **kwargs):\n",
        "    self.min_weight = min_weight\n",
        "    self.value = value\n",
        "    self.last_item = last_item"
      ],
      "execution_count": 0,
      "outputs": []
    },
    {
      "cell_type": "code",
      "metadata": {
        "id": "L2SZwkOAQBig",
        "colab_type": "code",
        "outputId": "0aed69c8-6286-4ea7-ae02-1b76f12f27ff",
        "colab": {
          "base_uri": "https://localhost:8080/",
          "height": 34
        }
      },
      "source": [
        "class GreedySolution(object):\n",
        "    \n",
        "    __slots__ = ['size', 'weight', 'value']\n",
        "\n",
        "    def __init__(self, size=0, weight=0, value=0, *args, **kwargs):\n",
        "        self.size = size\n",
        "        self.weight = weigth\n",
        "        self.value = value\n",
        "\n",
        "    def __iadd__(self, item: Item):\n",
        "      self.size += 1\n",
        "      self.weight = item.weigth\n",
        "      self.value = item.value"
      ],
      "execution_count": 0,
      "outputs": [
        {
          "output_type": "stream",
          "text": [
            "GreedySolution(size=1, weight=2, value=3)\n"
          ],
          "name": "stdout"
        }
      ]
    },
    {
      "cell_type": "code",
      "metadata": {
        "id": "0UZvPul_j3ch",
        "colab_type": "code",
        "colab": {}
      },
      "source": [
        "import math\n",
        "import functools\n",
        "\n",
        "from itertools import combinations, chain"
      ],
      "execution_count": 0,
      "outputs": []
    },
    {
      "cell_type": "code",
      "metadata": {
        "id": "8vtyGNbCVnNE",
        "colab_type": "code",
        "colab": {}
      },
      "source": [
        "all_indexes_subsets = lambda size: filter(\n",
        "    lambda subset: len(subset) > 0,\n",
        "    chain(*[combinations(range(size), i) for i in range(size+1)])\n",
        ")"
      ],
      "execution_count": 0,
      "outputs": []
    },
    {
      "cell_type": "code",
      "metadata": {
        "id": "WZyiH1GhZ0y2",
        "colab_type": "code",
        "colab": {}
      },
      "source": [
        "def solve_bruteforce(items, max_weight) -> tuple:\n",
        "  total_value, total_weight = 0, math.inf\n",
        "  for subset in all_indexes_subsets(len(items)):\n",
        "    sub_total_value, sub_total_weight = 0, math.inf\n",
        "    for index in subset:\n",
        "      sub_total_value += items[index].value\n",
        "      sub_total_weight += items[index].weight\n",
        "    if sub_total_value > total_value:\n",
        "      total_value, total_weight = sub_total_value, sub_total_weight\n",
        "    elif sub_total_value == total_value and sub_total_weight < total_weight:\n",
        "      sub_total_weight = total_weight\n",
        "  return total_weight, total_value"
      ],
      "execution_count": 0,
      "outputs": []
    },
    {
      "cell_type": "code",
      "metadata": {
        "id": "c2kBhbvPZ129",
        "colab_type": "code",
        "colab": {}
      },
      "source": [
        "def solve_dynamic(items, max_weight, max_value=0) -> list:\n",
        "  if max_value == 0:\n",
        "    max_value = functools.reduce(lambda total, item: total + item.round_value,\n",
        "                                items)\n",
        "  states = [DynamicState() for _ in range(max_value+1)]\n",
        "  states[0].min_weight = 0\n",
        "  for (index, item) in enumerate(items):\n",
        "    for value in range(max_value, item.round_value, -1):\n",
        "      if item.weight + states[value-item.round_value].min_weight < \\\n",
        "      states[value].min_weight:\n",
        "        states[value] = DynamicState(\n",
        "            item.weight + states[value-item.round_value].min_weight,\n",
        "            item.value + states[value-item.round_value].value, index\n",
        "        )\n",
        "  return states"
      ],
      "execution_count": 0,
      "outputs": []
    },
    {
      "cell_type": "code",
      "metadata": {
        "id": "M1_g7Cw5jxSd",
        "colab_type": "code",
        "colab": {}
      },
      "source": [
        "def solve_greedy(items, max_weight) -> GreedySolution:\n",
        "  solution = GreedySolution()\n",
        "  while solution.size < len(items) and \\\n",
        "  solution.weight + items[solution.size].weight < max_weigth:\n",
        "    solution += items[solution.size]\n",
        "  return solution"
      ],
      "execution_count": 0,
      "outputs": []
    },
    {
      "cell_type": "code",
      "metadata": {
        "id": "YF5dDR8Fqmb2",
        "colab_type": "code",
        "colab": {}
      },
      "source": [
        "def solve_ibarra_kim(items, max_weight, precision) -> list:\n",
        "  items = list(filter(lambda item: item.weight > max_weight, items))\n",
        "  items = sorted(items, key=lambda item: -item.value/item.weight)\n",
        "  solution = solve_greedy(item, max_weight)\n",
        "  if solution.size == len(items):\n",
        "    return items\n",
        "  P_g = solution.value + items[solution.size].value\n",
        "  threshold = lambda item: item.value >= precision*P_g\n",
        "  antithreshold = lambda item: not threshold(item)\n",
        "  expensive_items = list(filter(threshold, items))\n",
        "  cheap_items = list(filter(antithreshold, items))\n",
        "  for item in items:\n",
        "    item.value = int(item.value / (P_g*precision**2))\n",
        "  dynamic_states = solve_dynamic(expensive_items, max_weight, 2/precision**2+1)\n",
        "  max_value = 0\n",
        "  max_value_exp_rounded_value = 0\n",
        "  max_value_greedy_solution_size = 0\n",
        "  for rounded_value in range(len(dynamic_states)):\n",
        "    if dynamic_states[rounded_value].min_weight > max_weight:\n",
        "      continue\n",
        "    local_greedy = solve_greedy(\n",
        "        items=cheap_items,\n",
        "        max_weight=max_weigth-dynamic_states[rounded_value].min_weight\n",
        "    )\n",
        "    if local_greedy.value + dynamic_states[rounded_value].value > max_value:\n",
        "      max_value = local_greedy.value + dynamic_states[rounded_value].value\n",
        "      max_value_exp_rounded_value = rounded_value\n",
        "      max_value_greedy_solution_size = local_greedy.size\n",
        "  current_value = max_value_exp_rounded_value\n",
        "  maximum_set_items = []\n",
        "  while current_value > 0) {\n",
        "    maximum_set_items.append(\n",
        "        expensive_items[dynamic_states[current_value].last_item]\n",
        "    )\n",
        "    current_value -= maximum_set_items[-1].round_value\n",
        "  maximum_set_items.reverse()\n",
        "  for i in range (max_value_greedy_solution_size):\n",
        "    maximum_set_items.append(cheap_items[i])\n",
        "  return maximum_set_items"
      ],
      "execution_count": 0,
      "outputs": []
    },
    {
      "cell_type": "code",
      "metadata": {
        "id": "RMhwf3NXcxHl",
        "colab_type": "code",
        "colab": {}
      },
      "source": [
        "class GeneratorsFactory:\n",
        "\n",
        "  @staticmethod\n",
        "  def get_power_of_two_items_set(size, min_value):\n",
        "    def items_generator():\n",
        "      nonlocal size, min_value\n",
        "      for _ in range(size):\n",
        "        yield min_value\n",
        "        min_value *= 2\n",
        "    return wrapped_generator\n",
        "\n",
        "  @staticmethod\n",
        "  def get_sequential_items_set(size):\n",
        "    return lambda: range(1, size+1)"
      ],
      "execution_count": 0,
      "outputs": []
    },
    {
      "cell_type": "markdown",
      "metadata": {
        "id": "IVJ2ITBfJtl2",
        "colab_type": "text"
      },
      "source": [
        "# Задача о рюкзаке  \n",
        "\n",
        "##### проект №52  \n",
        "\n",
        "\n",
        "### Выполнил: Михаил Цион, 795\n",
        "\n",
        "\n"
      ]
    },
    {
      "cell_type": "markdown",
      "metadata": {
        "id": "n0XU1CMjJBiD",
        "colab_type": "text"
      },
      "source": [
        "# Основные определения  \n",
        "\n",
        "> **Определение:** Машина распознаёт язык $A$ за время $T(n)$, если она принимает все слова, лежащие в $A$, отвергает все слова, не лежащие в $A$, и на каждом слове $x$ работает не больше $T (|x|)$ шагов.\n",
        "\n",
        "> **Определение:** Классом ${\\bf DTIME(T (n))}$ называется класс языков, которые распознаются за время $O(T(n))$ на детерминированной машине Тьюринга. Иными словами, время работы машины на любом слове длины $n$ не превосходит некоторой константы, умноженной на $T(n)$.\n",
        "\n",
        "> **Определение:** Классом ${\\bf P}$ называется множество языков, распознающихся за полиномиальное время. Формально он определяется так:\n",
        "$$P =\\bigcup\\limits_{c=1}^{\\infty} {\\bf DTIME(n^c)} $$\n",
        "\n",
        "> **Определение:** Классом ${\\bf NTIME(T(n))}$ называется множество языков, распознаваемых на недетерминированной машине Тьюринга за время $O(T(n)$).\n",
        "\n",
        "> **Определение:** Классом ${\\bf NP}$ называется множество языков $A$, для которых существует функция $V(x, s)$ с булевыми значениями, вычислимая за полиномиальное время от длины первого аргумента, такая что:\n",
        "*   Если $x \\in A$, то $ \\exists s \\hspace{2pt} V(x, s) = 1$;\n",
        "*   Если $x \\notin A$, то $ \\forall s \\hspace{2pt} V (x, s) = 0$.\n",
        "\n",
        "\n",
        "> **Определение:** Пусть $A$ и $B$ суть два языка. Тогда $A$ сводится по Карпу к $B$, если существует всюду определённая функция $f : \\{0, 1\\}^* \\longrightarrow \\{0, 1\\}^*$ , вычислимая за полиномиальное время, такая что $x \\in A \\longleftrightarrow f (x) \\in B$. Обозначение: $A \\leq_p B$ . (Индекс $p$ означает полиномиальность).\n",
        "\n",
        "> **Определение:** Язык $B$ является ${\\bf NP}$**-трудным**, если для любого $A \\in {\\bf NP}$ выполнено $A \\leq_p B$. Язык $B$ является ${\\bf NP}$**-полным**, если он ${\\bf NP}$**-трудный** и лежит в ${\\bf NP}$."
      ]
    },
    {
      "cell_type": "markdown",
      "metadata": {
        "id": "aGPdA545LTPj",
        "colab_type": "text"
      },
      "source": [
        "# PROBLEM FORMULATION\n",
        "\n",
        "Дано:\n",
        "*   $n \\in \\mathbb{N}$ предметов\n",
        "*   $w_{i} > 0 -$ вес $i-$го предмета\n",
        "*   $c_{i} > 0 -$ cтоимость $i-$го предмета\n",
        "*   $W \\geq 0 -$ вместимость рюкзака  \n",
        "\n",
        "Требуется найти такое множество предметов $M=\\{(w_{j}, c_{j})| j \\in \\overline{1..n}\\} \\subseteq \\bigcup\\limits_{i=1}^{n} {\\{(w_{i}, c_{i})\\}}$, чтобы\n",
        "$\\sum\\limits_{(w, c) \\in M} w \\leq W$, $\\sum\\limits_{(w, c) \\in M} c \\longrightarrow \\max$. Допускается пустое множество предметов, т.е. $\\forall{i} \\in \\overline{1..n} \\space W < w_{i}$.\n",
        "\n",
        "Далее, задачу о рюкзаке будем называть просто ${\\bf KNAPSACK}$."
      ]
    },
    {
      "cell_type": "markdown",
      "metadata": {
        "id": "fga_64CaPiT_",
        "colab_type": "text"
      },
      "source": [
        "# KNAPSACK $\\in$ NP-Complete  \n",
        "\n",
        "---\n",
        "\n",
        "Прежде, чем доказывать $\\textbf{NP}$**-полноту** для $\\textbf{KNAPSACK}$, сделаем переформулировку задачи, сведя нашу задачу к задачи распознования языка: к условию добавим константу $P \\geq 0$ и будем возвращать **1**, если $\\exists \\hspace{2pt} I \\subset \\overline{1..n}$ и выполнено:\n",
        "*   $\\sum\\limits_{i \\in I} w_i \\leq W$\n",
        "*   $\\sum\\limits_{i \\in I} c_i \\geq P$,  \n",
        "иначе возращаем **0**.\n",
        "\n",
        "---\n",
        "\n",
        "### KNAPSACK $\\in$ NP  \n",
        "Для доказательства принадлежности к $\\textbf{NP}$ воспользуемся сертификатным определением.  \n",
        "Возмем сертификат $s-$ поднабор $\\overline{1..n}$. Если $\\exists{I}$, удовлетворяющий требованиям выше, то $\\exists{s}$, который подадим на вход, как второй аргумент $V(\\cdot; \\cdot)$, а $V(\\cdot; s)$ проверит, что $I$ соответствует соотношениям выше.  \n",
        "   \n",
        "**Следовательно, KNAPSACK принадлежит NP.**\n",
        "\n",
        "---\n",
        "\n",
        "### KNAPSACK $\\in$ NP-Hard  \n",
        "Для начала, рассмотрим частный случай задачи о рюкзаке $-$ $\\textbf{SUBSETSUM}$.\n",
        "Пусть дано множество $S$, состоящее из $n$ чисел. Нужно выяснить, существует ли его подмножество с суммой чисел, равной $s$. Это можно рассматривать как $\\textbf{KNAPSACK}$, где $\\forall{i}: c_{i} = w_{i}, P = W = s$. Будем обозначать данную задачу как $(S, s)$.\n",
        "\n",
        "Сведем $\\textbf{NP}$-трудную задачу о выполнимости булевой формулы в форме 3-КНФ ($\\textbf{3-SAT}$) к $\\textbf{SUBSETSUM}$, а т.е. и к $\\textbf{KNAPSACK}$.\n",
        "\n",
        "Пусть задана 3-КНФ формула $\\phi$ от $n$ переменных, состоящая из $k$ пар скобок $C_i$. Считаем, что ни одна пара скобок не содержит одновременно переменную и ее отрицание, и каждая переменная входит хотя бы в одну пару скобок.\n",
        "\n",
        "Построим сводящую функцию $f: \\phi \\Rightarrow (S, s) $: \\\\\n",
        "Для каждой переменной $x_i$ и для каждой пары скобок $C_j$ создадим по два числа в десятичной системе счисления, каждое длиной $n+k$ цифр. Эти числа образуют $S$. Присвоим каждому разряду полученных чисел метку (одинаковую для всех чисел), соответствующую либо переменной, либо паре скобок. Метки, соответствующие парам скобок, присвоены $k$ младшим разрядам чисел.\n",
        "*  В числе $s$ все разряды, соответствующие переменным, установим 1, а оставшиеся сделаем равными 4.\n",
        "*  Каждой переменной $x_i$ соответствуют два числа из $S$: $v_i$ и $u_i$. В обоих числах установим разряд, соответствующий данной переменной равным $1$, все остальные разряды переменных -- $0$. Для числа $v_i$ установим разряды, соответствующие скобках, в которые входит $x_i$, равными $1$, все остальные -- $0$. В $u_i$ же сделаем то же самое, но с $\\lnot x_i$\n",
        "*  Каждой паре скобок $C_{j}$ соответствуют два числа из $S$ : $d_{i}$ и $e_{i}$. Оба этих числа содержат 0 во всех разрядах, кроме соответствующего $C_{j}$. В этом разряде у $d_{i}$ 1, а у $e_{i}$ 2.  \n",
        "\n",
        "Докажем корректность определенной выше функции, т.е. то, что мы действительно сводим $\\textbf{3-SAT}$ к $\\textbf{SUBSETSUM}$, и делаем это полиномиально.\n",
        "*  Полученное множество $S$ состоит из $2(n + k)$ чисел, выставить каждый разряд точно возможно за полином, значит и само сведение выполняется за полином.\n",
        "*  Пусть в $S$ существует подмножество $S'$, т.ч. $\\sum\\limits_{s_{i} \\in S'} s_{i} = s$. Докажем, что $\\phi$ выполнима. Заметим, набору $S'$ обязательно принадлежит ровно одно из $v_{i}$ и $u_{i}$, т.к. в $s$ соответствующий $x_{i}$ разряд равен $1$. Если принадлежит $u_{i}$ сделаем $x_{i} = 1$, иначе $-$ $0$. Далее, т.к. разряды, соответствующие скобкам равны $4$, а с помощью $d_{j}$ и $e_{j}$ мы можем получить максимум число $3$ в разряде, то в любой скобке есть хотя бы один выбранный нами терм ($x_{i}$, если в $S'$ лежит $u_{i}$, или его отрицание в другом случае). А значит, каждый дизъюнкт верен. Значит, верна и исходная формула.\n",
        "*  Пусть $\\phi$ выполнима, т.е. существует набор значений переменных $y_{1},...,y_{n}$, при которых формула истинна. Пусть $S$ и $s$ получены после сводимости. Нужно доказать, что в $S$ существует подмножество (обозначим за $S'$) с суммой, равной $s$. Для каждой переменной $x_{i}$ добавим $v_{i}$ в $S'$, если $y_{i} = 1$, иначе $-$ $u_{i}$. Заметим, что для каждого разряда, соответствующего скобках, в уже набранной части $S'$ есть не менее одного и не более трех чисел, у которых в данном разряде стоит $1$. Значит для каждого соответствующего паре скобок $C_{j}$ разряда мы сможем выбрать одно или оба числа $d_{j}$ и $e_{j}$ так, чтобы сумма в данном разряде стала равной $4$. Добавим их в $S'$. Заметим, что суммы во всех разрядах, соответствующих переменным, равны $1$, так как для каждого $i$ выбиралось только одно число из $v_{i}$ и $u_{i}$. Значит, теперь $\\sum\\limits_{s_{i} \\in S'} s_{i} = s$.  \n",
        "\n",
        "Значит, доказали **NP**-трудность задачи $\\textbf{SUBSETSUM}$, а, значит, и **NP**-трудность задачи о рюкзаке. **Следовательно, KNAPSACK принадлежит к NP-трудным.**\n",
        "\n",
        "\n",
        "---\n",
        "\n",
        "\n",
        " Доказав принадлежность к **NP** и **NP-трудным**, мы доказали, что **KNAPSACK принадлежит к NP-полным.**\n"
      ]
    },
    {
      "cell_type": "markdown",
      "metadata": {
        "id": "SjrdtRtTa6SO",
        "colab_type": "text"
      },
      "source": [
        "**Рассмотрим** несколько подходов решения задачи о рюкзаке."
      ]
    },
    {
      "cell_type": "markdown",
      "metadata": {
        "id": "1sZvBkIHN3ZM",
        "colab_type": "text"
      },
      "source": [
        "# Bruteforce algorithm  \n",
        "\n",
        "*Самым тривиальным* решением задачи о рюкзаке есть полный перебор всех подмножеств множества предметов и отыскания того набора, вес которого не превосходит установленного порога, а суммарная стоимость максимальна.  \n",
        "\n",
        "**Время работы алгоритма:** $O(n \\cdot 2^{n})$.\n"
      ]
    },
    {
      "cell_type": "markdown",
      "metadata": {
        "id": "NYFqGSEgN5uD",
        "colab_type": "text"
      },
      "source": [
        "# Implementation"
      ]
    },
    {
      "cell_type": "code",
      "metadata": {
        "id": "caYleL4iN36L",
        "colab_type": "code",
        "colab": {}
      },
      "source": [
        "import functools\n",
        "from itertools import (\n",
        "  chain,\n",
        "  combinations)\n",
        "import math\n",
        "import operator"
      ],
      "execution_count": 0,
      "outputs": []
    },
    {
      "cell_type": "code",
      "metadata": {
        "id": "yPHe9YHiIprU",
        "colab_type": "code",
        "colab": {}
      },
      "source": [
        "class Item(object):\n",
        "\n",
        "  __slots__ = ['weight', 'cost', 'rounded_cost']\n",
        "\n",
        "  def __init__(self, weight=0, cost=0, rounded_cost=0, *args, **kwargs):\n",
        "    self.weight = weight\n",
        "    self.cost = cost\n",
        "    self.rounded_cost = rounded_cost"
      ],
      "execution_count": 0,
      "outputs": []
    },
    {
      "cell_type": "markdown",
      "metadata": {
        "id": "Mp5qv2SQV-d-",
        "colab_type": "text"
      },
      "source": [
        "Лямбда-функция $\\verb|all_indexes_subsets|$ от $\\verb|n|$ возращает список элементов из $2^{\\{0...n-1\\}}-$ множество множеств всех возможных индексов предметов (в теоретическом изложении индексация начинается с $1$, а в реализации c $0$)."
      ]
    },
    {
      "cell_type": "code",
      "metadata": {
        "id": "tNS89W7hVh_p",
        "colab_type": "code",
        "colab": {}
      },
      "source": [
        "all_indexes_subsets = lambda size: filter(\n",
        "    lambda subset: len(subset) > 0,\n",
        "    chain(*[combinations(range(size), i) for i in range(size+1)])\n",
        ")"
      ],
      "execution_count": 0,
      "outputs": []
    },
    {
      "cell_type": "code",
      "metadata": {
        "id": "Y5ufPw1BVnnY",
        "colab_type": "code",
        "colab": {}
      },
      "source": [
        "def launch_bruteforce(items, max_weight) -> tuple:\n",
        "  total_value, total_weight = 0, 0\n",
        "  for index_subset in all_indexes_subsets(len(items)):\n",
        "    sub_total_value, sub_total_weight = 0, 0\n",
        "    for index in index_subset:\n",
        "      sub_total_value += items[index].value\n",
        "      sub_total_weight += items[index].weight\n",
        "    if sub_total_value > total_value and sub_total_weight <= max_weight:\n",
        "      total_value, total_weight = sub_total_value, sub_total_weight\n",
        "  return total_weight, total_value"
      ],
      "execution_count": 0,
      "outputs": []
    },
    {
      "cell_type": "markdown",
      "metadata": {
        "id": "QBHqZZrNGRDU",
        "colab_type": "text"
      },
      "source": [
        "# Greedy algorithm  \n",
        "\n",
        "**Алгоритм:**  \n",
        "*  Удалим все объекты, вес которых больше, чем $W$. Если для оставшихся $n^{'}\\leq n$ объектов выполнено: $\\sum\\limits_{i=1}^{n^{'}} w_{i} \\leq W$, то все эти объекты и являются ответом жадного алгоритма. Иначе переходим к следующим пунктам.\n",
        "*  Обозначим $p_{i} := \\frac{c_{i}}{w_{i}}$ и отсортируем элементы ${x_i}$ по убыванию $p_i$\n",
        "*  Выберем $k:\\space\\sum\\limits_{i=1}^{k} w_i \\leq W < \\sum\\limits_{i=1}^{k + 1} w_i$.\n",
        "*  Первые $k$ объектов после сортировки являются ответом жадного алгоритма..  \n",
        "\n",
        "**Заметим**, что для ответа такого алгоритма выполнено (обозначим за $C'$ значение истинного ответа на задачу):\n",
        "$$\n",
        "\\sum\\limits_{i=1}^{k} c_{i} \\leq C' < \\sum\\limits_{i=1}^{k+1} c_{i}\n",
        "$$  \n",
        "\n",
        "**Доказательство:**  \n",
        "Обозначим $W' = \\sum\\limits_{i=1}^{k + 1} w_i$.  \n",
        "Для задачи с максимальным весом $W'$ решением будет будут первые $(k+1)$ объект после сортировки, с общей стоимостью $\\sum\\limits_{i=1}^{k + 1} c_i$, т.к. эти предметы обладают большей ценой за единицу измерения веса и занимают весь вес. Значит, исходная задача не могла иметь решение с большей стоимостью, т.к. $W \\leq W'$.  \n",
        "\n",
        "**Время работы алгоритма:**  \n",
        "$O(n \\log n)$ или $O(n^{2})$, в зависимости от используемой сортировки."
      ]
    },
    {
      "cell_type": "markdown",
      "metadata": {
        "id": "cEj0TEJGIpKu",
        "colab_type": "text"
      },
      "source": [
        "# Implementation"
      ]
    },
    {
      "cell_type": "code",
      "metadata": {
        "id": "tuSIcbnMJZm2",
        "colab_type": "code",
        "colab": {}
      },
      "source": [
        "class GreedySolution(object):\n",
        "    \n",
        "    __slots__ = ['size', 'weight', 'cost']\n",
        "\n",
        "    def __init__(self, size=0, weight=0, cost=0, *args, **kwargs):\n",
        "        self.size = size\n",
        "        self.weight = weight\n",
        "        self.cost = cost\n",
        "\n",
        "    def __iadd__(self, item: Item):\n",
        "      self.size += 1\n",
        "      self.weight = item.weight\n",
        "      self.cost = item.cost"
      ],
      "execution_count": 0,
      "outputs": []
    },
    {
      "cell_type": "code",
      "metadata": {
        "id": "bJssRyqEbW9A",
        "colab_type": "code",
        "colab": {}
      },
      "source": [
        "def launch_greedy(items, max_weight) -> GreedySolution:\n",
        "  lifting_items = list(filter(lambda item: item.weight < max_weight, items))\n",
        "  solution = functools.reduce(function=operator.iadd, iterable=lifting_items,\n",
        "                        initializer=GreedySolution())\n",
        "  if solution.weight > max_weight:\n",
        "    lifting_items.sort(key=lambda item: -item.cost/item.weight)\n",
        "    solution = GreedySolution()\n",
        "    while solution.weight <= max_weight and solution.size < len(lifting_items):\n",
        "      if solution.weight + lifting_items[solution.size] <= max_weight:\n",
        "        solution += lifting_items[solution.size]\n",
        "      else:\n",
        "        break\n",
        "  return solution"
      ],
      "execution_count": 0,
      "outputs": []
    },
    {
      "cell_type": "markdown",
      "metadata": {
        "id": "kwgmqdCrkm_y",
        "colab_type": "text"
      },
      "source": [
        "# Pseudo-polynomial algorithm  \n",
        "\n",
        "В полиномиальной схеме приближения задачи о рюкзаке будет использоваться псевдополиномиальный алгоритм c целыми стоимостями.\n",
        "> **Определение:** Алгоритм называется псевдополиномиальным, если работает полиномиально от размера входных данных, записанных в унарном виде.\n",
        "\n",
        "Обозначим за $w(k, c)$ наименьшей вес подмножества первых $k$ объектов, имеющего стоимость $c$. Имеют место следующие соотношения для нашего алгоритма:\n",
        "*  $w(0, 0) = 0$\n",
        "*  $w(0, c) = +\\infty$\n",
        "*  $w(k+1, c) = \\min (w(k, c), \\hspace{2pt} w(k, c - c_{k+1}) + w_{k + 1})$\n",
        "\n",
        "Нетрудно заметить, что посторенный алгоритм относится к алгоритмам из двумерной динамики.\n",
        "\n",
        "**Используемая память:**  \n",
        "Пусть мы обладаем знанием, что максимальная стоимость $C' \\leq T$, тогда всего потребуется $(n+1)T$ состояний, т.е. $O(T)$ памяти.  \n",
        "\n",
        "**Время работы алгоритма:**  \n",
        "Работает же алгоритм за $O(n \\cdot T)$, т.к. при добавлении каждого объекта достаточно просмотреть $T$ состояний. Понятно, что $T$ не больше $\\sum_{i=1}^{n}c_{i} \\leq n\\cdot \\max\\limits_{1\\leq i\\leq n} c_{i}$. Следовательно, итоговое время работы полиномиально."
      ]
    },
    {
      "cell_type": "code",
      "metadata": {
        "id": "q2QeZZzFt0sd",
        "colab_type": "code",
        "colab": {}
      },
      "source": [
        "class DynamicState(object):\n",
        "  \n",
        "  __slots__ = ['min_weight', 'value', 'last_item']\n",
        "\n",
        "  def __init__(self, min_weight=math.inf, value=0, last_item=-1, *args, **kwargs):\n",
        "    self.min_weight = min_weight\n",
        "    self.value = value\n",
        "    self.last_item = last_item"
      ],
      "execution_count": 0,
      "outputs": []
    },
    {
      "cell_type": "code",
      "metadata": {
        "id": "S1VYtIW3t7cx",
        "colab_type": "code",
        "colab": {}
      },
      "source": [
        "def launch_dynamic(items, max_weight, max_cost=0) -> list:\n",
        "  if max_cost == 0:\n",
        "    max_cost = functools.reduce(\n",
        "        function=lambda total, item: total + item.cost,\n",
        "        iterable=items)\n",
        "  states = [DynamicState() for _ in range(max_cost+1)]\n",
        "  states[0].min_weight = 0\n",
        "  for (index, item) in enumerate(items):\n",
        "    for cost in range(max_cost, item.cost, -1):\n",
        "      if item.weight + states[cost-item.cost].min_weight < \\\n",
        "      states[cost].min_weight:\n",
        "        states[cost] = DynamicState(\n",
        "            item.weight + states[cost-item.cost].min_weight,\n",
        "            item.cost + states[cost-item.cost].cost, index\n",
        "        )\n",
        "  return states"
      ],
      "execution_count": 0,
      "outputs": []
    },
    {
      "cell_type": "markdown",
      "metadata": {
        "id": "WfHe9W53sch9",
        "colab_type": "text"
      },
      "source": [
        "# Polynomial approximation  \n",
        "\n",
        "> **Определение:** Пусть у нас есть $\\textbf{NP}$-сложная задача максимизации функции $f$, $E-$ ее входные данные, $C_{E}-$ оптимальный ответ на входе $E$. Алгоритм называется **$(1 - \\varepsilon)-$приближением** для решения данной задачи, если на входе $(E, \\varepsilon)$ он выдает такое ответ $C_{E}^{'}$, что $C_{E}^{'} \\geq (1 - \\varepsilon) \\cdot C_{E}$. Если алгоритм работает за полиномиальное время от размера входа и $\\frac{1}{\\varepsilon}$, то он называется **полиномиальным приближением**.  \n",
        "\n",
        "В предположении $\\textbf{P} \\neq \\textbf{NP}$ задача о рюкзаке не имеет полиномиального алгоритма решения. Но при этом, если придумать алгоритм полиномиального приближения, то за полиномиальное время мы научимся приближенно решать задачу, получая ответ заданной точности.  \n",
        "\n",
        "Обозначим максимально возможную стоимость предметов, общего веса $\\leq W$ за $C'$. Рассмотрим два алгоритма:  \n",
        "\n",
        "\n",
        "*   основанный на подходе динамического программирования\n",
        "*   алгоритм Ибарры-Кима\n",
        "\n"
      ]
    },
    {
      "cell_type": "markdown",
      "metadata": {
        "id": "ZyO5WKNAfkK6",
        "colab_type": "text"
      },
      "source": [
        "## Polynomial approximation by dynamic programming  \n",
        "\n",
        "**Алгоритм:**\n",
        "*  Удалим все предметы, масса которых больше максимально возможной.\n",
        "*  Определим $c_{0} := \\max\\limits_{1\\leq i\\leq n} c_{i}$. \n",
        "*  Заменим стоимость каждого предмета $c_{i}$ на $c_{i}^{'} := \\left[\\frac{c_{i}}{\\delta}\\right]$, где нормирующий коэффициент $\\delta$ равен $\\frac{\\varepsilon \\cdot c_{0}}{n}$, а $n-$ это как и всегда количество предметов. \n",
        "*  Для новых стоимостей найдем наилучшее решение псевдополиномиальным алгоритмом, предметы из этого решения и будут ответом (обозначим их индексы за $I$).  \n",
        "\n",
        "> **Теорема.** Построенный алгоритм является полиномиальным приближения задачи о рюкзаке. Временная сложность алгоритма $O(\\frac{n^{3}}{\\varepsilon})$, пространственная сложность $O(\\frac{n^{2}}{\\varepsilon})$.  \n",
        "\n",
        "> **Доказательство.** Докажем, что алгоритм действительно строит $(1 - \\varepsilon)-$приближение. Мы знаем, что псевдополиномиальное приближение находит точное решение. Т.е. переходя от начальных нецелых стоимостей к целым, путем взятия целой части при делении на $\\delta$, мы найдем точное решение в стоимостях $c^{'}$. Пусть $I_{0}-$индексы предметов из истинного решения исходной задачи, $I-$индексы решения задачи в стоимостях $c^{'}>0$, тогда верно:\n",
        "$$\n",
        "\\sum\\limits_{i \\in I} \\frac{c_{i}}{\\delta} \\geq \\sum\\limits_{i \\in I} \\left[\\frac{c_{i}}{\\delta}\\right] \\geq \\sum\\limits_{i \\in I} c_{i}^{'} \\geq \\sum\\limits_{j \\in I_{0}} c_{j}^{'}\n",
        ".$$\n",
        "Значит,\n",
        "$$\n",
        "\\sum\\limits_{i \\in I} c_{i} \\geq \\delta \\cdot \\sum\\limits_{j \\in I_{0}} c_{j}^{'}\n",
        ".$$\n",
        "И из неравенства:\n",
        "$$\n",
        "\\sum\\limits_{i \\in I_{0}} (c_{i} - \\delta \\cdot c_{i}^{'}) = \\sum\\limits_{i \\in I_{0}} (c_{i} - \\delta \\cdot \\left[\\frac{c_{i}}{\\delta}\\right]) = \\delta\\cdot\\sum\\limits_{i \\in I_{0}} (\\frac{c_{i}}{\\delta} - \\left[\\frac{c_{i}}{\\delta}\\right]) \\leq \\delta\\cdot\\sum\\limits_{i \\in I_{0}} 1 = \\delta \\cdot |I_{0}| \\leq \\delta \\cdot n = \\frac{\\varepsilon \\cdot c_{0}}{n} \\cdot n \\leq \\varepsilon \\cdot c_{0} \\leq \\varepsilon \\cdot C^{'}\n",
        ".$$\n",
        "Получаем оценку:\n",
        "$$\n",
        "\\sum\\limits_{i \\in I} c_{i}\\geq \\delta \\cdot \\sum\\limits_{j \\in I_{0}} c_{j}^{'} \\geq \\sum\\limits_{i \\in I_{0}} c_{i} - \\varepsilon \\cdot C^{'} = (\\frac{\\sum\\limits_{i \\in I_{0}} c_{i}}{C^{'}} - \\varepsilon) \\cdot C^{'} \\geq (1 - \\varepsilon) \\cdot C^{'}\n",
        ",$$\n",
        "т.к. $\\sum\\limits_{i \\in I_{0}} c_{i} \\geq C^{'}.$  \n",
        "А, значит, найденный нами набор является $(1-\\varepsilon)-$приближением ответа. Заметим, т.к. $\\frac{c_{0}}{\\delta} = \\frac{n}{\\varepsilon}$, то максимальная стоимость решения не больше, чем $\\frac{n^{2}}{\\varepsilon}$, следовательно, и алгоритм работает за $O(\\frac{n^{3}}{\\varepsilon})$. При этом пространственная сложность $O(\\frac{n^{2}}{\\varepsilon})$\n"
      ]
    },
    {
      "cell_type": "markdown",
      "metadata": {
        "id": "KYaj7iRllzid",
        "colab_type": "text"
      },
      "source": [
        "## Implementation"
      ]
    },
    {
      "cell_type": "code",
      "metadata": {
        "id": "Ep_GNW_Plzw6",
        "colab_type": "code",
        "colab": {}
      },
      "source": [
        ""
      ],
      "execution_count": 0,
      "outputs": []
    },
    {
      "cell_type": "markdown",
      "metadata": {
        "id": "hZZNWL5GfkS6",
        "colab_type": "text"
      },
      "source": [
        "## Polynomial approximation by Ibarra-Kim  \n",
        "\n",
        "Алгоритм гарантированно получает $(1-\\varepsilon)-$приближение в случае, когда $C' \\geq \\max{\\{\\sum\\limits_{i=1}^{k} c_{i}; c_{k+1}\\}}$, где предметы отсортированны как в жадном алгоритме, $k$ взято из него же. Для этого случая будет доказана его корректность.  \n",
        "Суть алгоритма состоит в разделении предметов на **дорогие** и **дешевые**. Для дорогих предметов воспользуемся псевдополиномиальным алгоритмом. Для дешевых, учитывая оставшийся вес от выбранных дорогих, воспользуемся жадным алгоритмом.  \n",
        "\n",
        "**Алгоритм**:\n",
        "*  Обозначим ${\\bf C_{m}} = \\frac{1}{2} \\cdot \\sum\\limits_{i=1}^{k+1} c_{i}$, где $k$ взято из жадного алгоритма (перед этим отсортировали предметы по $p_{i}=\\frac{c_{i}}{w_{i}})$. Имеем ${\\bf C_{m}} \\leq C' \\leq 2 \\cdot {\\bf C_{m}}$, при условии, что $C' \\geq \\max{\\{\\sum\\limits_{i=1}^{k} c_i; c_{k + 1}\\}}$.\n",
        "*  Разделим предметы **дорогие** и **дешевые**. Если $c_i \\geq \\varepsilon \\cdot {\\bf C_m} $, то он дорогой, иначе $-$ дешевый. Пусть дорогие объекты имеют индексы: $1,...,l$, дешевые $-$ $l+1,...,n$.\n",
        "*  Обозначим $\\delta := \\varepsilon^2 \\cdot {\\bf C_{m}}$. Заменим стоимость каждого дорогого на целое число: $c_{i} \\rightarrow \\left[\\frac{c_i}{\\delta}\\right]$\n",
        "*  Обозначим $C_{lim} := [\\frac{2 \\cdot {\\bf C_{m}}}{\\delta}]$, где $m-$ количество дорогих элементов. \n",
        "*  Далее $\\forall c \\in \\{0,...,C_{lim}\\}$: для дорогих $-$ псевдополиномиальным алгоритмом находим $w(m, c)$ (мы нашли минимальный вес дорогих имеющих стоимость не меньше $c$), обозначим соответствующую им стоимость за $C_{c}^{1}$; дешевых $-$ жадным алгоритмом находим объекты, дающие максимальную стоимость, имеющих вес не больше $(W - w(m, c))$, обозначим соответствующую им стоимость за $C_{c}^{2}$; суммируем найденные стоимости.\n",
        "*  Нашим ответом будет $\\max\\limits_{0\\leq j\\leq C_{lim}} \\{C_{j}^{1} + C_{j}^{2}\\}$.   \n",
        "\n",
        "> **Теорема.** При условии $C' \\geq \\max{\\{\\sum\\limits_{i=1}^{k} c_{i}; c_{k + 1}\\}}$ данный алгоритм строит $(1-\\varepsilon)-$приближение истинного решения. Временная сложность алгоритма $O(n \\cdot \\log n + \\frac{n}{\\varepsilon^2})$.  \n",
        "\n",
        "> **Доказательство.**  Докажем, что алгоритм строит $(1-\\varepsilon)-$приближение.  \n",
        "Для **дорогих** предметов верно неравенство, доказанное ранне (в силу того, что целая часть от частного, умноженная на делитель, отличается от делимого менее, чем на делитель):\n",
        "$$\n",
        "c_{i} - \\delta \\cdot c_{i}^{'} \\leq c_{i} - \\delta \\cdot \\left[\\frac{c_{i}}{\\delta}\\right] < \\delta\n",
        "$$\n",
        "При этом, $\\delta = \\varepsilon^2 \\cdot {\\bf C_{m}}$, и для любого дорогого предмета выполнено: $c_{i} \\geq \\varepsilon \\cdot {\\bf C_{m}}$. Из этого получаем, что:\n",
        "$$\n",
        "c_{i} - \\delta c_{i}^{'} < \\varepsilon^2 \\cdot {\\bf C_{m}} \\leq \\varepsilon^2 \\cdot \\frac{c_{i}}{\\varepsilon} = \\varepsilon \\cdot c_{i}\n",
        "$$\n",
        "То есть суммарная ошибка для дорогих не больше, чем $2 \\cdot \\varepsilon \\cdot {\\bf C_{m}}$.  \n",
        "Для **дешевых** предметов мы применяем жадный алгоритм, значит, верно, что найденное решение отличается от истинного не более, чем, на $c_{l+1}$, где $l-$ размер множества предметов, полученного жадным алгоритмом для дешевых предметов, т.е. не более, чем на $\\varepsilon \\cdot {\\bf C_{m}}$. Значит, суммарная ошибка на всех предметах не более $3 \\cdot \\varepsilon \\cdot {\\bf C_{m}} \\leq 3 \\cdot \\varepsilon \\cdot C^{'}$.  \n",
        "Осталось доказать, что алгоритм работает за  $O(n \\cdot \\log n + \\frac{n}{\\varepsilon^2})$.  \n",
        "Сложность сортировки, поиска ${\\bf C_{m}}$ и разделения предметов составляет $O(n \\cdot \\log n)$.  \n",
        "Сложность подсчёта $w(n, c)$ составляет $O({\\bf C_m} \\cdot \\frac{n}{\\delta}) = O(\\frac{n}{\\varepsilon^{2}})$.  \n",
        "Тогда общая **сложность алгоритма**: $O(n \\cdot \\log n + \\frac{n}{\\varepsilon^2})$."
      ]
    },
    {
      "cell_type": "markdown",
      "metadata": {
        "id": "de-8DPo3l1V7",
        "colab_type": "text"
      },
      "source": [
        "## Implementation"
      ]
    },
    {
      "cell_type": "code",
      "metadata": {
        "id": "vluAQczDXx_h",
        "colab_type": "code",
        "colab": {}
      },
      "source": [
        ""
      ],
      "execution_count": 0,
      "outputs": []
    },
    {
      "cell_type": "markdown",
      "metadata": {
        "id": "WVWzAQguzbaG",
        "colab_type": "text"
      },
      "source": [
        "# Testing  \n",
        "\n"
      ]
    },
    {
      "cell_type": "code",
      "metadata": {
        "id": "sami92Xzzeag",
        "colab_type": "code",
        "colab": {}
      },
      "source": [
        "import random\n",
        "\n",
        "\n",
        "class GeneratorsFactory:\n",
        "\n",
        "  @staticmethod\n",
        "  def get_power_of_two_items_set(size, start_weight=1):\n",
        "    def items_generator():\n",
        "      nonlocal size, start_weight\n",
        "      for _ in range(size):\n",
        "        yield Item(start_weight, start_weight)\n",
        "        start_weight *= 2\n",
        "    return wrapped_generator\n",
        "\n",
        "  @staticmethod\n",
        "  def get_sequential_items_set(size, start_weight=1):\n",
        "    for value in range(start_weight, size+start_weight):\n",
        "      yield Item(value, value)\n",
        "\n",
        "  @staticmethod\n",
        "  def get_random_items_set(size, lrange=1, rrange=100):\n",
        "    for value in range(start_weight, size+start_weight):\n",
        "      yield Item(weight=random.randint(lrange, rrange), \n",
        "                 cost=random.randint(lrange, rrange))"
      ],
      "execution_count": 0,
      "outputs": []
    }
  ]
}